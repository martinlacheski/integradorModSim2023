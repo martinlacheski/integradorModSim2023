{
 "cells": [
  {
   "cell_type": "markdown",
   "metadata": {},
   "source": [
    "# CONFIGURACIONES INICIALES"
   ]
  },
  {
   "attachments": {},
   "cell_type": "markdown",
   "metadata": {},
   "source": [
    "Python\n",
    "\n",
    "- Verificar que tenemos instalado python en nuestro sistema operativo\n",
    "\n",
    "Creamos Entorno virtual\n",
    "\n",
    "- En linux ejecutar: python3 -m venv venv\n",
    "- En windows ejecutar: py -m venv venv\n",
    "\n",
    "Activamos entorno virtual\n",
    "\n",
    "- En linux ejecutar:source venv/bin/activate\n",
    "- En windows ejecutar: .\\venv\\script\\activate\n",
    "\n",
    "Instalamos dependencias\n",
    "\n",
    "- pip install numpy\n",
    "- pip install ipython\n",
    "- pip install ipykernel\n",
    "- pip install plotly\n",
    "- pip install matplotlib \n",
    "- pip install nbformat\n",
    "- pip install scipy\n",
    "- pip install pandas\n",
    "\n",
    "Pasos finales\n",
    "\n",
    "- Una vez instalado todo, desactivar el entorno virtual ingresando en la terminal \"deactivate\"\n",
    "- Luego volver a activar el entorno virtual.\n",
    "- crear el kernel para ejecutar los comandos: ipython kernel install --user --name=venv\n",
    "- reiniciamos el Jupyter Notebook\n",
    "- Seleccionar el kernel utilizado en el entorno virtual y no el nativo del sistema operativo, desde VSCODE en la zona superior derecha."
   ]
  },
  {
   "attachments": {},
   "cell_type": "markdown",
   "metadata": {},
   "source": [
    "# Inicio"
   ]
  },
  {
   "cell_type": "markdown",
   "metadata": {},
   "source": [
    "Definimos las variables necesarias para ejecutar"
   ]
  },
  {
   "cell_type": "code",
   "execution_count": 249,
   "metadata": {},
   "outputs": [],
   "source": [
    "############### VARIABLES FIBONACCI #################\n",
    "\n",
    "# primer parametro es \"v1\" que es el valor 1, \n",
    "v1 = 23\n",
    "\n",
    "# para provocar falso\n",
    "# v1 = 1\n",
    "\n",
    "# segundo parametro \"v2\" que es el valor 2,\n",
    "v2 = 67\n",
    "\n",
    "# para provocar falso\n",
    "# v2 = 4\n",
    "\n",
    "# tercer parametro es \"K\" y que es requerido por la funcion para \"(v1 + v2) <= K\"\n",
    "K_Fibonacci = 177\n",
    "\n",
    "############### VARIABLES CONGRUENCIA FUNDAMENTAL #################\n",
    "\n",
    "# primer parametro es \"a\" que multiplica a Vi, \n",
    "a = 2\n",
    "\n",
    "# segundo parametro \"c\" que multiplica a Vi-k, \n",
    "c = 6\n",
    "\n",
    "# para provocar falso\n",
    "# c = 4 # Falso test de Poker\n",
    "# c = 3 # Falso test de Chi\n",
    "\n",
    "# tercer parametro es \"K\" que es la cantidad de espacios a crear antes de los nros aleatorios\n",
    "K_Congruencias = 16\n",
    "\n",
    "# cuarto parametro es \"m\" que es el tope de numeros a generar\n",
    "m = 825\n",
    "\n",
    "# Minimo y Maximo (para utilizar congruencia fundamental entre un rango de valores)\n",
    "\n",
    "minimo = 540\n",
    "\n",
    "maximo = 860\n",
    "\n",
    "############### VARIABLES GENERALES #################\n",
    "\n",
    "# En Fibonacci y Congruencias el parametro \"n\" es la cantidad de numeros que queremos generar\n",
    "n = 1000\n",
    "\n",
    "# Definimos la confianza para aplicar en los TEST's de Poker y Ji Cuadrada\n",
    "confianza = 0.6"
   ]
  },
  {
   "attachments": {},
   "cell_type": "markdown",
   "metadata": {},
   "source": [
    "Importamos las librerias necesarias para ejecutar el codigo"
   ]
  },
  {
   "cell_type": "code",
   "execution_count": 250,
   "metadata": {},
   "outputs": [],
   "source": [
    "import collections\n",
    "import pandas as pd\n",
    "import numpy as np\n",
    "import matplotlib.pyplot as plt\n",
    "import plotly.graph_objects as go\n",
    "import nbformat\n",
    "from scipy.stats import chi2, chisquare\n",
    "import math"
   ]
  },
  {
   "attachments": {},
   "cell_type": "markdown",
   "metadata": {},
   "source": [
    "Definimos la funcion y generamos los numeros aleatorios de Fibonacci y a partir de ahi definimos y generamos los numeros pseudoaleatorios mediante la congruencia fundamental. Estos numeros pseudoaletorios son generados entre los rangos establecidos en las variables"
   ]
  },
  {
   "cell_type": "code",
   "execution_count": 251,
   "metadata": {},
   "outputs": [
    {
     "name": "stdout",
     "output_type": "stream",
     "text": [
      "Listado de numeros aleatorios aplicando Fibonacci:\n",
      "\n",
      "[23, 67, 90, 157, 70, 50, 120, 170, 113, 106, 42, 148, 13, 161, 174, 158, 155, 136, 114, 73, 10, 83, 93, 176, 92, 91, 6, 97, 103, 23, 126, 149, 98, 70, 168, 61, 52, 113, 165, 101, 89, 13, 102, 115, 40, 155, 18, 173, 14, 10, 24, 34, 58, 92, 150, 65, 38, 103, 141, 67, 31, 98, 129, 50, 2, 52, 54, 106, 160, 89, 72, 161, 56, 40, 96, 136, 55, 14, 69, 83, 152, 58, 33, 91, 124, 38, 162, 23, 8, 31, 39, 70, 109, 2, 111, 113, 47, 160, 30, 13, 43, 56, 99, 155, 77, 55, 132, 10, 142, 152, 117, 92, 32, 124, 156, 103, 82, 8, 90, 98, 11, 109, 120, 52, 172, 47, 42, 89, 131, 43, 174, 40, 37, 77, 114, 14, 128, 142, 93, 58, 151, 32, 6, 38, 44, 82, 126, 31, 157, 11, 168, 2, 170, 172, 165, 160, 148, 131, 102, 56, 158, 37, 18, 55, 73, 128, 24, 152, 176, 151, 150, 124, 97, 44, 141, 8, 149, 157, 129, 109, 61, 170, 54, 47, 101, 148, 72, 43, 115, 158, 96, 77, 173, 73, 69, 142, 34, 176, 33, 32, 65, 97, 162, 82, 67, 149, 39, 11, 50, 61, 111, 172, 106, 101, 30, 131, 161, 115, 99, 37, 136, 173, 132, 128, 83, 34, 117, 151, 91, 65, 156, 44, 23, 67, 90, 157, 70, 50, 120, 170, 113, 106, 42, 148, 13, 161, 174, 158, 155, 136, 114, 73, 10, 83, 93, 176, 92, 91, 6, 97, 103, 23, 126, 149, 98, 70, 168, 61, 52, 113, 165, 101, 89, 13, 102, 115, 40, 155, 18, 173, 14, 10, 24, 34, 58, 92, 150, 65, 38, 103, 141, 67, 31, 98, 129, 50, 2, 52, 54, 106, 160, 89, 72, 161, 56, 40, 96, 136, 55, 14, 69, 83, 152, 58, 33, 91, 124, 38, 162, 23, 8, 31, 39, 70, 109, 2, 111, 113, 47, 160, 30, 13, 43, 56, 99, 155, 77, 55, 132, 10, 142, 152, 117, 92, 32, 124, 156, 103, 82, 8, 90, 98, 11, 109, 120, 52, 172, 47, 42, 89, 131, 43, 174, 40, 37, 77, 114, 14, 128, 142, 93, 58, 151, 32, 6, 38, 44, 82, 126, 31, 157, 11, 168, 2, 170, 172, 165, 160, 148, 131, 102, 56, 158, 37, 18, 55, 73, 128, 24, 152, 176, 151, 150, 124, 97, 44, 141, 8, 149, 157, 129, 109, 61, 170, 54, 47, 101, 148, 72, 43, 115, 158, 96, 77, 173, 73, 69, 142, 34, 176, 33, 32, 65, 97, 162, 82, 67, 149, 39, 11, 50, 61, 111, 172, 106, 101, 30, 131, 161, 115, 99, 37, 136, 173, 132, 128, 83, 34, 117, 151, 91, 65, 156, 44, 23, 67, 90, 157, 70, 50, 120, 170, 113, 106, 42, 148, 13, 161, 174, 158, 155, 136, 114, 73, 10, 83, 93, 176, 92, 91, 6, 97, 103, 23, 126, 149, 98, 70, 168, 61, 52, 113, 165, 101, 89, 13, 102, 115, 40, 155, 18, 173, 14, 10, 24, 34, 58, 92, 150, 65, 38, 103, 141, 67, 31, 98, 129, 50, 2, 52, 54, 106, 160, 89, 72, 161, 56, 40, 96, 136, 55, 14, 69, 83, 152, 58, 33, 91, 124, 38, 162, 23, 8, 31, 39, 70, 109, 2, 111, 113, 47, 160, 30, 13, 43, 56, 99, 155, 77, 55, 132, 10, 142, 152, 117, 92, 32, 124, 156, 103, 82, 8, 90, 98, 11, 109, 120, 52, 172, 47, 42, 89, 131, 43, 174, 40, 37, 77, 114, 14, 128, 142, 93, 58, 151, 32, 6, 38, 44, 82, 126, 31, 157, 11, 168, 2, 170, 172, 165, 160, 148, 131, 102, 56, 158, 37, 18, 55, 73, 128, 24, 152, 176, 151, 150, 124, 97, 44, 141, 8, 149, 157, 129, 109, 61, 170, 54, 47, 101, 148, 72, 43, 115, 158, 96, 77, 173, 73, 69, 142, 34, 176, 33, 32, 65, 97, 162, 82, 67, 149, 39, 11, 50, 61, 111, 172, 106, 101, 30, 131, 161, 115, 99, 37, 136, 173, 132, 128, 83, 34, 117, 151, 91, 65, 156, 44, 23, 67, 90, 157, 70, 50, 120, 170, 113, 106, 42, 148, 13, 161, 174, 158, 155, 136, 114, 73, 10, 83, 93, 176, 92, 91, 6, 97, 103, 23, 126, 149, 98, 70, 168, 61, 52, 113, 165, 101, 89, 13, 102, 115, 40, 155, 18, 173, 14, 10, 24, 34, 58, 92, 150, 65, 38, 103, 141, 67, 31, 98, 129, 50, 2, 52, 54, 106, 160, 89, 72, 161, 56, 40, 96, 136, 55, 14, 69, 83, 152, 58, 33, 91, 124, 38, 162, 23, 8, 31, 39, 70, 109, 2, 111, 113, 47, 160, 30, 13, 43, 56, 99, 155, 77, 55, 132, 10, 142, 152, 117, 92, 32, 124, 156, 103, 82, 8, 90, 98, 11, 109, 120, 52, 172, 47, 42, 89, 131, 43, 174, 40, 37, 77, 114, 14, 128, 142, 93, 58, 151, 32, 6, 38, 44, 82, 126, 31, 157, 11, 168, 2, 170, 172, 165, 160, 148, 131, 102, 56, 158, 37, 18, 55, 73, 128, 24, 152, 176, 151, 150, 124, 97, 44, 141, 8, 149, 157, 129, 109, 61, 170, 54, 47, 101, 148, 72, 43, 115, 158, 96, 77, 173, 73, 69, 142, 34, 176, 33, 32, 65, 97, 162, 82, 67, 149, 39, 11, 50, 61, 111, 172, 106, 101, 30, 131, 161, 115, 99, 37, 136, 173, 132, 128, 83, 34, 117, 151, 91, 65, 156, 44, 23, 67, 90, 157, 70, 50, 120, 170, 113, 106, 42, 148, 13, 161, 174, 158, 155, 136, 114, 73, 10, 83, 93, 176, 92, 91, 6, 97, 103, 23, 126, 149, 98, 70, 168, 61, 52, 113, 165, 101, 89, 13, 102, 115, 40, 155, 18, 173, 14, 10, 24, 34, 58, 92, 150, 65, 38, 103, 141, 67, 31, 98, 129, 50, 2, 52, 54, 106, 160, 89, 72, 161, 56, 40]\n",
      "\n",
      "Listado de numeros aleatorios aplicando Congruencia Fundamental entre el rango de valores establecido:\n",
      "\n",
      "[641, 667, 860, 666, 803, 659, 652, 771, 562, 577, 566, 837, 626, 707, 556, 807, 673, 610, 710, 564, 785, 860, 601, 600, 745, 718, 653, 615, 812, 566, 805, 594, 622, 727, 722, 672, 722, 821, 682, 780, 652, 622, 602, 684, 563, 758, 781, 645, 649, 667, 743, 633, 599, 692, 568, 621, 562, 694, 716, 687, 593, 707, 844, 690, 724, 604, 788, 852, 779, 587, 793, 753, 769, 628, 641, 813, 677, 596, 700, 657, 718, 835, 659, 600, 857, 680, 727, 684, 601, 796, 857, 609, 689, 842, 637, 618, 853, 661, 737, 825, 668, 854, 799, 555, 577, 559, 563, 582, 572, 836, 685, 627, 685, 739, 647, 609, 683, 719, 829, 825, 556, 571, 725, 840, 671, 650, 694, 855, 589, 721, 737, 681, 791, 662, 592, 714, 634, 625, 719, 717, 542, 803, 856, 765, 577, 565, 602, 711, 824, 674, 604, 639, 670, 586, 617, 576, 620, 707, 838, 651, 595, 706, 545, 762, 767, 752, 658, 600, 718, 778, 686, 654, 851, 695, 598, 837, 679, 739, 641, 807, 554, 605, 703, 735, 544, 823, 590, 603, 566, 713, 556, 780, 763, 682, 635, 690, 548, 803, 574, 567, 568, 733, 845, 801, 569, 797, 589, 759, 775, 757, 755, 789, 767, 662, 619, 792, 550, 619, 596, 588, 695, 560, 799, 549, 775, 751, 632, 660, 653, 686, 850, 813, 769, 634, 626, 621, 845, 572, 607, 723, 553, 649, 629, 705, 557, 635, 652, 831, 673, 610, 710, 564, 785, 860, 601, 600, 745, 718, 653, 615, 812, 566, 805, 594, 622, 727, 722, 672, 722, 821, 682, 780, 652, 622, 602, 684, 563, 758, 781, 645, 649, 667, 743, 633, 599, 692, 568, 621, 562, 694, 716, 687, 593, 707, 844, 690, 724, 604, 788, 852, 779, 587, 793, 753, 769, 628, 641, 813, 677, 596, 700, 657, 718, 835, 659, 600, 857, 680, 727, 684, 601, 796, 857, 609, 689, 842, 637, 618, 853, 661, 737, 825, 668, 854, 799, 555, 577, 559, 563, 582, 572, 836, 685, 627, 685, 739, 647, 609, 683, 719, 829, 825, 556, 571, 725, 840, 671, 650, 694, 855, 589, 721, 737, 681, 791, 662, 592, 714, 634, 625, 719, 717, 542, 803, 856, 765, 577, 565, 602, 711, 824, 674, 604, 639, 670, 586, 617, 576, 620, 707, 838, 651, 595, 706, 545, 762, 767, 752, 658, 600, 718, 778, 686, 654, 851, 695, 598, 837, 679, 739, 641, 807, 554, 605, 703, 735, 544, 823, 590, 603, 566, 713, 556, 780, 763, 682, 635, 690, 548, 803, 574, 567, 568, 733, 845, 801, 569, 797, 589, 759, 775, 757, 755, 789, 767, 662, 619, 792, 550, 619, 596, 588, 695, 560, 799, 549, 775, 751, 632, 660, 653, 686, 850, 813, 769, 634, 626, 621, 845, 572, 607, 723, 553, 649, 629, 705, 557, 635, 652, 831, 673, 610, 710, 564, 785, 860, 601, 600, 745, 718, 653, 615, 812, 566, 805, 594, 622, 727, 722, 672, 722, 821, 682, 780, 652, 622, 602, 684, 563, 758, 781, 645, 649, 667, 743, 633, 599, 692, 568, 621, 562, 694, 716, 687, 593, 707, 844, 690, 724, 604, 788, 852, 779, 587, 793, 753, 769, 628, 641, 813, 677, 596, 700, 657, 718, 835, 659, 600, 857, 680, 727, 684, 601, 796, 857, 609, 689, 842, 637, 618, 853, 661, 737, 825, 668, 854, 799, 555, 577, 559, 563, 582, 572, 836, 685, 627, 685, 739, 647, 609, 683, 719, 829, 825, 556, 571, 725, 840, 671, 650, 694, 855, 589, 721, 737, 681, 791, 662, 592, 714, 634, 625, 719, 717, 542, 803, 856, 765, 577, 565, 602, 711, 824, 674, 604, 639, 670, 586, 617, 576, 620, 707, 838, 651, 595, 706, 545, 762, 767, 752, 658, 600, 718, 778, 686, 654, 851, 695, 598, 837, 679, 739, 641, 807, 554, 605, 703, 735, 544, 823, 590, 603, 566, 713, 556, 780, 763, 682, 635, 690, 548, 803, 574, 567, 568, 733, 845, 801, 569, 797, 589, 759, 775, 757, 755, 789, 767, 662, 619, 792, 550, 619, 596, 588, 695, 560, 799, 549, 775, 751, 632, 660, 653, 686, 850, 813, 769, 634, 626, 621, 845, 572, 607, 723, 553, 649, 629, 705, 557, 635, 652, 831, 673, 610, 710, 564, 785, 860, 601, 600, 745, 718, 653, 615, 812, 566, 805, 594, 622, 727, 722, 672, 722, 821, 682, 780, 652, 622, 602, 684, 563, 758, 781, 645, 649, 667, 743, 633, 599, 692, 568, 621, 562, 694, 716, 687, 593, 707, 844, 690, 724, 604, 788, 852, 779, 587, 793, 753, 769, 628, 641, 813, 677, 596, 700, 657, 718, 835, 659, 600, 857, 680, 727, 684, 601, 796, 857, 609, 689, 842, 637, 618, 853, 661, 737, 825, 668, 854, 799, 555, 577, 559, 563, 582, 572, 836, 685, 627, 685, 739, 647, 609, 683, 719, 829, 825, 556, 571, 725, 840, 671, 650, 694, 855, 589, 721, 737, 681, 791, 662, 592, 714, 634, 625, 719, 717, 542, 803, 856, 765, 577, 565, 602, 711, 824, 674, 604, 639, 670, 586, 617, 576, 620, 707, 838, 651, 595, 706, 545, 762, 767, 752, 658, 600, 718, 778, 686, 654, 851, 695, 598, 837, 679, 739, 641, 807, 554, 605, 703, 735, 544, 823, 590, 603, 566, 713, 556, 780, 763, 682, 635, 690, 548, 803, 574, 567, 568, 733, 845, 801, 569, 797, 589, 759, 775, 757, 755, 789, 767, 662, 619, 792, 550, 619, 596, 588, 695, 560, 799, 549, 775, 751, 632, 660, 653, 686, 850, 813, 769, 634, 626, 621, 845, 572, 607, 723, 553, 649, 629, 705, 557, 635, 652, 831, 673, 610, 710, 564, 785, 860, 601, 600, 745, 718, 653, 615, 812, 566, 805, 594, 622, 727, 722, 672, 722, 821, 682, 780, 652, 622, 602, 684, 563, 758, 781, 645, 649, 667, 743, 633, 599, 692, 568, 621, 562, 694, 716, 687, 593, 707, 844, 690, 724, 604, 788, 852, 779, 587, 793, 753]\n"
     ]
    }
   ],
   "source": [
    "def fibonacci(v1,v2,K,n):\n",
    "    if v1 < 0:\n",
    "        print('Valor inválido v1, tiene que ser mayor que CERO')\n",
    "    elif v2 < 0:\n",
    "        print('Valor inválido de v2, tiene que ser mayor que CERO')\n",
    "    elif v2 < v1:\n",
    "        print('Valor inválido, v2 es menor que v1')\n",
    "    elif K < 0:\n",
    "        print('Valor inválido de K para Fibonacci, tiene que ser mayor que CERO')\n",
    "    else:\n",
    "        list = []\n",
    "        list.append(v1)\n",
    "        list.append(v2)\n",
    "        for i in range(n):\n",
    "            if (v1 + v2) <= K:\n",
    "                total = v1 + v2 + (0 * K)\n",
    "            else:    \n",
    "                total = v1 + v2 + (-1 * K)\n",
    "                \n",
    "            # Reasignamos las variables\n",
    "            \n",
    "            v1 = v2\n",
    "            v2 = total\n",
    "            \n",
    "            # Agregamos el numero nuevo\n",
    "            \n",
    "            list.append(total)\n",
    "\n",
    "        # Retornamos el listado de numeros aleatorios concatenados \n",
    "        \n",
    "        return(list)\n",
    "    \n",
    "# Generamos el listado de numeros aleatorios aplicando Fibonacci\n",
    "\n",
    "numeros_fibonacci = fibonacci(v1,v2,K_Fibonacci,n)\n",
    "\n",
    "# Imprimimos el array de fibonacci\n",
    "\n",
    "print('Listado de numeros aleatorios aplicando Fibonacci:')\n",
    "print('')\n",
    "print(numeros_fibonacci)\n",
    "\n",
    "def congruencia_fundamental(a,c,K_Congruencias,m,n, minimo, maximo):\n",
    "    if a <= 0:\n",
    "        print('Valor inválido de A, tiene que ser mayor que CERO')\n",
    "    elif c <= 0:\n",
    "        print('Valor inválido de C, tiene que ser mayor que CERO')\n",
    "    elif m <= 0:\n",
    "        print('Valor inválido de M, tiene que ser mayor que CERO')    \n",
    "    elif m < a:\n",
    "        print('Valor inválido, M debe ser mayor que A')\n",
    "    elif K_Congruencias < 0:\n",
    "        print('Valor invalido de K para congruencias, tiene que ser mayor que CERO')\n",
    "    elif maximo < minimo:\n",
    "        print('Valor invalido de MAXIMO, tiene que ser mayor que MINIMO')\n",
    "    else:\n",
    "         # Creamos un Array auxiliar de K para el método con la secuencia Fibonacci\n",
    "        aux = numeros_fibonacci\n",
    "                       \n",
    "        # Ejecutamos el metodo de congruencia fundamental\n",
    "        list = []\n",
    "        for i in range(n):\n",
    "            \n",
    "            # Transformar el número generado a un número en el rango [minimo, maximo]\n",
    "            \n",
    "            # numero_aleatorio = minimo + ((a * aux[i-1] + c * aux[i-K_Congruencias]) % (maximo - minimo + 1))\n",
    "\n",
    "            nro = ((a * aux[i-1] + c * aux[i-K_Congruencias]) % m)\n",
    "            numero_aleatorio = minimo + nro % (maximo - minimo + 1)\n",
    "                        \n",
    "            list.append(numero_aleatorio)\n",
    "\n",
    "        # Retornamos el listado de numeros aleatorios\n",
    "        return(list)\n",
    "    \n",
    "# Generamos el listado de numeros aleatorios aplicando Congruencia Fundamental con valores de minimo y maximo\n",
    "\n",
    "numeros_congruencia = congruencia_fundamental(a,c,K_Congruencias,m,n,minimo,maximo)\n",
    "print('')\n",
    "print('Listado de numeros aleatorios aplicando Congruencia Fundamental entre el rango de valores establecido:')\n",
    "print('')\n",
    "print(numeros_congruencia)"
   ]
  },
  {
   "attachments": {},
   "cell_type": "markdown",
   "metadata": {},
   "source": [
    "Definimos y realizamos los Test's de Poker y Chi Cuadrado sobre los numeros aleatorios aplicando el rango de valores mínimos y maximos y generamos los mismos"
   ]
  },
  {
   "cell_type": "code",
   "execution_count": 252,
   "metadata": {},
   "outputs": [
    {
     "name": "stdout",
     "output_type": "stream",
     "text": [
      "461.37566137566125 < 1009.6961921031988\n",
      "El resultado del test de Poker para Fibonacci + Congruencia Fundamental es VERDADERO\n",
      "993.1119999999949 > 987.0562079660383\n",
      "El resultado del test de Ji Cuadrado para Fibonacci + Congruencia Fundamental es FALSO\n"
     ]
    }
   ],
   "source": [
    "def test_poker(nros, minimo, maximo):\n",
    "   \n",
    "    a = 0\n",
    "    i = 0\n",
    "    grupos = []\n",
    "    tipos = [0, 0, 0, 0, 0, 0, 0]\n",
    "    cant_grupos = len(nros) // 5\n",
    "\n",
    "    # Agrupamos de a 5 elementos\n",
    "    while a < cant_grupos:\n",
    "        grupo = []\n",
    "        for j in range(5):\n",
    "            grupo.append((nros[i] - minimo) / (maximo - minimo))\n",
    "            i += 1\n",
    "        grupos.append(grupo)\n",
    "        a += 1\n",
    "\n",
    "    # Clasificamos los grupos (obtener frecuencia observada)\n",
    "    for item in grupos:\n",
    "        apariciones = [0, 0, 0, 0, 0, 0, 0, 0, 0, 0]\n",
    "        valor = 1\n",
    "\n",
    "        for i in range(10):\n",
    "            apariciones[i] += item.count(i)\n",
    "\n",
    "        for i in range(10):\n",
    "            if apariciones[i] > 0:\n",
    "                valor = valor * apariciones[i]\n",
    "\n",
    "        if valor == 1:\n",
    "            tipos[0] += 1\n",
    "        elif valor == 2:\n",
    "            tipos[1] += 1\n",
    "        elif valor == 3:\n",
    "            tipos[3] += 1\n",
    "        elif valor == 4:\n",
    "            if 4 in apariciones:\n",
    "                tipos[5] += 1\n",
    "            else:\n",
    "                tipos[2] += 1\n",
    "        elif valor == 5:\n",
    "            tipos[6] += 1\n",
    "        elif valor == 6:\n",
    "            tipos[4] += 1\n",
    "        else:\n",
    "            return \"error\"\n",
    "\n",
    "    # Calculo de fe\n",
    "    fe = [0, 0, 0, 0, 0, 0, 0]\n",
    "    fe[0] = cant_grupos * 0.3024\n",
    "    fe[1] = cant_grupos * 0.504\n",
    "    fe[2] = cant_grupos * 0.108\n",
    "    fe[3] = cant_grupos * 0.072\n",
    "    fe[4] = cant_grupos * 0.009\n",
    "    fe[5] = cant_grupos * 0.0045\n",
    "    fe[6] = cant_grupos * 0.0001\n",
    "\n",
    "    # Calculo de x0\n",
    "    x0 = 0\n",
    "    for i in range(7):\n",
    "        x0 += ((fe[i] - tipos[i]) ** 2) / fe[i]\n",
    "\n",
    "    return x0\n",
    "\n",
    "def res_test_poker(resultado, confianza):\n",
    "    \n",
    "    grados_libertad = len(numeros_congruencia) - 1\n",
    "\n",
    "    valor_chi2 = chi2.ppf(confianza, grados_libertad)\n",
    "        \n",
    "    if valor_chi2 > resultado:\n",
    "        print(f\"{resultado} < {valor_chi2}\")\n",
    "        print(\"El resultado del test de Poker para Fibonacci + Congruencia Fundamental es VERDADERO\")\n",
    "    else:\n",
    "        print(f\"{resultado} > {valor_chi2}\")\n",
    "        print(\"El resultado del test de Poker para Fibonacci + Congruencia Fundamental es FALSO\")\n",
    "        \n",
    "# Se genera la impresion de los resultados en la funcion\n",
    "\n",
    "resultado = test_poker(numeros_congruencia, minimo, maximo)\n",
    "\n",
    "# Se genera la impresion de los resultados en la funcion\n",
    "\n",
    "resultadoTest = res_test_poker(resultado, confianza)\n",
    "\n",
    "\n",
    "def test_jicuadrado(nros):\n",
    "    x0 = 0\n",
    "    fi = [0] * (max(nros) - min(nros) + 1)\n",
    "\n",
    "    # Cálculo de fi\n",
    "    for item in nros:\n",
    "        fi[item - min(nros)] += 1\n",
    "\n",
    "    # Cálculo de npi\n",
    "    npi = len(nros) / len(fi)\n",
    "\n",
    "    # Cálculo de x0\n",
    "    for i in range(len(fi)):\n",
    "        x0 += ((fi[i] - npi) ** 2) / npi\n",
    "\n",
    "    return x0\n",
    "\n",
    "def res_test_chi(resultado, confianza): \n",
    "\n",
    "    grados_libertad = len(numeros_congruencia) - 1\n",
    "\n",
    "    valor_chi2 = chi2.ppf(1 - confianza, grados_libertad)\n",
    "                \n",
    "    #Comparamos si el resultado es menor o mayor al correspondiente en la tabla\n",
    "    \n",
    "    if (valor_chi2 > resultado ):\n",
    "        print(f\"{resultado} < {valor_chi2}\")\n",
    "        print('El resultado del test de Ji Cuadrado para Fibonacci + Congruencia Fundamental es VERDADERO')\n",
    "        return\n",
    "    else:\n",
    "        print(f\"{resultado} > {valor_chi2}\")\n",
    "        print('El resultado del test de Ji Cuadrado para Fibonacci + Congruencia Fundamental es FALSO')\n",
    "        return\n",
    "    \n",
    "# Se genera la impresion de los resultados en la funcion\n",
    "\n",
    "resultado = test_jicuadrado(numeros_congruencia)\n",
    "\n",
    "# Se genera la impresion de los resultados en la funcion\n",
    "\n",
    "resultadoTest = res_test_chi(resultado, confianza)"
   ]
  },
  {
   "attachments": {},
   "cell_type": "markdown",
   "metadata": {},
   "source": [
    "Generamos la distribucion de Bernoulli sobre los numeros aleatorios del rango de valores establecido, contabilizamos y graficamos los datos obtenidos."
   ]
  },
  {
   "cell_type": "code",
   "execution_count": 253,
   "metadata": {},
   "outputs": [
    {
     "name": "stdout",
     "output_type": "stream",
     "text": [
      "La mitad es 700.0\n",
      "\n",
      "[0 0 1 0 1 0 0 1 0 0 0 1 0 1 0 1 0 0 1 0 1 1 0 0 1 1 0 0 1 0 1 0 0 1 1 0 1\n",
      " 1 0 1 0 0 0 0 0 1 1 0 0 0 1 0 0 0 0 0 0 0 1 0 0 1 1 0 1 0 1 1 1 0 1 1 1 0\n",
      " 0 1 0 0 1 0 1 1 0 0 1 0 1 0 0 1 1 0 0 1 0 0 1 0 1 1 0 1 1 0 0 0 0 0 0 1 0\n",
      " 0 0 1 0 0 0 1 1 1 0 0 1 1 0 0 0 1 0 1 1 0 1 0 0 1 0 0 1 1 0 1 1 1 0 0 0 1\n",
      " 1 0 0 0 0 0 0 0 0 1 1 0 0 1 0 1 1 1 0 0 1 1 0 0 1 0 0 1 0 1 0 1 0 0 1 1 0\n",
      " 1 0 0 0 1 0 1 1 0 0 0 0 1 0 0 0 1 1 1 0 1 0 1 1 1 1 1 1 0 0 1 0 0 0 0 0 0\n",
      " 1 0 1 1 0 0 0 0 1 1 1 0 0 0 1 0 0 1 0 0 0 1 0 0 0 1 0 0 1 0 1 1 0 0 1 1 0\n",
      " 0 1 0 1 0 0 1 1 0 1 1 0 1 0 0 0 0 0 1 1 0 0 0 1 0 0 0 0 0 0 0 1 0 0 1 1 0\n",
      " 1 0 1 1 1 0 1 1 1 0 0 1 0 0 1 0 1 1 0 0 1 0 1 0 0 1 1 0 0 1 0 0 1 0 1 1 0\n",
      " 1 1 0 0 0 0 0 0 1 0 0 0 1 0 0 0 1 1 1 0 0 1 1 0 0 0 1 0 1 1 0 1 0 0 1 0 0\n",
      " 1 1 0 1 1 1 0 0 0 1 1 0 0 0 0 0 0 0 0 1 1 0 0 1 0 1 1 1 0 0 1 1 0 0 1 0 0\n",
      " 1 0 1 0 1 0 0 1 1 0 1 0 0 0 1 0 1 1 0 0 0 0 1 0 0 0 1 1 1 0 1 0 1 1 1 1 1\n",
      " 1 0 0 1 0 0 0 0 0 0 1 0 1 1 0 0 0 0 1 1 1 0 0 0 1 0 0 1 0 0 0 1 0 0 0 1 0\n",
      " 0 1 0 1 1 0 0 1 1 0 0 1 0 1 0 0 1 1 0 1 1 0 1 0 0 0 0 0 1 1 0 0 0 1 0 0 0\n",
      " 0 0 0 0 1 0 0 1 1 0 1 0 1 1 1 0 1 1 1 0 0 1 0 0 1 0 1 1 0 0 1 0 1 0 0 1 1\n",
      " 0 0 1 0 0 1 0 1 1 0 1 1 0 0 0 0 0 0 1 0 0 0 1 0 0 0 1 1 1 0 0 1 1 0 0 0 1\n",
      " 0 1 1 0 1 0 0 1 0 0 1 1 0 1 1 1 0 0 0 1 1 0 0 0 0 0 0 0 0 1 1 0 0 1 0 1 1\n",
      " 1 0 0 1 1 0 0 1 0 0 1 0 1 0 1 0 0 1 1 0 1 0 0 0 1 0 1 1 0 0 0 0 1 0 0 0 1\n",
      " 1 1 0 1 0 1 1 1 1 1 1 0 0 1 0 0 0 0 0 0 1 0 1 1 0 0 0 0 1 1 1 0 0 0 1 0 0\n",
      " 1 0 0 0 1 0 0 0 1 0 0 1 0 1 1 0 0 1 1 0 0 1 0 1 0 0 1 1 0 1 1 0 1 0 0 0 0\n",
      " 0 1 1 0 0 0 1 0 0 0 0 0 0 0 1 0 0 1 1 0 1 0 1 1 1 0 1 1 1 0 0 1 0 0 1 0 1\n",
      " 1 0 0 1 0 1 0 0 1 1 0 0 1 0 0 1 0 1 1 0 1 1 0 0 0 0 0 0 1 0 0 0 1 0 0 0 1\n",
      " 1 1 0 0 1 1 0 0 0 1 0 1 1 0 1 0 0 1 0 0 1 1 0 1 1 1 0 0 0 1 1 0 0 0 0 0 0\n",
      " 0 0 1 1 0 0 1 0 1 1 1 0 0 1 1 0 0 1 0 0 1 0 1 0 1 0 0 1 1 0 1 0 0 0 1 0 1\n",
      " 1 0 0 0 0 1 0 0 0 1 1 1 0 1 0 1 1 1 1 1 1 0 0 1 0 0 0 0 0 0 1 0 1 1 0 0 0\n",
      " 0 1 1 1 0 0 0 1 0 0 1 0 0 0 1 0 0 0 1 0 0 1 0 1 1 0 0 1 1 0 0 1 0 1 0 0 1\n",
      " 1 0 1 1 0 1 0 0 0 0 0 1 1 0 0 0 1 0 0 0 0 0 0 0 1 0 0 1 1 0 1 0 1 1 1 0 1\n",
      " 1]\n",
      "dict_keys([0, 1])\n",
      "dict_values([578, 422])\n",
      "{0: 578, 1: 422}\n"
     ]
    },
    {
     "data": {
      "application/vnd.plotly.v1+json": {
       "config": {
        "plotlyServerURL": "https://plot.ly"
       },
       "data": [
        {
         "labels": [
          0,
          1
         ],
         "type": "pie",
         "values": [
          578,
          422
         ]
        }
       ],
       "layout": {
        "template": {
         "data": {
          "bar": [
           {
            "error_x": {
             "color": "#2a3f5f"
            },
            "error_y": {
             "color": "#2a3f5f"
            },
            "marker": {
             "line": {
              "color": "#E5ECF6",
              "width": 0.5
             },
             "pattern": {
              "fillmode": "overlay",
              "size": 10,
              "solidity": 0.2
             }
            },
            "type": "bar"
           }
          ],
          "barpolar": [
           {
            "marker": {
             "line": {
              "color": "#E5ECF6",
              "width": 0.5
             },
             "pattern": {
              "fillmode": "overlay",
              "size": 10,
              "solidity": 0.2
             }
            },
            "type": "barpolar"
           }
          ],
          "carpet": [
           {
            "aaxis": {
             "endlinecolor": "#2a3f5f",
             "gridcolor": "white",
             "linecolor": "white",
             "minorgridcolor": "white",
             "startlinecolor": "#2a3f5f"
            },
            "baxis": {
             "endlinecolor": "#2a3f5f",
             "gridcolor": "white",
             "linecolor": "white",
             "minorgridcolor": "white",
             "startlinecolor": "#2a3f5f"
            },
            "type": "carpet"
           }
          ],
          "choropleth": [
           {
            "colorbar": {
             "outlinewidth": 0,
             "ticks": ""
            },
            "type": "choropleth"
           }
          ],
          "contour": [
           {
            "colorbar": {
             "outlinewidth": 0,
             "ticks": ""
            },
            "colorscale": [
             [
              0,
              "#0d0887"
             ],
             [
              0.1111111111111111,
              "#46039f"
             ],
             [
              0.2222222222222222,
              "#7201a8"
             ],
             [
              0.3333333333333333,
              "#9c179e"
             ],
             [
              0.4444444444444444,
              "#bd3786"
             ],
             [
              0.5555555555555556,
              "#d8576b"
             ],
             [
              0.6666666666666666,
              "#ed7953"
             ],
             [
              0.7777777777777778,
              "#fb9f3a"
             ],
             [
              0.8888888888888888,
              "#fdca26"
             ],
             [
              1,
              "#f0f921"
             ]
            ],
            "type": "contour"
           }
          ],
          "contourcarpet": [
           {
            "colorbar": {
             "outlinewidth": 0,
             "ticks": ""
            },
            "type": "contourcarpet"
           }
          ],
          "heatmap": [
           {
            "colorbar": {
             "outlinewidth": 0,
             "ticks": ""
            },
            "colorscale": [
             [
              0,
              "#0d0887"
             ],
             [
              0.1111111111111111,
              "#46039f"
             ],
             [
              0.2222222222222222,
              "#7201a8"
             ],
             [
              0.3333333333333333,
              "#9c179e"
             ],
             [
              0.4444444444444444,
              "#bd3786"
             ],
             [
              0.5555555555555556,
              "#d8576b"
             ],
             [
              0.6666666666666666,
              "#ed7953"
             ],
             [
              0.7777777777777778,
              "#fb9f3a"
             ],
             [
              0.8888888888888888,
              "#fdca26"
             ],
             [
              1,
              "#f0f921"
             ]
            ],
            "type": "heatmap"
           }
          ],
          "heatmapgl": [
           {
            "colorbar": {
             "outlinewidth": 0,
             "ticks": ""
            },
            "colorscale": [
             [
              0,
              "#0d0887"
             ],
             [
              0.1111111111111111,
              "#46039f"
             ],
             [
              0.2222222222222222,
              "#7201a8"
             ],
             [
              0.3333333333333333,
              "#9c179e"
             ],
             [
              0.4444444444444444,
              "#bd3786"
             ],
             [
              0.5555555555555556,
              "#d8576b"
             ],
             [
              0.6666666666666666,
              "#ed7953"
             ],
             [
              0.7777777777777778,
              "#fb9f3a"
             ],
             [
              0.8888888888888888,
              "#fdca26"
             ],
             [
              1,
              "#f0f921"
             ]
            ],
            "type": "heatmapgl"
           }
          ],
          "histogram": [
           {
            "marker": {
             "pattern": {
              "fillmode": "overlay",
              "size": 10,
              "solidity": 0.2
             }
            },
            "type": "histogram"
           }
          ],
          "histogram2d": [
           {
            "colorbar": {
             "outlinewidth": 0,
             "ticks": ""
            },
            "colorscale": [
             [
              0,
              "#0d0887"
             ],
             [
              0.1111111111111111,
              "#46039f"
             ],
             [
              0.2222222222222222,
              "#7201a8"
             ],
             [
              0.3333333333333333,
              "#9c179e"
             ],
             [
              0.4444444444444444,
              "#bd3786"
             ],
             [
              0.5555555555555556,
              "#d8576b"
             ],
             [
              0.6666666666666666,
              "#ed7953"
             ],
             [
              0.7777777777777778,
              "#fb9f3a"
             ],
             [
              0.8888888888888888,
              "#fdca26"
             ],
             [
              1,
              "#f0f921"
             ]
            ],
            "type": "histogram2d"
           }
          ],
          "histogram2dcontour": [
           {
            "colorbar": {
             "outlinewidth": 0,
             "ticks": ""
            },
            "colorscale": [
             [
              0,
              "#0d0887"
             ],
             [
              0.1111111111111111,
              "#46039f"
             ],
             [
              0.2222222222222222,
              "#7201a8"
             ],
             [
              0.3333333333333333,
              "#9c179e"
             ],
             [
              0.4444444444444444,
              "#bd3786"
             ],
             [
              0.5555555555555556,
              "#d8576b"
             ],
             [
              0.6666666666666666,
              "#ed7953"
             ],
             [
              0.7777777777777778,
              "#fb9f3a"
             ],
             [
              0.8888888888888888,
              "#fdca26"
             ],
             [
              1,
              "#f0f921"
             ]
            ],
            "type": "histogram2dcontour"
           }
          ],
          "mesh3d": [
           {
            "colorbar": {
             "outlinewidth": 0,
             "ticks": ""
            },
            "type": "mesh3d"
           }
          ],
          "parcoords": [
           {
            "line": {
             "colorbar": {
              "outlinewidth": 0,
              "ticks": ""
             }
            },
            "type": "parcoords"
           }
          ],
          "pie": [
           {
            "automargin": true,
            "type": "pie"
           }
          ],
          "scatter": [
           {
            "fillpattern": {
             "fillmode": "overlay",
             "size": 10,
             "solidity": 0.2
            },
            "type": "scatter"
           }
          ],
          "scatter3d": [
           {
            "line": {
             "colorbar": {
              "outlinewidth": 0,
              "ticks": ""
             }
            },
            "marker": {
             "colorbar": {
              "outlinewidth": 0,
              "ticks": ""
             }
            },
            "type": "scatter3d"
           }
          ],
          "scattercarpet": [
           {
            "marker": {
             "colorbar": {
              "outlinewidth": 0,
              "ticks": ""
             }
            },
            "type": "scattercarpet"
           }
          ],
          "scattergeo": [
           {
            "marker": {
             "colorbar": {
              "outlinewidth": 0,
              "ticks": ""
             }
            },
            "type": "scattergeo"
           }
          ],
          "scattergl": [
           {
            "marker": {
             "colorbar": {
              "outlinewidth": 0,
              "ticks": ""
             }
            },
            "type": "scattergl"
           }
          ],
          "scattermapbox": [
           {
            "marker": {
             "colorbar": {
              "outlinewidth": 0,
              "ticks": ""
             }
            },
            "type": "scattermapbox"
           }
          ],
          "scatterpolar": [
           {
            "marker": {
             "colorbar": {
              "outlinewidth": 0,
              "ticks": ""
             }
            },
            "type": "scatterpolar"
           }
          ],
          "scatterpolargl": [
           {
            "marker": {
             "colorbar": {
              "outlinewidth": 0,
              "ticks": ""
             }
            },
            "type": "scatterpolargl"
           }
          ],
          "scatterternary": [
           {
            "marker": {
             "colorbar": {
              "outlinewidth": 0,
              "ticks": ""
             }
            },
            "type": "scatterternary"
           }
          ],
          "surface": [
           {
            "colorbar": {
             "outlinewidth": 0,
             "ticks": ""
            },
            "colorscale": [
             [
              0,
              "#0d0887"
             ],
             [
              0.1111111111111111,
              "#46039f"
             ],
             [
              0.2222222222222222,
              "#7201a8"
             ],
             [
              0.3333333333333333,
              "#9c179e"
             ],
             [
              0.4444444444444444,
              "#bd3786"
             ],
             [
              0.5555555555555556,
              "#d8576b"
             ],
             [
              0.6666666666666666,
              "#ed7953"
             ],
             [
              0.7777777777777778,
              "#fb9f3a"
             ],
             [
              0.8888888888888888,
              "#fdca26"
             ],
             [
              1,
              "#f0f921"
             ]
            ],
            "type": "surface"
           }
          ],
          "table": [
           {
            "cells": {
             "fill": {
              "color": "#EBF0F8"
             },
             "line": {
              "color": "white"
             }
            },
            "header": {
             "fill": {
              "color": "#C8D4E3"
             },
             "line": {
              "color": "white"
             }
            },
            "type": "table"
           }
          ]
         },
         "layout": {
          "annotationdefaults": {
           "arrowcolor": "#2a3f5f",
           "arrowhead": 0,
           "arrowwidth": 1
          },
          "autotypenumbers": "strict",
          "coloraxis": {
           "colorbar": {
            "outlinewidth": 0,
            "ticks": ""
           }
          },
          "colorscale": {
           "diverging": [
            [
             0,
             "#8e0152"
            ],
            [
             0.1,
             "#c51b7d"
            ],
            [
             0.2,
             "#de77ae"
            ],
            [
             0.3,
             "#f1b6da"
            ],
            [
             0.4,
             "#fde0ef"
            ],
            [
             0.5,
             "#f7f7f7"
            ],
            [
             0.6,
             "#e6f5d0"
            ],
            [
             0.7,
             "#b8e186"
            ],
            [
             0.8,
             "#7fbc41"
            ],
            [
             0.9,
             "#4d9221"
            ],
            [
             1,
             "#276419"
            ]
           ],
           "sequential": [
            [
             0,
             "#0d0887"
            ],
            [
             0.1111111111111111,
             "#46039f"
            ],
            [
             0.2222222222222222,
             "#7201a8"
            ],
            [
             0.3333333333333333,
             "#9c179e"
            ],
            [
             0.4444444444444444,
             "#bd3786"
            ],
            [
             0.5555555555555556,
             "#d8576b"
            ],
            [
             0.6666666666666666,
             "#ed7953"
            ],
            [
             0.7777777777777778,
             "#fb9f3a"
            ],
            [
             0.8888888888888888,
             "#fdca26"
            ],
            [
             1,
             "#f0f921"
            ]
           ],
           "sequentialminus": [
            [
             0,
             "#0d0887"
            ],
            [
             0.1111111111111111,
             "#46039f"
            ],
            [
             0.2222222222222222,
             "#7201a8"
            ],
            [
             0.3333333333333333,
             "#9c179e"
            ],
            [
             0.4444444444444444,
             "#bd3786"
            ],
            [
             0.5555555555555556,
             "#d8576b"
            ],
            [
             0.6666666666666666,
             "#ed7953"
            ],
            [
             0.7777777777777778,
             "#fb9f3a"
            ],
            [
             0.8888888888888888,
             "#fdca26"
            ],
            [
             1,
             "#f0f921"
            ]
           ]
          },
          "colorway": [
           "#636efa",
           "#EF553B",
           "#00cc96",
           "#ab63fa",
           "#FFA15A",
           "#19d3f3",
           "#FF6692",
           "#B6E880",
           "#FF97FF",
           "#FECB52"
          ],
          "font": {
           "color": "#2a3f5f"
          },
          "geo": {
           "bgcolor": "white",
           "lakecolor": "white",
           "landcolor": "#E5ECF6",
           "showlakes": true,
           "showland": true,
           "subunitcolor": "white"
          },
          "hoverlabel": {
           "align": "left"
          },
          "hovermode": "closest",
          "mapbox": {
           "style": "light"
          },
          "paper_bgcolor": "white",
          "plot_bgcolor": "#E5ECF6",
          "polar": {
           "angularaxis": {
            "gridcolor": "white",
            "linecolor": "white",
            "ticks": ""
           },
           "bgcolor": "#E5ECF6",
           "radialaxis": {
            "gridcolor": "white",
            "linecolor": "white",
            "ticks": ""
           }
          },
          "scene": {
           "xaxis": {
            "backgroundcolor": "#E5ECF6",
            "gridcolor": "white",
            "gridwidth": 2,
            "linecolor": "white",
            "showbackground": true,
            "ticks": "",
            "zerolinecolor": "white"
           },
           "yaxis": {
            "backgroundcolor": "#E5ECF6",
            "gridcolor": "white",
            "gridwidth": 2,
            "linecolor": "white",
            "showbackground": true,
            "ticks": "",
            "zerolinecolor": "white"
           },
           "zaxis": {
            "backgroundcolor": "#E5ECF6",
            "gridcolor": "white",
            "gridwidth": 2,
            "linecolor": "white",
            "showbackground": true,
            "ticks": "",
            "zerolinecolor": "white"
           }
          },
          "shapedefaults": {
           "line": {
            "color": "#2a3f5f"
           }
          },
          "ternary": {
           "aaxis": {
            "gridcolor": "white",
            "linecolor": "white",
            "ticks": ""
           },
           "baxis": {
            "gridcolor": "white",
            "linecolor": "white",
            "ticks": ""
           },
           "bgcolor": "#E5ECF6",
           "caxis": {
            "gridcolor": "white",
            "linecolor": "white",
            "ticks": ""
           }
          },
          "title": {
           "x": 0.05
          },
          "xaxis": {
           "automargin": true,
           "gridcolor": "white",
           "linecolor": "white",
           "ticks": "",
           "title": {
            "standoff": 15
           },
           "zerolinecolor": "white",
           "zerolinewidth": 2
          },
          "yaxis": {
           "automargin": true,
           "gridcolor": "white",
           "linecolor": "white",
           "ticks": "",
           "title": {
            "standoff": 15
           },
           "zerolinecolor": "white",
           "zerolinewidth": 2
          }
         }
        }
       }
      }
     },
     "metadata": {},
     "output_type": "display_data"
    }
   ],
   "source": [
    "def distribucion_bernoulli(numeros):\n",
    "    \n",
    "    mitad = (maximo + minimo) / 2\n",
    "    \n",
    "    valores = np.array(numeros)\n",
    "    \n",
    "    binarios = np.where(valores >= mitad, 1, 0)\n",
    "    \n",
    "    return binarios\n",
    "\n",
    "distribucion = distribucion_bernoulli(numeros_congruencia)\n",
    "\n",
    "print(f'La mitad es {(maximo + minimo) / 2}')\n",
    "\n",
    "print('')\n",
    "\n",
    "print(distribucion)\n",
    "\n",
    "# Usamos plotly para hacer un diagrama de barras interactivo con la distribución de los datos\n",
    "\n",
    "# Contamos los valores CERO y UNO\n",
    "\n",
    "datos = {}\n",
    "\n",
    "for valor in distribucion:\n",
    "    if valor in datos:\n",
    "        datos[valor] += 1\n",
    "    else:\n",
    "        datos[valor] = 1\n",
    "        \n",
    "print(datos.keys())\n",
    "print(datos.values())\n",
    "print(datos)\n",
    "\n",
    "fig = go.Figure(data=[go.Pie(labels=list(datos.keys()), values=list(datos.values()))])\n",
    "fig.show()"
   ]
  },
  {
   "attachments": {},
   "cell_type": "markdown",
   "metadata": {},
   "source": [
    "Mediante los datos obtenidos graficamos la distribución normal"
   ]
  },
  {
   "cell_type": "code",
   "execution_count": 254,
   "metadata": {},
   "outputs": [
    {
     "name": "stdout",
     "output_type": "stream",
     "text": [
      "la media es: 686.764\n",
      "la desviación estandar es: 90.04371329526565\n"
     ]
    },
    {
     "data": {
      "image/png": "[encoded data removed]",
      "text/plain": [
       "<Figure size 640x480 with 1 Axes>"
      ]
     },
     "metadata": {},
     "output_type": "display_data"
    }
   ],
   "source": [
    "# Utilizamos los numeros aleatorios obtenidos por la congruencia fundamental\n",
    "\n",
    "datos = np.array(numeros_congruencia)\n",
    "\n",
    "# Calculamos la media y la desviación estándar\n",
    "\n",
    "mu = np.mean(datos)\n",
    "\n",
    "print(f\"la media es: {mu}\")\n",
    "\n",
    "sigma = np.std(datos)\n",
    "\n",
    "print(f\"la desviación estandar es: {sigma}\")\n",
    "\n",
    "# Creamos un rango de valores x para la distribución normal\n",
    "\n",
    "x = np.linspace(mu - 3*sigma, mu + 3*sigma, 100)\n",
    "\n",
    "# Calculamos la distribución normal para los valores x\n",
    "\n",
    "y = (1/(sigma * np.sqrt(2 * np.pi))) * np.exp(-0.5 * ((x - mu)/sigma)**2)\n",
    "\n",
    "# Creamos un histograma de los datos\n",
    "\n",
    "n, bins, patches = plt.hist(datos, bins=10, density=True, color='lightblue', alpha=0.5)\n",
    "\n",
    "# Creamos la curva de distribución normal\n",
    "\n",
    "plt.plot(bins, 1/(sigma * np.sqrt(2 * np.pi)) *\n",
    "         np.exp(- (bins - mu)**2 / (2 * sigma**2)),\n",
    "         linewidth=2, color='red')\n",
    "\n",
    "# Configuramos la leyenda\n",
    "\n",
    "plt.legend(['Distribución normal', 'Frecuencia'])\n",
    "\n",
    "# Mostramos el gráfico\n",
    "plt.show()"
   ]
  },
  {
   "attachments": {},
   "cell_type": "markdown",
   "metadata": {},
   "source": [
    "Definimos y generamos las marcas de clases para generar las variables aleatorias sobre los datos de simulación requeridos"
   ]
  },
  {
   "cell_type": "code",
   "execution_count": 255,
   "metadata": {},
   "outputs": [
    {
     "name": "stdout",
     "output_type": "stream",
     "text": [
      "                 piloto  Frecuencia Esperada\n",
      "0         Diego Aventín             3.333333\n",
      "1        Mariano Werner            20.000000\n",
      "2    Luis José Di Palma             6.666667\n",
      "3          Matías Rossi            10.000000\n",
      "4     Christian Ledesma             3.333333\n",
      "5       Facundo Ardusso            13.333333\n",
      "6         Omar Martínez             3.333333\n",
      "7     Guillermo Ortelli             3.333333\n",
      "8      Agustín Canapino            16.666667\n",
      "9    Jonatan Castellano             3.333333\n",
      "10   José Manuel Urcera            10.000000\n",
      "11  Juan Cruz Benvenuti             3.333333\n",
      "12    Mauricio Lambiris             3.333333\n"
     ]
    },
    {
     "data": {
      "image/png": "[encoded data removed]",
      "text/plain": [
       "<Figure size 640x480 with 1 Axes>"
      ]
     },
     "metadata": {},
     "output_type": "display_data"
    }
   ],
   "source": [
    "# Listamos los pilotos en podio del turismo carretera desde el 2013 al 2022\n",
    "pilotos = [\"Diego Aventín\", \"Mariano Werner\", \"Luis José Di Palma\", #2013\n",
    "           \"Matías Rossi\", \"Christian Ledesma\", \"Facundo Ardusso\", #2014\n",
    "           \"Omar Martínez\", \"Matías Rossi\", \"Facundo Ardusso\", #2015\n",
    "           \"Guillermo Ortelli\", \"Matías Rossi\", \"Mariano Werner\", #2016\n",
    "           \"Agustín Canapino\", \"Facundo Ardusso\", \"Luis José Di Palma\", #2017\n",
    "           \"Agustín Canapino\", \"Jonatan Castellano\", \"Facundo Ardusso\", #2018\n",
    "           \"Agustín Canapino\", \"José Manuel Urcera\", \"Mariano Werner\", #2019\n",
    "           \"Mariano Werner\", \"Juan Cruz Benvenuti\", \"José Manuel Urcera\", #2020\n",
    "           \"Mariano Werner\", \"Mauricio Lambiris\", \"Agustín Canapino\", #2021\n",
    "           \"José Manuel Urcera\", \"Mariano Werner\", \"Agustín Canapino\"] #2022\n",
    "\n",
    "\n",
    "# Contamos la cantidad de veces que cada piloto ha obtenido un lugar entre los tres primeros puestos\n",
    "pilotos_final = {}\n",
    "conteo = {}\n",
    "for piloto in pilotos:\n",
    "    if piloto in conteo:\n",
    "        conteo[piloto] += 1\n",
    "    else:\n",
    "        conteo[piloto] = 1\n",
    "\n",
    "for piloto in pilotos:\n",
    "    if piloto in conteo:\n",
    "        #print(piloto, conteo[piloto])\n",
    "        pilotos_final[piloto] =  conteo[piloto]\n",
    "        del conteo[piloto]\n",
    "\n",
    "# Número total de carreras consideradas\n",
    "num_carreras = 30  # 10 años x 3 posiciones\n",
    "\n",
    "# Calculamos la probabilidad esperada para cada piloto\n",
    "prob_pilotos = {}\n",
    "for piloto, count in pilotos_final.items():\n",
    "    prob_pilotos[piloto] = (count / num_carreras)*100\n",
    "        \n",
    "# Creamos la tabla\n",
    "tabla = pd.DataFrame({\n",
    "    \"piloto\": prob_pilotos.keys(),\n",
    "    \"Frecuencia Esperada\": prob_pilotos.values(),\n",
    "})\n",
    "\n",
    "# Mostramos la tabla\n",
    "print(tabla)\n",
    "    \n",
    "# Representamos las probabilidades esperadas con un gráfico de barras\n",
    "plt.bar(prob_pilotos.keys(), prob_pilotos.values())\n",
    "#plt.xlabel(\"Pilotos\")\n",
    "plt.ylabel(\"Probabilidad esperada\")\n",
    "plt.title(\"Probabilidades esperadas de los 3 primeros puestos del turismo carretera (2013-2022)\")\n",
    "plt.show()"
   ]
  },
  {
   "attachments": {},
   "cell_type": "markdown",
   "metadata": {},
   "source": [
    "Generamos las marcas de clases para realizar la simulación y realizamos el grafico de las mismas"
   ]
  },
  {
   "cell_type": "code",
   "execution_count": 256,
   "metadata": {},
   "outputs": [
    {
     "name": "stdout",
     "output_type": "stream",
     "text": [
      "Clase 1: 33.07692307692308 - 99.23076923076924  Frecuencia observada: 0\n",
      "Clase 2: 99.23076923076924 - 165.38461538461542  Frecuencia observada: 0\n",
      "Clase 3: 165.38461538461542 - 231.53846153846158  Frecuencia observada: 0\n",
      "Clase 4: 231.53846153846155 - 297.69230769230774  Frecuencia observada: 0\n",
      "Clase 5: 297.69230769230774 - 363.8461538461539  Frecuencia observada: 0\n",
      "Clase 6: 363.8461538461539 - 430.0000000000001  Frecuencia observada: 0\n",
      "Clase 7: 430.00000000000006 - 496.1538461538462  Frecuencia observada: 0\n",
      "Clase 8: 496.1538461538462 - 562.3076923076924  Frecuencia observada: 0\n",
      "Clase 9: 562.3076923076924 - 628.4615384615386  Frecuencia observada: 184\n",
      "Clase 10: 628.4615384615386 - 694.6153846153848  Frecuencia observada: 259\n",
      "Clase 11: 694.6153846153848 - 760.769230769231  Frecuencia observada: 244\n",
      "Clase 12: 760.7692307692308 - 826.923076923077  Frecuencia observada: 151\n",
      "Clase 13: 826.923076923077 - 893.0769230769232  Frecuencia observada: 162\n",
      "Marcas de clase: [554.2307692307693, 578.6923076923077, 603.1538461538462, 627.6153846153846, 652.0769230769231, 676.5384615384615, 701.0, 725.4615384615385, 749.9230769230769, 774.3846153846154, 798.8461538461538, 823.3076923076923, 847.7692307692307]\n",
      "Probabilidades: [0.07692307692307691, 0.07692307692307691, 0.07692307692307691, 0.07692307692307691, 0.07692307692307691, 0.07692307692307691, 0.07692307692307691, 0.07692307692307691, 0.07692307692307691, 0.07692307692307691, 0.07692307692307691, 0.07692307692307691, 0.07692307692307691]\n",
      "Frecuencias observadas: [ 91  75 105  93  87  92  74  86  52  61  61  46  77]\n",
      "Frecuencias esperadas: [30, 200, 70, 100, 30, 130, 30, 30, 170, 30, 100, 30, 50]\n"
     ]
    },
    {
     "data": {
      "image/png": "[encoded data removed]",
      "text/plain": [
       "<Figure size 640x480 with 1 Axes>"
      ]
     },
     "metadata": {},
     "output_type": "display_data"
    }
   ],
   "source": [
    "# Definimos el número de clases y la amplitud\n",
    "\n",
    "num_clases = len(pilotos_final) # Cantidad de pilotos del listado anterior\n",
    "amplitud_clase = maximo/len(pilotos_final)\n",
    "\n",
    "# Calculamos las marcas de clase\n",
    "marcas_clase = [amplitud_clase/2 + i*amplitud_clase for i in range(num_clases)]\n",
    "\n",
    "# Calcular la frecuencia de cada clase\n",
    "frecuencia_clase = [0]*num_clases\n",
    "for num in numeros_congruencia:\n",
    "    for i in range(num_clases):\n",
    "        if num >= i*amplitud_clase and num < (i+1)*amplitud_clase:\n",
    "            frecuencia_clase[i] += 1\n",
    "\n",
    "# Imprimir los resultados\n",
    "for i in range(num_clases):\n",
    "    print(f\"Clase {i+1}: {marcas_clase[i]} - {marcas_clase[i]+amplitud_clase}  Frecuencia observada: {frecuencia_clase[i]}\")\n",
    "    \n",
    "\n",
    "# Dividimos el rango de valores en N intervalos de igual tamaño\n",
    "num_intervalos = len(pilotos_final) # Cantidad de pilotos del listado anterior\n",
    "rango = max(numeros_congruencia) - min(numeros_congruencia)\n",
    "ancho_intervalo = rango / num_intervalos\n",
    "\n",
    "# Calculamos las marcas de clase y las probabilidades de cada intervalo\n",
    "marcas_clase = [min(numeros_congruencia) + (i + 0.5) * ancho_intervalo for i in range(num_intervalos)]\n",
    "probabilidades = [ancho_intervalo / rango] * num_intervalos\n",
    "\n",
    "# Contamos cuántos números aleatorios caen en cada intervalo\n",
    "frecuencias_obs = np.histogram(numeros_congruencia, bins=num_intervalos, range=(min(numeros_congruencia), max(numeros_congruencia)))[0]\n",
    "\n",
    "# Calculamos las frecuencias esperadas\n",
    "frecuencias_esp = []\n",
    "\n",
    "cantidad_total = len(numeros_congruencia)\n",
    "lista_numeros = []\n",
    "\n",
    "porcentajes_enteros = [round(p) for p in prob_pilotos.values()]\n",
    "porcentajes_enteros[-1] += 100 - sum(porcentajes_enteros)\n",
    "\n",
    "for porcentaje in porcentajes_enteros:\n",
    "    numero = int(porcentaje / 100 * cantidad_total)\n",
    "    frecuencias_esp.append(numero)\n",
    "\n",
    "# Calculamos el estadístico de chi-cuadrado y el p-valor\n",
    "chi2, p = chisquare(frecuencias_obs, frecuencias_esp)\n",
    "\n",
    "print(\"Marcas de clase:\", marcas_clase)\n",
    "print(\"Probabilidades:\", probabilidades)\n",
    "print(\"Frecuencias observadas:\", frecuencias_obs)\n",
    "print(\"Frecuencias esperadas:\", frecuencias_esp)\n",
    "\n",
    "# Creamos el gráfico\n",
    "plt.plot(marcas_clase, frecuencias_esp, '-o', label='Frecuencia Esperada', linewidth=2)\n",
    "plt.plot(marcas_clase, frecuencias_obs, '-o', label='Frecuencia Observada', linewidth=2)\n",
    "plt.legend(loc='best')\n",
    "plt.title('Gráfico de Frecuencias')\n",
    "plt.xlabel('Marcas de Clases')\n",
    "plt.ylabel('Frecuencia')\n",
    "\n",
    "# Mostramos el gráfico\n",
    "plt.show()"
   ]
  }
 ],
 "metadata": {
  "kernelspec": {
   "display_name": "venv",
   "language": "python",
   "name": "python3"
  },
  "language_info": {
   "codemirror_mode": {
    "name": "ipython",
    "version": 3
   },
   "file_extension": ".py",
   "mimetype": "text/x-python",
   "name": "python",
   "nbconvert_exporter": "python",
   "pygments_lexer": "ipython3",
   "version": "3.10.6"
  },
  "orig_nbformat": 4,
  "vscode": {
   "interpreter": {
    "hash": "b30b7e55ed2a9e89422417c81362aa9bc2751cab5052b411412700b7a27426bb"
   }
  }
 },
 "nbformat": 4,
 "nbformat_minor": 2
}
