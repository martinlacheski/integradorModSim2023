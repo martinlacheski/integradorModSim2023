{
 "cells": [
  {
   "attachments": {},
   "cell_type": "markdown",
   "metadata": {},
   "source": [
    "# Inicio"
   ]
  },
  {
   "cell_type": "markdown",
   "metadata": {},
   "source": [
    "Definimos las variables necesarias para ejecutar"
   ]
  },
  {
   "cell_type": "code",
   "execution_count": 17,
   "metadata": {},
   "outputs": [],
   "source": [
    "############### VARIABLES FIBONACCI #################\n",
    "\n",
    "# primer parametro es \"v1\" que es el valor 1, \n",
    "v1 = 23\n",
    "\n",
    "# segundo parametro \"v2\" que es el valor 2,\n",
    "v2 = 67\n",
    "\n",
    "# tercer parametro es \"K\" y que es requerido por la funcion para \"(v1 + v2) <= K\"\n",
    "K_Fibonacci = 177\n",
    "\n",
    "############### VARIABLES CONGRUENCIA FUNDAMENTAL #################\n",
    "\n",
    "# primer parametro es \"a\" que multiplica a Vi, \n",
    "a = 1\n",
    "\n",
    "# segundo parametro \"c\" que multiplica a Vi-k, \n",
    "c = 3\n",
    "\n",
    "# tercer parametro es \"K\" que es la cantidad de espacios a crear antes de los nros aleatorios\n",
    "K_Congruencias = 93\n",
    "\n",
    "# cuarto parametro es \"m\" que es el tope de numeros a generar\n",
    "m = 184\n",
    "\n",
    "# Minimo y Maximo (para utilizar congruencia fundamental entre un rango de valores)\n",
    "\n",
    "minimo = -34\n",
    "\n",
    "maximo = 37\n",
    "\n",
    "############### VARIABLES del ESCENARIO #################\n",
    "\n",
    "marcas_clase = [(-34.0, -22.17), (-22.17, -10.33), (-10.33, 1.5), (1.5, 13.33), (13.33, 25.17), (25.17, 37.0)]\n",
    "\n",
    "probabilidades = [0.02174, 0.125, 0.45109, 0.28261, 0.09239, 0.02717]\n",
    "\n",
    "# En Fibonacci y Congruencias el parametro \"n\" es la cantidad de numeros que queremos generar\n",
    "\n",
    "# Las cantidad de muestras de numeros que hay que generar:\n",
    "n = 184\n",
    "\n",
    "############### VARIABLES GENERALES #################\n",
    "\n",
    "# Definimos la confianza para aplicar en los TEST's de Poker y Ji Cuadrada\n",
    "confianza = 0.6"
   ]
  },
  {
   "attachments": {},
   "cell_type": "markdown",
   "metadata": {},
   "source": [
    "Importamos las librerias necesarias para ejecutar el codigo"
   ]
  },
  {
   "cell_type": "code",
   "execution_count": 18,
   "metadata": {},
   "outputs": [],
   "source": [
    "import collections\n",
    "import pandas as pd\n",
    "import numpy as np\n",
    "import matplotlib.pyplot as plt\n",
    "import plotly.graph_objects as go\n",
    "import nbformat\n",
    "import math\n",
    "# Importamos los metodos desarrollados para demostrar los resultados\n",
    "from metodos import *"
   ]
  },
  {
   "attachments": {},
   "cell_type": "markdown",
   "metadata": {},
   "source": [
    "Definimos la funcion y generamos los numeros aleatorios de Fibonacci y a partir de ahi definimos y generamos los numeros pseudoaleatorios mediante la congruencia fundamental. Estos numeros pseudoaletorios son generados entre los rangos establecidos en las variables"
   ]
  },
  {
   "cell_type": "code",
   "execution_count": 19,
   "metadata": {},
   "outputs": [
    {
     "name": "stdout",
     "output_type": "stream",
     "text": [
      "Listado de numeros aleatorios aplicando Fibonacci:\n",
      "\n",
      "[23, 67, 90, 157, 70, 50, 120, 170, 113, 106, 42, 148, 13, 161, 174, 158, 155, 136, 114, 73, 10, 83, 93, 176, 92, 91, 6, 97, 103, 23, 126, 149, 98, 70, 168, 61, 52, 113, 165, 101, 89, 13, 102, 115, 40, 155, 18, 173, 14, 10, 24, 34, 58, 92, 150, 65, 38, 103, 141, 67, 31, 98, 129, 50, 2, 52, 54, 106, 160, 89, 72, 161, 56, 40, 96, 136, 55, 14, 69, 83, 152, 58, 33, 91, 124, 38, 162, 23, 8, 31, 39, 70, 109, 2, 111, 113, 47, 160, 30, 13, 43, 56, 99, 155, 77, 55, 132, 10, 142, 152, 117, 92, 32, 124, 156, 103, 82, 8, 90, 98, 11, 109, 120, 52, 172, 47, 42, 89, 131, 43, 174, 40, 37, 77, 114, 14, 128, 142, 93, 58, 151, 32, 6, 38, 44, 82, 126, 31, 157, 11, 168, 2, 170, 172, 165, 160, 148, 131, 102, 56, 158, 37, 18, 55, 73, 128, 24, 152, 176, 151, 150, 124, 97, 44, 141, 8, 149, 157, 129, 109, 61, 170, 54, 47, 101, 148]\n",
      "\n",
      "Listado de numeros aleatorios aplicando Congruencia Fundamental entre el rango de valores establecido:\n",
      "\n",
      "[1, 11, -6, 0, 14, 28, 7, 13, 11, 14, 9, 0, -9, 25, -5, -1, 9, -3, -10, 22, -3, -4, -13, 12, 8, -3, 1, 1, -7, -3, -6, 11, -6, -6, -16, -5, -4, -21, 2, 26, 6, -34, -31, -31, -20, -3, -2, 10, 2, -11, -9, 13, -7, -12, -2, -4, -6, 24, -4, -2, -8, 13, -5, 2, 8, -5, -2, 1, 8, 0, 23, 0, 0, 11, -4, -16, -3, -2, 2, 8, -32, 17, -18, -3, 0, 1, 25, -3, -1, -10, 0, 11, 19, 8, 12, -9, -3, -17, -2, 3, 1, -5, 17, -5, -10, 20, -5, -6, -3, 18, -2, -7, -6, 10, -6, 20, -21, -12, -10, 0, 23, 7, 8, -2, 2, 4, -17, 15, -11, -5, -5, 10, -18, 4, 20, 14, 24, 16, 18, 24, 7, 14, 10, 0, 0, 5, -12, 26, 0, -8, 7, -31, 12, 22, 4, 3, -2, 1, -5, 7, 17, 2, 4, 8, -5, -7, 16, -1, -2, -7, 14, -9, -6, 0, 5, 0, -10, 19, -8, 0, 8, -15, 22, -16]\n"
     ]
    }
   ],
   "source": [
    "# Generamos el listado de numeros aleatorios aplicando Fibonacci\n",
    "\n",
    "numeros_fibonacci = fibonacci(v1,v2,K_Fibonacci,n)\n",
    "\n",
    "# Imprimimos el array de fibonacci\n",
    "\n",
    "print('Listado de numeros aleatorios aplicando Fibonacci:\\n')\n",
    "print(numeros_fibonacci)\n",
    "\n",
    "# Generamos el listado de numeros aleatorios aplicando Congruencia Fundamental con valores de minimo y maximo\n",
    "\n",
    "numeros_congruencia = congruencia_fundamental(numeros_fibonacci,a,c,K_Congruencias,m,n,marcas_clase, probabilidades)\n",
    "\n",
    "print('\\nListado de numeros aleatorios aplicando Congruencia Fundamental entre el rango de valores establecido:\\n')\n",
    "print(numeros_congruencia)"
   ]
  },
  {
   "attachments": {},
   "cell_type": "markdown",
   "metadata": {},
   "source": [
    "Definimos y realizamos los Test's de Poker y Chi Cuadrado sobre los numeros aleatorios aplicando el rango de valores mínimos y maximos"
   ]
  },
  {
   "cell_type": "code",
   "execution_count": 20,
   "metadata": {},
   "outputs": [
    {
     "name": "stdout",
     "output_type": "stream",
     "text": [
      "83.04761904761904 < 187.21314800039414\n",
      "\n",
      "El resultado del test de Poker para Fibonacci + Congruencia Fundamental es VERDADERO\n",
      "\n",
      "193.99999999999986 > 177.5399402537021\n",
      "\n",
      "El resultado del test de Ji Cuadrado para Fibonacci + Congruencia Fundamental es FALSO\n",
      "\n"
     ]
    }
   ],
   "source": [
    "      \n",
    "# Se genera la impresion de los resultados en la funcion\n",
    "\n",
    "resultado = test_poker(numeros_congruencia, minimo, maximo)\n",
    "\n",
    "# Se genera la impresion de los resultados en la funcion\n",
    "\n",
    "resultadoTest = res_test_poker(numeros_congruencia, resultado, confianza)\n",
    "\n",
    "# Se genera la impresion de los resultados en la funcion\n",
    "\n",
    "resultado = test_jicuadrado(numeros_congruencia)\n",
    "\n",
    "# Se genera la impresion de los resultados en la funcion\n",
    "\n",
    "resultadoTest = res_test_chi(numeros_congruencia, resultado, confianza)"
   ]
  },
  {
   "attachments": {},
   "cell_type": "markdown",
   "metadata": {},
   "source": [
    "Generamos la distribucion de Bernoulli sobre los numeros aleatorios del rango de valores establecido, contabilizamos y graficamos los datos obtenidos."
   ]
  },
  {
   "cell_type": "code",
   "execution_count": 21,
   "metadata": {},
   "outputs": [
    {
     "name": "stdout",
     "output_type": "stream",
     "text": [
      "[0 1 0 0 1 1 1 1 1 1 1 0 0 1 0 0 1 0 0 1 0 0 0 1 1 0 0 0 0 0 0 1 0 0 0 0 0\n",
      " 0 1 1 1 0 0 0 0 0 0 1 1 0 0 1 0 0 0 0 0 1 0 0 0 1 0 1 1 0 0 0 1 0 1 0 0 1\n",
      " 0 0 0 0 1 1 0 1 0 0 0 0 1 0 0 0 0 1 1 1 1 0 0 0 0 1 0 0 1 0 0 1 0 0 0 1 0\n",
      " 0 0 1 0 1 0 0 0 0 1 1 1 0 1 1 0 1 0 0 0 1 0 1 1 1 1 1 1 1 1 1 1 0 0 1 0 1\n",
      " 0 0 1 0 1 1 1 1 0 0 0 1 1 1 1 1 0 0 1 0 0 0 1 0 0 0 1 0 0 1 0 0 1 0 1 0]\n",
      "\n",
      "Distribucion de los datos: {0: 108, 1: 76}\n",
      "\n"
     ]
    },
    {
     "data": {
      "application/vnd.plotly.v1+json": {
       "config": {
        "plotlyServerURL": "https://plot.ly"
       },
       "data": [
        {
         "labels": [
          0,
          1
         ],
         "type": "pie",
         "values": [
          108,
          76
         ]
        }
       ],
       "layout": {
        "template": {
         "data": {
          "bar": [
           {
            "error_x": {
             "color": "#2a3f5f"
            },
            "error_y": {
             "color": "#2a3f5f"
            },
            "marker": {
             "line": {
              "color": "#E5ECF6",
              "width": 0.5
             },
             "pattern": {
              "fillmode": "overlay",
              "size": 10,
              "solidity": 0.2
             }
            },
            "type": "bar"
           }
          ],
          "barpolar": [
           {
            "marker": {
             "line": {
              "color": "#E5ECF6",
              "width": 0.5
             },
             "pattern": {
              "fillmode": "overlay",
              "size": 10,
              "solidity": 0.2
             }
            },
            "type": "barpolar"
           }
          ],
          "carpet": [
           {
            "aaxis": {
             "endlinecolor": "#2a3f5f",
             "gridcolor": "white",
             "linecolor": "white",
             "minorgridcolor": "white",
             "startlinecolor": "#2a3f5f"
            },
            "baxis": {
             "endlinecolor": "#2a3f5f",
             "gridcolor": "white",
             "linecolor": "white",
             "minorgridcolor": "white",
             "startlinecolor": "#2a3f5f"
            },
            "type": "carpet"
           }
          ],
          "choropleth": [
           {
            "colorbar": {
             "outlinewidth": 0,
             "ticks": ""
            },
            "type": "choropleth"
           }
          ],
          "contour": [
           {
            "colorbar": {
             "outlinewidth": 0,
             "ticks": ""
            },
            "colorscale": [
             [
              0,
              "#0d0887"
             ],
             [
              0.1111111111111111,
              "#46039f"
             ],
             [
              0.2222222222222222,
              "#7201a8"
             ],
             [
              0.3333333333333333,
              "#9c179e"
             ],
             [
              0.4444444444444444,
              "#bd3786"
             ],
             [
              0.5555555555555556,
              "#d8576b"
             ],
             [
              0.6666666666666666,
              "#ed7953"
             ],
             [
              0.7777777777777778,
              "#fb9f3a"
             ],
             [
              0.8888888888888888,
              "#fdca26"
             ],
             [
              1,
              "#f0f921"
             ]
            ],
            "type": "contour"
           }
          ],
          "contourcarpet": [
           {
            "colorbar": {
             "outlinewidth": 0,
             "ticks": ""
            },
            "type": "contourcarpet"
           }
          ],
          "heatmap": [
           {
            "colorbar": {
             "outlinewidth": 0,
             "ticks": ""
            },
            "colorscale": [
             [
              0,
              "#0d0887"
             ],
             [
              0.1111111111111111,
              "#46039f"
             ],
             [
              0.2222222222222222,
              "#7201a8"
             ],
             [
              0.3333333333333333,
              "#9c179e"
             ],
             [
              0.4444444444444444,
              "#bd3786"
             ],
             [
              0.5555555555555556,
              "#d8576b"
             ],
             [
              0.6666666666666666,
              "#ed7953"
             ],
             [
              0.7777777777777778,
              "#fb9f3a"
             ],
             [
              0.8888888888888888,
              "#fdca26"
             ],
             [
              1,
              "#f0f921"
             ]
            ],
            "type": "heatmap"
           }
          ],
          "heatmapgl": [
           {
            "colorbar": {
             "outlinewidth": 0,
             "ticks": ""
            },
            "colorscale": [
             [
              0,
              "#0d0887"
             ],
             [
              0.1111111111111111,
              "#46039f"
             ],
             [
              0.2222222222222222,
              "#7201a8"
             ],
             [
              0.3333333333333333,
              "#9c179e"
             ],
             [
              0.4444444444444444,
              "#bd3786"
             ],
             [
              0.5555555555555556,
              "#d8576b"
             ],
             [
              0.6666666666666666,
              "#ed7953"
             ],
             [
              0.7777777777777778,
              "#fb9f3a"
             ],
             [
              0.8888888888888888,
              "#fdca26"
             ],
             [
              1,
              "#f0f921"
             ]
            ],
            "type": "heatmapgl"
           }
          ],
          "histogram": [
           {
            "marker": {
             "pattern": {
              "fillmode": "overlay",
              "size": 10,
              "solidity": 0.2
             }
            },
            "type": "histogram"
           }
          ],
          "histogram2d": [
           {
            "colorbar": {
             "outlinewidth": 0,
             "ticks": ""
            },
            "colorscale": [
             [
              0,
              "#0d0887"
             ],
             [
              0.1111111111111111,
              "#46039f"
             ],
             [
              0.2222222222222222,
              "#7201a8"
             ],
             [
              0.3333333333333333,
              "#9c179e"
             ],
             [
              0.4444444444444444,
              "#bd3786"
             ],
             [
              0.5555555555555556,
              "#d8576b"
             ],
             [
              0.6666666666666666,
              "#ed7953"
             ],
             [
              0.7777777777777778,
              "#fb9f3a"
             ],
             [
              0.8888888888888888,
              "#fdca26"
             ],
             [
              1,
              "#f0f921"
             ]
            ],
            "type": "histogram2d"
           }
          ],
          "histogram2dcontour": [
           {
            "colorbar": {
             "outlinewidth": 0,
             "ticks": ""
            },
            "colorscale": [
             [
              0,
              "#0d0887"
             ],
             [
              0.1111111111111111,
              "#46039f"
             ],
             [
              0.2222222222222222,
              "#7201a8"
             ],
             [
              0.3333333333333333,
              "#9c179e"
             ],
             [
              0.4444444444444444,
              "#bd3786"
             ],
             [
              0.5555555555555556,
              "#d8576b"
             ],
             [
              0.6666666666666666,
              "#ed7953"
             ],
             [
              0.7777777777777778,
              "#fb9f3a"
             ],
             [
              0.8888888888888888,
              "#fdca26"
             ],
             [
              1,
              "#f0f921"
             ]
            ],
            "type": "histogram2dcontour"
           }
          ],
          "mesh3d": [
           {
            "colorbar": {
             "outlinewidth": 0,
             "ticks": ""
            },
            "type": "mesh3d"
           }
          ],
          "parcoords": [
           {
            "line": {
             "colorbar": {
              "outlinewidth": 0,
              "ticks": ""
             }
            },
            "type": "parcoords"
           }
          ],
          "pie": [
           {
            "automargin": true,
            "type": "pie"
           }
          ],
          "scatter": [
           {
            "fillpattern": {
             "fillmode": "overlay",
             "size": 10,
             "solidity": 0.2
            },
            "type": "scatter"
           }
          ],
          "scatter3d": [
           {
            "line": {
             "colorbar": {
              "outlinewidth": 0,
              "ticks": ""
             }
            },
            "marker": {
             "colorbar": {
              "outlinewidth": 0,
              "ticks": ""
             }
            },
            "type": "scatter3d"
           }
          ],
          "scattercarpet": [
           {
            "marker": {
             "colorbar": {
              "outlinewidth": 0,
              "ticks": ""
             }
            },
            "type": "scattercarpet"
           }
          ],
          "scattergeo": [
           {
            "marker": {
             "colorbar": {
              "outlinewidth": 0,
              "ticks": ""
             }
            },
            "type": "scattergeo"
           }
          ],
          "scattergl": [
           {
            "marker": {
             "colorbar": {
              "outlinewidth": 0,
              "ticks": ""
             }
            },
            "type": "scattergl"
           }
          ],
          "scattermapbox": [
           {
            "marker": {
             "colorbar": {
              "outlinewidth": 0,
              "ticks": ""
             }
            },
            "type": "scattermapbox"
           }
          ],
          "scatterpolar": [
           {
            "marker": {
             "colorbar": {
              "outlinewidth": 0,
              "ticks": ""
             }
            },
            "type": "scatterpolar"
           }
          ],
          "scatterpolargl": [
           {
            "marker": {
             "colorbar": {
              "outlinewidth": 0,
              "ticks": ""
             }
            },
            "type": "scatterpolargl"
           }
          ],
          "scatterternary": [
           {
            "marker": {
             "colorbar": {
              "outlinewidth": 0,
              "ticks": ""
             }
            },
            "type": "scatterternary"
           }
          ],
          "surface": [
           {
            "colorbar": {
             "outlinewidth": 0,
             "ticks": ""
            },
            "colorscale": [
             [
              0,
              "#0d0887"
             ],
             [
              0.1111111111111111,
              "#46039f"
             ],
             [
              0.2222222222222222,
              "#7201a8"
             ],
             [
              0.3333333333333333,
              "#9c179e"
             ],
             [
              0.4444444444444444,
              "#bd3786"
             ],
             [
              0.5555555555555556,
              "#d8576b"
             ],
             [
              0.6666666666666666,
              "#ed7953"
             ],
             [
              0.7777777777777778,
              "#fb9f3a"
             ],
             [
              0.8888888888888888,
              "#fdca26"
             ],
             [
              1,
              "#f0f921"
             ]
            ],
            "type": "surface"
           }
          ],
          "table": [
           {
            "cells": {
             "fill": {
              "color": "#EBF0F8"
             },
             "line": {
              "color": "white"
             }
            },
            "header": {
             "fill": {
              "color": "#C8D4E3"
             },
             "line": {
              "color": "white"
             }
            },
            "type": "table"
           }
          ]
         },
         "layout": {
          "annotationdefaults": {
           "arrowcolor": "#2a3f5f",
           "arrowhead": 0,
           "arrowwidth": 1
          },
          "autotypenumbers": "strict",
          "coloraxis": {
           "colorbar": {
            "outlinewidth": 0,
            "ticks": ""
           }
          },
          "colorscale": {
           "diverging": [
            [
             0,
             "#8e0152"
            ],
            [
             0.1,
             "#c51b7d"
            ],
            [
             0.2,
             "#de77ae"
            ],
            [
             0.3,
             "#f1b6da"
            ],
            [
             0.4,
             "#fde0ef"
            ],
            [
             0.5,
             "#f7f7f7"
            ],
            [
             0.6,
             "#e6f5d0"
            ],
            [
             0.7,
             "#b8e186"
            ],
            [
             0.8,
             "#7fbc41"
            ],
            [
             0.9,
             "#4d9221"
            ],
            [
             1,
             "#276419"
            ]
           ],
           "sequential": [
            [
             0,
             "#0d0887"
            ],
            [
             0.1111111111111111,
             "#46039f"
            ],
            [
             0.2222222222222222,
             "#7201a8"
            ],
            [
             0.3333333333333333,
             "#9c179e"
            ],
            [
             0.4444444444444444,
             "#bd3786"
            ],
            [
             0.5555555555555556,
             "#d8576b"
            ],
            [
             0.6666666666666666,
             "#ed7953"
            ],
            [
             0.7777777777777778,
             "#fb9f3a"
            ],
            [
             0.8888888888888888,
             "#fdca26"
            ],
            [
             1,
             "#f0f921"
            ]
           ],
           "sequentialminus": [
            [
             0,
             "#0d0887"
            ],
            [
             0.1111111111111111,
             "#46039f"
            ],
            [
             0.2222222222222222,
             "#7201a8"
            ],
            [
             0.3333333333333333,
             "#9c179e"
            ],
            [
             0.4444444444444444,
             "#bd3786"
            ],
            [
             0.5555555555555556,
             "#d8576b"
            ],
            [
             0.6666666666666666,
             "#ed7953"
            ],
            [
             0.7777777777777778,
             "#fb9f3a"
            ],
            [
             0.8888888888888888,
             "#fdca26"
            ],
            [
             1,
             "#f0f921"
            ]
           ]
          },
          "colorway": [
           "#636efa",
           "#EF553B",
           "#00cc96",
           "#ab63fa",
           "#FFA15A",
           "#19d3f3",
           "#FF6692",
           "#B6E880",
           "#FF97FF",
           "#FECB52"
          ],
          "font": {
           "color": "#2a3f5f"
          },
          "geo": {
           "bgcolor": "white",
           "lakecolor": "white",
           "landcolor": "#E5ECF6",
           "showlakes": true,
           "showland": true,
           "subunitcolor": "white"
          },
          "hoverlabel": {
           "align": "left"
          },
          "hovermode": "closest",
          "mapbox": {
           "style": "light"
          },
          "paper_bgcolor": "white",
          "plot_bgcolor": "#E5ECF6",
          "polar": {
           "angularaxis": {
            "gridcolor": "white",
            "linecolor": "white",
            "ticks": ""
           },
           "bgcolor": "#E5ECF6",
           "radialaxis": {
            "gridcolor": "white",
            "linecolor": "white",
            "ticks": ""
           }
          },
          "scene": {
           "xaxis": {
            "backgroundcolor": "#E5ECF6",
            "gridcolor": "white",
            "gridwidth": 2,
            "linecolor": "white",
            "showbackground": true,
            "ticks": "",
            "zerolinecolor": "white"
           },
           "yaxis": {
            "backgroundcolor": "#E5ECF6",
            "gridcolor": "white",
            "gridwidth": 2,
            "linecolor": "white",
            "showbackground": true,
            "ticks": "",
            "zerolinecolor": "white"
           },
           "zaxis": {
            "backgroundcolor": "#E5ECF6",
            "gridcolor": "white",
            "gridwidth": 2,
            "linecolor": "white",
            "showbackground": true,
            "ticks": "",
            "zerolinecolor": "white"
           }
          },
          "shapedefaults": {
           "line": {
            "color": "#2a3f5f"
           }
          },
          "ternary": {
           "aaxis": {
            "gridcolor": "white",
            "linecolor": "white",
            "ticks": ""
           },
           "baxis": {
            "gridcolor": "white",
            "linecolor": "white",
            "ticks": ""
           },
           "bgcolor": "#E5ECF6",
           "caxis": {
            "gridcolor": "white",
            "linecolor": "white",
            "ticks": ""
           }
          },
          "title": {
           "x": 0.05
          },
          "xaxis": {
           "automargin": true,
           "gridcolor": "white",
           "linecolor": "white",
           "ticks": "",
           "title": {
            "standoff": 15
           },
           "zerolinecolor": "white",
           "zerolinewidth": 2
          },
          "yaxis": {
           "automargin": true,
           "gridcolor": "white",
           "linecolor": "white",
           "ticks": "",
           "title": {
            "standoff": 15
           },
           "zerolinecolor": "white",
           "zerolinewidth": 2
          }
         }
        }
       }
      }
     },
     "metadata": {},
     "output_type": "display_data"
    }
   ],
   "source": [
    "\n",
    "distribucion = distribucion_bernoulli(numeros_congruencia, minimo, maximo)\n",
    "\n",
    "print(f'{distribucion}\\n')\n",
    "\n",
    "distribucion_bernoulli_grafico(distribucion)"
   ]
  },
  {
   "attachments": {},
   "cell_type": "markdown",
   "metadata": {},
   "source": [
    "Mediante los datos obtenidos graficamos la distribución normal"
   ]
  },
  {
   "cell_type": "code",
   "execution_count": 22,
   "metadata": {},
   "outputs": [
    {
     "name": "stdout",
     "output_type": "stream",
     "text": [
      "la media es: 1.1304347826086956\n",
      "\n",
      "la desviación estandar es: 12.132616291296516\n",
      "\n"
     ]
    },
    {
     "data": {
      "image/png": "[encoded data removed]",
      "text/plain": [
       "<Figure size 640x480 with 1 Axes>"
      ]
     },
     "metadata": {},
     "output_type": "display_data"
    }
   ],
   "source": [
    "distribucion_normal(numeros_congruencia)"
   ]
  },
  {
   "attachments": {},
   "cell_type": "markdown",
   "metadata": {},
   "source": [
    "# Simulación"
   ]
  },
  {
   "attachments": {},
   "cell_type": "markdown",
   "metadata": {},
   "source": [
    "### Relevamiento de Humedad Relativa de la Localidad de POSADAS - MISIONES durantes los meses JULIO - DICIEMBRE del 2022\n",
    "\n",
    "### Fuente: https://www.smn.gob.ar/descarga-de-datos"
   ]
  },
  {
   "attachments": {},
   "cell_type": "markdown",
   "metadata": {},
   "source": [
    "Definimos y establecemos las marcas de clases para generar las variables aleatorias sobre los datos de simulación requeridos"
   ]
  },
  {
   "cell_type": "code",
   "execution_count": 23,
   "metadata": {},
   "outputs": [],
   "source": [
    "# Generamos una lista de las diferencias Humedad procesadas previamente\n",
    "muestrasHumedadRelativa = []\n",
    "\n",
    "with open(\"datos_extraidos_diferencia_humedad.txt\") as archivo:\n",
    "    for linea in archivo:\n",
    "        \n",
    "        # Dividimos la línea en dos valores (El primero corresponde a la fecha, el segundo a la Diferencia de Humedad respecto a la fecha anterior)\n",
    "        fecha, diferencia = linea.strip().split(\",\")\n",
    "        \n",
    "        # Convertimos la diferencia a un número y añadirlo a la lista\n",
    "        muestrasHumedadRelativa.append(int(diferencia))"
   ]
  },
  {
   "attachments": {},
   "cell_type": "markdown",
   "metadata": {},
   "source": [
    "Ejecutamos la simulación"
   ]
  },
  {
   "cell_type": "code",
   "execution_count": 24,
   "metadata": {},
   "outputs": [
    {
     "name": "stdout",
     "output_type": "stream",
     "text": [
      "Las variaciones de humedad relativa observadas son:\n",
      "[-5, -7, 12, -12, 0, -4, -1, 6, -13, 2, 12, 7, 0, 6, -13, 23, -14, 3, 1, -2, -10, -3, 2, -7, 3, 0, 7, 9, -12, 2, -7, 3, 0, 1, 17, -11, 17, -6, -2, 4, -10, -4, -1, -4, 4, -10, 16, 12, -34, -1, 0, 6, 4, 5, 4, -10, -2, -4, 14, -11, 0, 1, -1, 29, -31, -10, 17, 7, 6, -12, 9, -22, 1, 7, -1, 4, 0, 0, -10, -5, 37, -4, -8, -7, -6, -7, 13, 1, -4, -9, 27, 8, -15, -14, -8, -2, 19, 17, -16, -12, -5, 26, 8, -17, 1, -7, 5, 4, -17, 5, 14, 17, -9, -9, -10, -19, 1, 19, -3, -10, 24, 0, 0, -21, -8, -4, -5, 9, 0, -5, 7, -4, 12, 6, 15, 10, -25, -13, 0, -6, -2, 5, 8, 35, -12, -22, -7, -11, 9, 7, 4, -5, 2, 10, 7, 1, -9, -4, -3, -5, 8, 3, 5, 0, 15, -31, -9, 10, -9, 1, 2, 14, -5, -8, 3, 3, -6, 14, 0, 17, -17, -18, -2, 4]\n",
      "\n",
      "Las variaciones de humedad relativa con la muestra de numeros pseudoaleatorios generados artificialmente son:\n",
      "[1, 11, -6, 0, 14, 28, 7, 13, 11, 14, 9, 0, -9, 25, -5, -1, 9, -3, -10, 22, -3, -4, -13, 12, 8, -3, 1, 1, -7, -3, -6, 11, -6, -6, -16, -5, -4, -21, 2, 26, 6, -34, -31, -31, -20, -3, -2, 10, 2, -11, -9, 13, -7, -12, -2, -4, -6, 24, -4, -2, -8, 13, -5, 2, 8, -5, -2, 1, 8, 0, 23, 0, 0, 11, -4, -16, -3, -2, 2, 8, -32, 17, -18, -3, 0, 1, 25, -3, -1, -10, 0, 11, 19, 8, 12, -9, -3, -17, -2, 3, 1, -5, 17, -5, -10, 20, -5, -6, -3, 18, -2, -7, -6, 10, -6, 20, -21, -12, -10, 0, 23, 7, 8, -2, 2, 4, -17, 15, -11, -5, -5, 10, -18, 4, 20, 14, 24, 16, 18, 24, 7, 14, 10, 0, 0, 5, -12, 26, 0, -8, 7, -31, 12, 22, 4, 3, -2, 1, -5, 7, 17, 2, 4, 8, -5, -7, 16, -1, -2, -7, 14, -9, -6, 0, 5, 0, -10, 19, -8, 0, 8, -15, 22, -16]\n",
      "\n",
      "Las cantidad de muestras de humedad relativa artificial son: 184\n",
      "\n",
      "La amplitud total es: 71\n",
      "\n",
      "Donde el valor minimo es: -34 y el valor maximo es 37\n",
      "\n",
      "Marca 1 - Rango Inferior - Superior: [-34.0, -22.17] - Frecuencia Esperada: 4 - Frecuencia Observada: 5 - Probabilidad: 0.02174\n",
      "Marca 2 - Rango Inferior - Superior: [-22.17, -10.33] - Frecuencia Esperada: 23 - Frecuencia Observada: 17 - Probabilidad: 0.125\n",
      "Marca 3 - Rango Inferior - Superior: [-10.33, 1.5] - Frecuencia Esperada: 83 - Frecuencia Observada: 86 - Probabilidad: 0.45109\n",
      "Marca 4 - Rango Inferior - Superior: [1.5, 13.33] - Frecuencia Esperada: 52 - Frecuencia Observada: 45 - Probabilidad: 0.28261\n",
      "Marca 5 - Rango Inferior - Superior: [13.33, 25.17] - Frecuencia Esperada: 17 - Frecuencia Observada: 28 - Probabilidad: 0.09239\n",
      "Marca 6 - Rango Inferior - Superior: [25.17, 37.0] - Frecuencia Esperada: 5 - Frecuencia Observada: 3 - Probabilidad: 0.02717\n"
     ]
    },
    {
     "data": {
      "image/png": "[encoded data removed]",
      "text/plain": [
       "<Figure size 640x480 with 1 Axes>"
      ]
     },
     "metadata": {},
     "output_type": "display_data"
    }
   ],
   "source": [
    "#Ejecutamos la simulación para contrastar las muestras de la humedad relativa respecto de los numeros pseudoaleatorios generados con los parametros establecidos\n",
    "\n",
    "simulacion(muestrasHumedadRelativa, numeros_congruencia, marcas_clase)"
   ]
  }
 ],
 "metadata": {
  "kernelspec": {
   "display_name": "venv",
   "language": "python",
   "name": "python3"
  },
  "language_info": {
   "codemirror_mode": {
    "name": "ipython",
    "version": 3
   },
   "file_extension": ".py",
   "mimetype": "text/x-python",
   "name": "python",
   "nbconvert_exporter": "python",
   "pygments_lexer": "ipython3",
   "version": "3.10.6"
  },
  "orig_nbformat": 4,
  "vscode": {
   "interpreter": {
    "hash": "b30b7e55ed2a9e89422417c81362aa9bc2751cab5052b411412700b7a27426bb"
   }
  }
 },
 "nbformat": 4,
 "nbformat_minor": 2
}
