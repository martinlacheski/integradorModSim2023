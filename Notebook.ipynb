{
 "cells": [
  {
   "attachments": {},
   "cell_type": "markdown",
   "metadata": {},
   "source": [
    "# CONFIGURACIONES INICIALES"
   ]
  },
  {
   "attachments": {},
   "cell_type": "markdown",
   "metadata": {},
   "source": [
    "Python\n",
    "\n",
    "- Verificar que tenemos instalado python en nuestro sistema operativo\n",
    "\n",
    "Creamos Entorno virtual\n",
    "\n",
    "- En linux ejecutar: python3 -m venv venv\n",
    "- En windows ejecutar: py -m venv venv\n",
    "\n",
    "Activamos entorno virtual\n",
    "\n",
    "- En linux ejecutar:source venv/bin/activate\n",
    "- En windows ejecutar: .\\venv\\script\\activate\n",
    "\n",
    "Instalamos dependencias\n",
    "\n",
    "- pip install numpy\n",
    "- pip install ipython\n",
    "- pip install ipykernel\n",
    "- pip install plotly\n",
    "- pip install matplotlib \n",
    "- pip install nbformat\n",
    "- pip install scipy\n",
    "- pip install pandas\n",
    "\n",
    "Pasos finales\n",
    "\n",
    "- Una vez instalado todo, desactivar el entorno virtual ingresando en la terminal \"deactivate\"\n",
    "- Luego volver a activar el entorno virtual.\n",
    "- crear el kernel para ejecutar los comandos: ipython kernel install --user --name=venv\n",
    "- reiniciamos el Jupyter Notebook\n",
    "- Seleccionar el kernel utilizado en el entorno virtual y no el nativo del sistema operativo, desde VSCODE en la zona superior derecha.\n"
   ]
  },
  {
   "attachments": {},
   "cell_type": "markdown",
   "metadata": {},
   "source": [
    "# Inicio\n",
    "\n",
    "Importamos las librerias necesarias"
   ]
  },
  {
   "cell_type": "code",
   "execution_count": 1,
   "metadata": {},
   "outputs": [],
   "source": [
    "import collections\n",
    "import pandas as pd\n",
    "import numpy as np\n",
    "import matplotlib.pyplot as plt\n",
    "import plotly.graph_objects as go\n",
    "import nbformat\n",
    "from scipy.stats import chi2, chisquare"
   ]
  },
  {
   "attachments": {},
   "cell_type": "markdown",
   "metadata": {},
   "source": [
    "Definimos las variables necesarias para ejecutar"
   ]
  },
  {
   "cell_type": "code",
   "execution_count": 2,
   "metadata": {},
   "outputs": [],
   "source": [
    "############### VARIABLES FIBONACCI #################\n",
    "\n",
    "# primer parametro es \"v1\" que es el valor 1, \n",
    "v1 = 23\n",
    "\n",
    "# para provocar falso\n",
    "# v1 = 1\n",
    "\n",
    "# segundo parametro \"v2\" que es el valor 2,\n",
    "v2 = 67\n",
    "\n",
    "# para provocar falso\n",
    "# v2 = 4\n",
    "\n",
    "# tercer parametro es \"K\" y que es requerido por la funcion para \"(v1 + v2) <= K\"\n",
    "K_Fibonacci = 177\n",
    "\n",
    "############### VARIABLES CONGRUENCIA FUNDAMENTAL #################\n",
    "\n",
    "# primer parametro es \"a\" que multiplica a Vi, \n",
    "a = 1\n",
    "\n",
    "# segundo parametro \"c\" que multiplica a Vi-k, \n",
    "c = 1\n",
    "\n",
    "# para provocar falso\n",
    "# c = 4 # Falso test de Poker\n",
    "# c = 3 # Falso test de Chi\n",
    "\n",
    "# tercer parametro es \"K\" que es la cantidad de espacios a crear antes de los nros aleatorios\n",
    "K_Congruencias = 16\n",
    "\n",
    "# cuarto parametro es \"m\" que es el tope de numeros a generar\n",
    "m = 10\n",
    "\n",
    "# Minimo y Maximo (para utilizar congruencia fundamental entre un rango de valores)\n",
    "\n",
    "minimo = 0\n",
    "\n",
    "maximo = 12\n",
    "\n",
    "############### VARIABLES GENERALES #################\n",
    "\n",
    "# En Fibonacci y Congruencias el parametro \"n\" es la cantidad de numeros que queremos generar\n",
    "n = 1000\n",
    "\n",
    "# Definimos la confianza para aplicar en los TEST's de Poker y Ji Cuadrada\n",
    "confianza = 0.6"
   ]
  },
  {
   "attachments": {},
   "cell_type": "markdown",
   "metadata": {},
   "source": [
    "Definimos la funcion y generamos los numeros aleatorios de Fibonacci"
   ]
  },
  {
   "cell_type": "code",
   "execution_count": 3,
   "metadata": {},
   "outputs": [
    {
     "name": "stdout",
     "output_type": "stream",
     "text": [
      "Listado de numeros aleatorios aplicando Fibonacci:\n",
      "[23, 67, 90, 157, 70, 50, 120, 170, 113, 106, 42, 148, 13, 161, 174, 158, 155, 136, 114, 73, 10, 83, 93, 176, 92, 91, 6, 97, 103, 23, 126, 149, 98, 70, 168, 61, 52, 113, 165, 101, 89, 13, 102, 115, 40, 155, 18, 173, 14, 10, 24, 34, 58, 92, 150, 65, 38, 103, 141, 67, 31, 98, 129, 50, 2, 52, 54, 106, 160, 89, 72, 161, 56, 40, 96, 136, 55, 14, 69, 83, 152, 58, 33, 91, 124, 38, 162, 23, 8, 31, 39, 70, 109, 2, 111, 113, 47, 160, 30, 13, 43, 56, 99, 155, 77, 55, 132, 10, 142, 152, 117, 92, 32, 124, 156, 103, 82, 8, 90, 98, 11, 109, 120, 52, 172, 47, 42, 89, 131, 43, 174, 40, 37, 77, 114, 14, 128, 142, 93, 58, 151, 32, 6, 38, 44, 82, 126, 31, 157, 11, 168, 2, 170, 172, 165, 160, 148, 131, 102, 56, 158, 37, 18, 55, 73, 128, 24, 152, 176, 151, 150, 124, 97, 44, 141, 8, 149, 157, 129, 109, 61, 170, 54, 47, 101, 148, 72, 43, 115, 158, 96, 77, 173, 73, 69, 142, 34, 176, 33, 32, 65, 97, 162, 82, 67, 149, 39, 11, 50, 61, 111, 172, 106, 101, 30, 131, 161, 115, 99, 37, 136, 173, 132, 128, 83, 34, 117, 151, 91, 65, 156, 44, 23, 67, 90, 157, 70, 50, 120, 170, 113, 106, 42, 148, 13, 161, 174, 158, 155, 136, 114, 73, 10, 83, 93, 176, 92, 91, 6, 97, 103, 23, 126, 149, 98, 70, 168, 61, 52, 113, 165, 101, 89, 13, 102, 115, 40, 155, 18, 173, 14, 10, 24, 34, 58, 92, 150, 65, 38, 103, 141, 67, 31, 98, 129, 50, 2, 52, 54, 106, 160, 89, 72, 161, 56, 40, 96, 136, 55, 14, 69, 83, 152, 58, 33, 91, 124, 38, 162, 23, 8, 31, 39, 70, 109, 2, 111, 113, 47, 160, 30, 13, 43, 56, 99, 155, 77, 55, 132, 10, 142, 152, 117, 92, 32, 124, 156, 103, 82, 8, 90, 98, 11, 109, 120, 52, 172, 47, 42, 89, 131, 43, 174, 40, 37, 77, 114, 14, 128, 142, 93, 58, 151, 32, 6, 38, 44, 82, 126, 31, 157, 11, 168, 2, 170, 172, 165, 160, 148, 131, 102, 56, 158, 37, 18, 55, 73, 128, 24, 152, 176, 151, 150, 124, 97, 44, 141, 8, 149, 157, 129, 109, 61, 170, 54, 47, 101, 148, 72, 43, 115, 158, 96, 77, 173, 73, 69, 142, 34, 176, 33, 32, 65, 97, 162, 82, 67, 149, 39, 11, 50, 61, 111, 172, 106, 101, 30, 131, 161, 115, 99, 37, 136, 173, 132, 128, 83, 34, 117, 151, 91, 65, 156, 44, 23, 67, 90, 157, 70, 50, 120, 170, 113, 106, 42, 148, 13, 161, 174, 158, 155, 136, 114, 73, 10, 83, 93, 176, 92, 91, 6, 97, 103, 23, 126, 149, 98, 70, 168, 61, 52, 113, 165, 101, 89, 13, 102, 115, 40, 155, 18, 173, 14, 10, 24, 34, 58, 92, 150, 65, 38, 103, 141, 67, 31, 98, 129, 50, 2, 52, 54, 106, 160, 89, 72, 161, 56, 40, 96, 136, 55, 14, 69, 83, 152, 58, 33, 91, 124, 38, 162, 23, 8, 31, 39, 70, 109, 2, 111, 113, 47, 160, 30, 13, 43, 56, 99, 155, 77, 55, 132, 10, 142, 152, 117, 92, 32, 124, 156, 103, 82, 8, 90, 98, 11, 109, 120, 52, 172, 47, 42, 89, 131, 43, 174, 40, 37, 77, 114, 14, 128, 142, 93, 58, 151, 32, 6, 38, 44, 82, 126, 31, 157, 11, 168, 2, 170, 172, 165, 160, 148, 131, 102, 56, 158, 37, 18, 55, 73, 128, 24, 152, 176, 151, 150, 124, 97, 44, 141, 8, 149, 157, 129, 109, 61, 170, 54, 47, 101, 148, 72, 43, 115, 158, 96, 77, 173, 73, 69, 142, 34, 176, 33, 32, 65, 97, 162, 82, 67, 149, 39, 11, 50, 61, 111, 172, 106, 101, 30, 131, 161, 115, 99, 37, 136, 173, 132, 128, 83, 34, 117, 151, 91, 65, 156, 44, 23, 67, 90, 157, 70, 50, 120, 170, 113, 106, 42, 148, 13, 161, 174, 158, 155, 136, 114, 73, 10, 83, 93, 176, 92, 91, 6, 97, 103, 23, 126, 149, 98, 70, 168, 61, 52, 113, 165, 101, 89, 13, 102, 115, 40, 155, 18, 173, 14, 10, 24, 34, 58, 92, 150, 65, 38, 103, 141, 67, 31, 98, 129, 50, 2, 52, 54, 106, 160, 89, 72, 161, 56, 40, 96, 136, 55, 14, 69, 83, 152, 58, 33, 91, 124, 38, 162, 23, 8, 31, 39, 70, 109, 2, 111, 113, 47, 160, 30, 13, 43, 56, 99, 155, 77, 55, 132, 10, 142, 152, 117, 92, 32, 124, 156, 103, 82, 8, 90, 98, 11, 109, 120, 52, 172, 47, 42, 89, 131, 43, 174, 40, 37, 77, 114, 14, 128, 142, 93, 58, 151, 32, 6, 38, 44, 82, 126, 31, 157, 11, 168, 2, 170, 172, 165, 160, 148, 131, 102, 56, 158, 37, 18, 55, 73, 128, 24, 152, 176, 151, 150, 124, 97, 44, 141, 8, 149, 157, 129, 109, 61, 170, 54, 47, 101, 148, 72, 43, 115, 158, 96, 77, 173, 73, 69, 142, 34, 176, 33, 32, 65, 97, 162, 82, 67, 149, 39, 11, 50, 61, 111, 172, 106, 101, 30, 131, 161, 115, 99, 37, 136, 173, 132, 128, 83, 34, 117, 151, 91, 65, 156, 44, 23, 67, 90, 157, 70, 50, 120, 170, 113, 106, 42, 148, 13, 161, 174, 158, 155, 136, 114, 73, 10, 83, 93, 176, 92, 91, 6, 97, 103, 23, 126, 149, 98, 70, 168, 61, 52, 113, 165, 101, 89, 13, 102, 115, 40, 155, 18, 173, 14, 10, 24, 34, 58, 92, 150, 65, 38, 103, 141, 67, 31, 98, 129, 50, 2, 52, 54, 106, 160, 89, 72, 161, 56, 40]\n"
     ]
    }
   ],
   "source": [
    "def fibonacci(v1,v2,K,n):\n",
    "    if v1 < 0:\n",
    "        print('Valor inválido v1, tiene que ser mayor que CERO')\n",
    "    elif v2 < 0:\n",
    "        print('Valor inválido de v2, tiene que ser mayor que CERO')\n",
    "    elif v2 < v1:\n",
    "        print('Valor inválido, v2 es menor que v1')\n",
    "    elif K < 0:\n",
    "        print('Valor inválido de K para Fibonacci, tiene que ser mayor que CERO')\n",
    "    else:\n",
    "        list = []\n",
    "        list.append(v1)\n",
    "        list.append(v2)\n",
    "        for i in range(n):\n",
    "            if (v1 + v2) <= K:\n",
    "                total = v1 + v2 + (0 * K)\n",
    "            else:    \n",
    "                total = v1 + v2 + (-1 * K)\n",
    "                \n",
    "            # Reasignamos las variables\n",
    "            v1 = v2\n",
    "            v2 = total\n",
    "            \n",
    "            # Agregamos el numero nuevo\n",
    "            list.append(total)\n",
    "\n",
    "        # Retornamos el listado de numeros aleatorios concatenados \n",
    "        return(list)\n",
    "    \n",
    "# Generamos el listado de numeros aleatorios aplicando Fibonacci\n",
    "\n",
    "numeros_fibonacci = fibonacci(v1,v2,K_Fibonacci,n)\n",
    "\n",
    "# Imprimimos el array de fibonacci\n",
    "\n",
    "print('Listado de numeros aleatorios aplicando Fibonacci:')\n",
    "print(numeros_fibonacci)"
   ]
  },
  {
   "attachments": {},
   "cell_type": "markdown",
   "metadata": {},
   "source": [
    "Definimos la funcion y generamos los numeros aleatorios mediante la Congruencia fundamental y utilizando la serie de Fibonacci"
   ]
  },
  {
   "cell_type": "code",
   "execution_count": 4,
   "metadata": {},
   "outputs": [
    {
     "name": "stdout",
     "output_type": "stream",
     "text": [
      "Listado de numeros aleatorios aplicando Congruencia Fundamental:\n",
      "[1, 0, 8, 8, 6, 0, 2, 2, 4, 9, 6, 1, 0, 4, 7, 4, 1, 2, 6, 1, 3, 0, 3, 3, 9, 8, 3, 4, 0, 4, 7, 4, 4, 4, 4, 1, 1, 5, 6, 1, 3, 0, 9, 9, 8, 3, 1, 7, 1, 4, 8, 5, 6, 1, 7, 1, 4, 1, 5, 6, 7, 6, 6, 2, 4, 2, 6, 8, 4, 2, 9, 7, 9, 9, 1, 3, 7, 3, 3, 9, 5, 4, 2, 9, 1, 3, 0, 3, 9, 8, 7, 5, 5, 3, 1, 4, 5, 5, 3, 1, 7, 1, 8, 2, 3, 8, 4, 2, 9, 4, 3, 0, 9, 2, 4, 9, 6, 8, 7, 5, 5, 6, 1, 0, 4, 4, 4, 4, 1, 5, 9, 7, 2, 5, 7, 2, 5, 7, 2, 5, 0, 8, 4, 5, 9, 7, 6, 6, 8, 4, 5, 2, 0, 2, 5, 3, 1, 0, 7, 0, 0, 0, 3, 9, 2, 4, 6, 6, 2, 8, 6, 0, 2, 8, 6, 7, 6, 6, 5, 4, 2, 9, 4, 6, 3, 2, 8, 6, 0, 9, 9, 4, 6, 0, 2, 8, 3, 4, 0, 0, 3, 3, 9, 5, 7, 5, 5, 6, 4, 3, 0, 3, 6, 2, 4, 2, 6, 8, 7, 1, 4, 5, 2, 3, 8, 4, 5, 9, 7, 2, 5, 7, 5, 8, 6, 7, 3, 3, 2, 8, 3, 7, 3, 3, 9, 8, 7, 8, 1, 2, 6, 1, 3, 0, 3, 3, 9, 8, 3, 4, 0, 4, 7, 4, 4, 4, 4, 1, 1, 5, 6, 1, 3, 0, 9, 9, 8, 3, 1, 7, 1, 4, 8, 5, 6, 1, 7, 1, 4, 1, 5, 6, 7, 6, 6, 2, 4, 2, 6, 8, 4, 2, 9, 7, 9, 9, 1, 3, 7, 3, 3, 9, 5, 4, 2, 9, 1, 3, 0, 3, 9, 8, 7, 5, 5, 3, 1, 4, 5, 5, 3, 1, 7, 1, 8, 2, 3, 8, 4, 2, 9, 4, 3, 0, 9, 2, 4, 9, 6, 8, 7, 5, 5, 6, 1, 0, 4, 4, 4, 4, 1, 5, 9, 7, 2, 5, 7, 2, 5, 7, 2, 5, 0, 8, 4, 5, 9, 7, 6, 6, 8, 4, 5, 2, 0, 2, 5, 3, 1, 0, 7, 0, 0, 0, 3, 9, 2, 4, 6, 6, 2, 8, 6, 0, 2, 8, 6, 7, 6, 6, 5, 4, 2, 9, 4, 6, 3, 2, 8, 6, 0, 9, 9, 4, 6, 0, 2, 8, 3, 4, 0, 0, 3, 3, 9, 5, 7, 5, 5, 6, 4, 3, 0, 3, 6, 2, 4, 2, 6, 8, 7, 1, 4, 5, 2, 3, 8, 4, 5, 9, 7, 2, 5, 7, 5, 8, 6, 7, 3, 3, 2, 8, 3, 7, 3, 3, 9, 8, 7, 8, 1, 2, 6, 1, 3, 0, 3, 3, 9, 8, 3, 4, 0, 4, 7, 4, 4, 4, 4, 1, 1, 5, 6, 1, 3, 0, 9, 9, 8, 3, 1, 7, 1, 4, 8, 5, 6, 1, 7, 1, 4, 1, 5, 6, 7, 6, 6, 2, 4, 2, 6, 8, 4, 2, 9, 7, 9, 9, 1, 3, 7, 3, 3, 9, 5, 4, 2, 9, 1, 3, 0, 3, 9, 8, 7, 5, 5, 3, 1, 4, 5, 5, 3, 1, 7, 1, 8, 2, 3, 8, 4, 2, 9, 4, 3, 0, 9, 2, 4, 9, 6, 8, 7, 5, 5, 6, 1, 0, 4, 4, 4, 4, 1, 5, 9, 7, 2, 5, 7, 2, 5, 7, 2, 5, 0, 8, 4, 5, 9, 7, 6, 6, 8, 4, 5, 2, 0, 2, 5, 3, 1, 0, 7, 0, 0, 0, 3, 9, 2, 4, 6, 6, 2, 8, 6, 0, 2, 8, 6, 7, 6, 6, 5, 4, 2, 9, 4, 6, 3, 2, 8, 6, 0, 9, 9, 4, 6, 0, 2, 8, 3, 4, 0, 0, 3, 3, 9, 5, 7, 5, 5, 6, 4, 3, 0, 3, 6, 2, 4, 2, 6, 8, 7, 1, 4, 5, 2, 3, 8, 4, 5, 9, 7, 2, 5, 7, 5, 8, 6, 7, 3, 3, 2, 8, 3, 7, 3, 3, 9, 8, 7, 8, 1, 2, 6, 1, 3, 0, 3, 3, 9, 8, 3, 4, 0, 4, 7, 4, 4, 4, 4, 1, 1, 5, 6, 1, 3, 0, 9, 9, 8, 3, 1, 7, 1, 4, 8, 5, 6, 1, 7, 1, 4, 1, 5, 6, 7, 6, 6, 2, 4, 2, 6, 8, 4, 2, 9, 7, 9, 9, 1, 3, 7, 3, 3, 9, 5, 4, 2, 9, 1, 3, 0, 3, 9, 8, 7, 5, 5, 3, 1, 4, 5, 5, 3, 1, 7, 1, 8, 2, 3, 8, 4, 2, 9, 4, 3, 0, 9, 2, 4, 9, 6, 8, 7, 5, 5, 6, 1, 0, 4, 4, 4, 4, 1, 5, 9, 7, 2, 5, 7, 2, 5, 7, 2, 5, 0, 8, 4, 5, 9, 7, 6, 6, 8, 4, 5, 2, 0, 2, 5, 3, 1, 0, 7, 0, 0, 0, 3, 9, 2, 4, 6, 6, 2, 8, 6, 0, 2, 8, 6, 7, 6, 6, 5, 4, 2, 9, 4, 6, 3, 2, 8, 6, 0, 9, 9, 4, 6, 0, 2, 8, 3, 4, 0, 0, 3, 3, 9, 5, 7, 5, 5, 6, 4, 3, 0, 3, 6, 2, 4, 2, 6, 8, 7, 1, 4, 5, 2, 3, 8, 4, 5, 9, 7, 2, 5, 7, 5, 8, 6, 7, 3, 3, 2, 8, 3, 7, 3, 3, 9, 8, 7, 8, 1, 2, 6, 1, 3, 0, 3, 3, 9, 8, 3, 4, 0, 4, 7, 4, 4, 4, 4, 1, 1, 5, 6, 1, 3, 0, 9, 9, 8, 3, 1, 7, 1, 4, 8, 5, 6, 1, 7, 1, 4, 1, 5, 6, 7, 6, 6, 2, 4, 2, 6, 8, 4, 2, 9, 7]\n"
     ]
    }
   ],
   "source": [
    "def congruencia_fundamental(a,c,K_Congruencias,m,n):\n",
    "    if a <= 0:\n",
    "        print('Valor inválido de A, tiene que ser mayor que CERO')\n",
    "    elif c <= 0:\n",
    "        print('Valor inválido de C, tiene que ser mayor que CERO')\n",
    "    elif m <= 0:\n",
    "        print('Valor inválido de M, tiene que ser mayor que CERO')    \n",
    "    elif m < a:\n",
    "        print('Valor inválido, M debe ser mayor que A')\n",
    "    elif K_Congruencias < 0:\n",
    "        print('Valor invalido de K para congruencias, tiene que ser mayor que CERO')\n",
    "    else:\n",
    "        # Creamos un Array auxiliar de K para el método con la secuencia Fibonacci\n",
    "        aux = numeros_fibonacci\n",
    "                       \n",
    "        # Ejecutamos el metodo de congruencia fundamental\n",
    "        list = []\n",
    "        for i in range(n):\n",
    "            nro = ((a * aux[i-1] + c * aux[i-K_Congruencias]) % m)\n",
    "            list.append(nro)\n",
    "\n",
    "        # Retornamos el listado de numeros aleatorios\n",
    "        return(list)\n",
    "\n",
    "# Generamos el listado de numeros aleatorios aplicando Congruencia Fundamental\n",
    "\n",
    "numeros_congruencia = congruencia_fundamental(a,c,K_Congruencias,m,n)\n",
    "\n",
    "print('Listado de numeros aleatorios aplicando Congruencia Fundamental:')\n",
    "print(numeros_congruencia)"
   ]
  },
  {
   "attachments": {},
   "cell_type": "markdown",
   "metadata": {},
   "source": [
    "Definimos y generamos el listado de numeros aleatorios utilizando un rango de valores minimos y maximos"
   ]
  },
  {
   "cell_type": "code",
   "execution_count": 5,
   "metadata": {},
   "outputs": [
    {
     "name": "stdout",
     "output_type": "stream",
     "text": [
      "Listado de numeros aleatorios aplicando Congruencia Fundamental entre rango de valores:\n",
      "[1, 10, 2, 12, 1, 5, 11, 3, 1, 9, 2, 3, 5, 0, 5, 5, 2, 12, 6, 10, 8, 10, 5, 2, 7, 1, 0, 6, 6, 12, 10, 9, 6, 7, 5, 12, 9, 0, 9, 9, 10, 11, 0, 11, 11, 1, 12, 5, 4, 1, 10, 11, 8, 6, 1, 7, 0, 12, 12, 11, 2, 5, 7, 12, 11, 2, 0, 2, 2, 4, 11, 7, 5, 4, 1, 5, 6, 3, 1, 4, 5, 9, 6, 7, 0, 7, 12, 6, 10, 8, 5, 0, 5, 5, 2, 7, 9, 8, 4, 4, 0, 4, 4, 8, 12, 12, 3, 2, 10, 12, 9, 0, 1, 6, 7, 0, 12, 4, 8, 12, 7, 11, 5, 3, 0, 3, 8, 3, 11, 1, 4, 5, 1, 11, 12, 10, 1, 11, 12, 2, 6, 8, 6, 6, 12, 5, 4, 9, 5, 1, 11, 12, 2, 1, 3, 9, 4, 5, 1, 11, 4, 2, 11, 5, 3, 8, 11, 11, 9, 7, 8, 7, 7, 6, 5, 11, 8, 6, 1, 12, 5, 9, 1, 2, 8, 10, 5, 7, 4, 11, 2, 5, 12, 4, 8, 4, 12, 8, 7, 7, 6, 0, 6, 6, 4, 2, 6, 0, 11, 11, 9, 7, 3, 2, 10, 4, 1, 5, 11, 8, 11, 6, 4, 2, 11, 5, 8, 0, 8, 0, 0, 0, 5, 10, 2, 12, 1, 5, 11, 3, 1, 9, 2, 3, 5, 0, 5, 5, 2, 12, 6, 10, 8, 10, 5, 2, 7, 1, 0, 6, 6, 12, 10, 9, 6, 7, 5, 12, 9, 0, 9, 9, 10, 11, 0, 11, 11, 1, 12, 5, 4, 1, 10, 11, 8, 6, 1, 7, 0, 12, 12, 11, 2, 5, 7, 12, 11, 2, 0, 2, 2, 4, 11, 7, 5, 4, 1, 5, 6, 3, 1, 4, 5, 9, 6, 7, 0, 7, 12, 6, 10, 8, 5, 0, 5, 5, 2, 7, 9, 8, 4, 4, 0, 4, 4, 8, 12, 12, 3, 2, 10, 12, 9, 0, 1, 6, 7, 0, 12, 4, 8, 12, 7, 11, 5, 3, 0, 3, 8, 3, 11, 1, 4, 5, 1, 11, 12, 10, 1, 11, 12, 2, 6, 8, 6, 6, 12, 5, 4, 9, 5, 1, 11, 12, 2, 1, 3, 9, 4, 5, 1, 11, 4, 2, 11, 5, 3, 8, 11, 11, 9, 7, 8, 7, 7, 6, 5, 11, 8, 6, 1, 12, 5, 9, 1, 2, 8, 10, 5, 7, 4, 11, 2, 5, 12, 4, 8, 4, 12, 8, 7, 7, 6, 0, 6, 6, 4, 2, 6, 0, 11, 11, 9, 7, 3, 2, 10, 4, 1, 5, 11, 8, 11, 6, 4, 2, 11, 5, 8, 0, 8, 0, 0, 0, 5, 10, 2, 12, 1, 5, 11, 3, 1, 9, 2, 3, 5, 0, 5, 5, 2, 12, 6, 10, 8, 10, 5, 2, 7, 1, 0, 6, 6, 12, 10, 9, 6, 7, 5, 12, 9, 0, 9, 9, 10, 11, 0, 11, 11, 1, 12, 5, 4, 1, 10, 11, 8, 6, 1, 7, 0, 12, 12, 11, 2, 5, 7, 12, 11, 2, 0, 2, 2, 4, 11, 7, 5, 4, 1, 5, 6, 3, 1, 4, 5, 9, 6, 7, 0, 7, 12, 6, 10, 8, 5, 0, 5, 5, 2, 7, 9, 8, 4, 4, 0, 4, 4, 8, 12, 12, 3, 2, 10, 12, 9, 0, 1, 6, 7, 0, 12, 4, 8, 12, 7, 11, 5, 3, 0, 3, 8, 3, 11, 1, 4, 5, 1, 11, 12, 10, 1, 11, 12, 2, 6, 8, 6, 6, 12, 5, 4, 9, 5, 1, 11, 12, 2, 1, 3, 9, 4, 5, 1, 11, 4, 2, 11, 5, 3, 8, 11, 11, 9, 7, 8, 7, 7, 6, 5, 11, 8, 6, 1, 12, 5, 9, 1, 2, 8, 10, 5, 7, 4, 11, 2, 5, 12, 4, 8, 4, 12, 8, 7, 7, 6, 0, 6, 6, 4, 2, 6, 0, 11, 11, 9, 7, 3, 2, 10, 4, 1, 5, 11, 8, 11, 6, 4, 2, 11, 5, 8, 0, 8, 0, 0, 0, 5, 10, 2, 12, 1, 5, 11, 3, 1, 9, 2, 3, 5, 0, 5, 5, 2, 12, 6, 10, 8, 10, 5, 2, 7, 1, 0, 6, 6, 12, 10, 9, 6, 7, 5, 12, 9, 0, 9, 9, 10, 11, 0, 11, 11, 1, 12, 5, 4, 1, 10, 11, 8, 6, 1, 7, 0, 12, 12, 11, 2, 5, 7, 12, 11, 2, 0, 2, 2, 4, 11, 7, 5, 4, 1, 5, 6, 3, 1, 4, 5, 9, 6, 7, 0, 7, 12, 6, 10, 8, 5, 0, 5, 5, 2, 7, 9, 8, 4, 4, 0, 4, 4, 8, 12, 12, 3, 2, 10, 12, 9, 0, 1, 6, 7, 0, 12, 4, 8, 12, 7, 11, 5, 3, 0, 3, 8, 3, 11, 1, 4, 5, 1, 11, 12, 10, 1, 11, 12, 2, 6, 8, 6, 6, 12, 5, 4, 9, 5, 1, 11, 12, 2, 1, 3, 9, 4, 5, 1, 11, 4, 2, 11, 5, 3, 8, 11, 11, 9, 7, 8, 7, 7, 6, 5, 11, 8, 6, 1, 12, 5, 9, 1, 2, 8, 10, 5, 7, 4, 11, 2, 5, 12, 4, 8, 4, 12, 8, 7, 7, 6, 0, 6, 6, 4, 2, 6, 0, 11, 11, 9, 7, 3, 2, 10, 4, 1, 5, 11, 8, 11, 6, 4, 2, 11, 5, 8, 0, 8, 0, 0, 0, 5, 10, 2, 12, 1, 5, 11, 3, 1, 9, 2, 3, 5, 0, 5, 5, 2, 12, 6, 10, 8, 10, 5, 2, 7, 1, 0, 6, 6, 12, 10, 9, 6, 7, 5, 12, 9, 0, 9, 9, 10, 11, 0, 11, 11, 1, 12, 5, 4, 1, 10, 11, 8, 6, 1, 7, 0, 12, 12, 11, 2, 5, 7, 12, 11, 2, 0, 2, 2, 4, 11, 7]\n"
     ]
    }
   ],
   "source": [
    "def congruencia_fundamental_rangos(a,c,K_Congruencias,m,n, minimo, maximo):\n",
    "    if a <= 0:\n",
    "        print('Valor inválido de A, tiene que ser mayor que CERO')\n",
    "    elif c <= 0:\n",
    "        print('Valor inválido de C, tiene que ser mayor que CERO')\n",
    "    elif m <= 0:\n",
    "        print('Valor inválido de M, tiene que ser mayor que CERO')    \n",
    "    elif m < a:\n",
    "        print('Valor inválido, M debe ser mayor que A')\n",
    "    elif K_Congruencias < 0:\n",
    "        print('Valor invalido de K para congruencias, tiene que ser mayor que CERO')\n",
    "    elif maximo < minimo:\n",
    "        print('Valor invalido de MAXIMO, tiene que ser mayor que MINIMO')\n",
    "    else:\n",
    "        # Creamos un Array auxiliar de K para el método con la secuencia Fibonacci\n",
    "        aux = numeros_fibonacci\n",
    "                       \n",
    "        # Ejecutamos el metodo de congruencia fundamental\n",
    "        list = []\n",
    "        for i in range(n):\n",
    "            nro = ((a * aux[i-1] + c * aux[i-K_Congruencias]) % m)\n",
    "            # Transformar el número generado a un número en el rango [minimo, maximo]\n",
    "            rango = maximo - minimo + 1\n",
    "            numero_aleatorio = minimo + aux[i-1] % rango\n",
    "            list.append(numero_aleatorio)\n",
    "\n",
    "        # Retornamos el listado de numeros aleatorios\n",
    "        return(list)\n",
    "    \n",
    "# Generamos el listado de numeros aleatorios aplicando Congruencia Fundamental con valores de minimo y maximo\n",
    "\n",
    "numeros_congruencia_rangos = congruencia_fundamental_rangos(a,c,K_Congruencias,m,n,minimo,maximo)\n",
    "print('Listado de numeros aleatorios aplicando Congruencia Fundamental entre rango de valores:')\n",
    "print(numeros_congruencia_rangos)"
   ]
  },
  {
   "attachments": {},
   "cell_type": "markdown",
   "metadata": {},
   "source": [
    "Definimos las funciones para realizar y validar el test de Poker y Generamos los mismos"
   ]
  },
  {
   "cell_type": "code",
   "execution_count": 6,
   "metadata": {},
   "outputs": [
    {
     "name": "stdout",
     "output_type": "stream",
     "text": [
      "30.26455026455027 < 1009.6961921031988\n",
      "El resultado del test de Poker para Fibonacci + Congruencia Fundamental es VERDADERO\n"
     ]
    }
   ],
   "source": [
    "def test_poker(nros):\n",
    "    # Test poker\n",
    "    a = 0\n",
    "    i = 0\n",
    "    grupos = []\n",
    "    tipos = [0, 0, 0, 0, 0, 0, 0]\n",
    "    cant_grupos = len(nros) // 5\n",
    "\n",
    "    # Agrupar de a 5 elementos\n",
    "    while a < cant_grupos:\n",
    "        grupos.append(nros[i:i + 5])\n",
    "        a += 1\n",
    "        i += 5\n",
    "\n",
    "    # Clasificar grupos (obtener frecuencia observada)\n",
    "    for item in grupos:\n",
    "        apariciones = [0, 0, 0, 0, 0, 0, 0, 0, 0, 0]\n",
    "        valor = 1\n",
    "\n",
    "        for i in range(10):\n",
    "            apariciones[i] += str(item).count(str(i))\n",
    "\n",
    "        for i in range(10):\n",
    "            if apariciones[i] > 0:\n",
    "                valor = valor * apariciones[i]\n",
    "\n",
    "        if valor == 1:\n",
    "            tipos[0] += 1\n",
    "        elif valor == 2:\n",
    "            tipos[1] += 1\n",
    "        elif valor == 3:\n",
    "            tipos[3] += 1\n",
    "        elif valor == 4:\n",
    "            if 4 in apariciones:\n",
    "                tipos[5] += 1\n",
    "            else:\n",
    "                tipos[2] += 1\n",
    "        elif valor == 5:\n",
    "            tipos[6] += 1\n",
    "        elif valor == 6:\n",
    "            tipos[4] += 1\n",
    "        else:\n",
    "            return \"error\"\n",
    "\n",
    "    # Calculo de fe\n",
    "    fe = [0, 0, 0, 0, 0, 0, 0]\n",
    "    fe[0] = cant_grupos * 0.3024\n",
    "    fe[1] = cant_grupos * 0.504\n",
    "    fe[2] = cant_grupos * 0.108\n",
    "    fe[3] = cant_grupos * 0.072\n",
    "    fe[4] = cant_grupos * 0.009\n",
    "    fe[5] = cant_grupos * 0.0045\n",
    "    fe[6] = cant_grupos * 0.0001\n",
    "\n",
    "    # Calculo de x0\n",
    "    x0 = 0\n",
    "    for i in range(7):\n",
    "        x0 += ((fe[i] - tipos[i]) ** 2) / fe[i]\n",
    "\n",
    "    return x0\n",
    "\n",
    "def res_test_poker(resultado, confianza): \n",
    "\n",
    "    grados_libertad = len(numeros_congruencia)-1\n",
    "\n",
    "    valor_chi2 = chi2.ppf(confianza, grados_libertad)\n",
    "        \n",
    "    if valor_chi2 > resultado:\n",
    "        print(f\"{resultado} < {valor_chi2}\")\n",
    "        print(\"El resultado del test de Poker para Fibonacci + Congruencia Fundamental es VERDADERO\")\n",
    "    else:\n",
    "        print(f\"{resultado} > {valor_chi2}\")\n",
    "        print(\"El resultado del test de Poker para Fibonacci + Congruencia Fundamental es FALSO\")\n",
    "        \n",
    "# Se genera la impresion de los resultados en la funcion\n",
    "\n",
    "resultado = test_poker(numeros_congruencia)\n",
    "\n",
    "# Se genera la impresion de los resultados en la funcion\n",
    "\n",
    "resultadoTest = res_test_poker(resultado, confianza)"
   ]
  },
  {
   "attachments": {},
   "cell_type": "markdown",
   "metadata": {},
   "source": [
    "Definimos las funciones para realizar y validar el test de Ji Cuadrado y generamos los mismos"
   ]
  },
  {
   "cell_type": "code",
   "execution_count": 7,
   "metadata": {},
   "outputs": [
    {
     "name": "stdout",
     "output_type": "stream",
     "text": [
      "25.92 < 987.0562079660383\n",
      "El resultado del test de Ji Cuadrado para Fibonacci + Congruencia Fundamental es VERDADERO\n"
     ]
    }
   ],
   "source": [
    "def test_jicuadrado(nros):\n",
    "\n",
    "    x0 = 0\n",
    "    fi = [0]*10\n",
    "\n",
    "    # Cálculo de fi\n",
    "    for item in nros:\n",
    "        fi[item] += 1\n",
    "\n",
    "    # Cálculo de npi\n",
    "    npi = len(nros)/10\n",
    "\n",
    "    # Cálculo de x0\n",
    "    for i in range(len(fi)):\n",
    "        x0 += ((fi[i] - npi)*(fi[i] - npi)) / npi\n",
    "\n",
    "    return x0\n",
    "\n",
    "def res_test_chi(numeros, resultado, confianza): \n",
    "\n",
    "    grados_libertad = len(numeros)-1\n",
    "\n",
    "    valor_chi2 = chi2.ppf(1 - confianza, grados_libertad)\n",
    "            \n",
    "    #Comparamos si el resultado es menor o mayor al correspondiente en la tabla\n",
    "    if (valor_chi2 > resultado ):\n",
    "        print(f\"{resultado} < {valor_chi2}\")\n",
    "        print('El resultado del test de Ji Cuadrado para Fibonacci + Congruencia Fundamental es VERDADERO')\n",
    "        return\n",
    "    else:\n",
    "        print(f\"{resultado} > {valor_chi2}\")\n",
    "        print('El resultado del test de Ji Cuadrado para Fibonacci + Congruencia Fundamental es FALSO')\n",
    "        return\n",
    "    \n",
    "# Se genera la impresion de los resultados en la funcion\n",
    "\n",
    "resultado = test_jicuadrado(numeros_congruencia)\n",
    "\n",
    "# Se genera la impresion de los resultados en la funcion\n",
    "\n",
    "resultadoTest = res_test_chi(numeros_congruencia, resultado, confianza)"
   ]
  },
  {
   "attachments": {},
   "cell_type": "markdown",
   "metadata": {},
   "source": [
    "Definimos y realizamos los Test's sobre los numeros aleatorios aplicando el rango de valores mínimo y maximo y generamos los mismos"
   ]
  },
  {
   "cell_type": "code",
   "execution_count": 8,
   "metadata": {},
   "outputs": [
    {
     "name": "stdout",
     "output_type": "stream",
     "text": [
      "356.2896825396825 < 1010.7018606419132\n",
      "El resultado del test de Poker para Fibonacci + Congruencia Fundamental es VERDADERO\n"
     ]
    }
   ],
   "source": [
    "def test_poker_rangos(nros, minimo, maximo):\n",
    "    # Test poker\n",
    "    a = 0\n",
    "    i = 0\n",
    "    grupos = []\n",
    "    tipos = [0, 0, 0, 0, 0, 0, 0]\n",
    "    cant_grupos = len(nros) // 5\n",
    "\n",
    "    # Agrupar de a 5 elementos\n",
    "    while a < cant_grupos:\n",
    "        grupo = []\n",
    "        for j in range(5):\n",
    "            grupo.append((nros[i] - minimo) / (maximo - minimo))\n",
    "            i += 1\n",
    "        grupos.append(grupo)\n",
    "        a += 1\n",
    "\n",
    "    # Clasificar grupos (obtener frecuencia observada)\n",
    "    for item in grupos:\n",
    "        apariciones = [0, 0, 0, 0, 0, 0, 0, 0, 0, 0]\n",
    "        valor = 1\n",
    "\n",
    "        for i in range(10):\n",
    "            apariciones[i] += item.count(i)\n",
    "\n",
    "        for i in range(10):\n",
    "            if apariciones[i] > 0:\n",
    "                valor = valor * apariciones[i]\n",
    "\n",
    "        if valor == 1:\n",
    "            tipos[0] += 1\n",
    "        elif valor == 2:\n",
    "            tipos[1] += 1\n",
    "        elif valor == 3:\n",
    "            tipos[3] += 1\n",
    "        elif valor == 4:\n",
    "            if 4 in apariciones:\n",
    "                tipos[5] += 1\n",
    "            else:\n",
    "                tipos[2] += 1\n",
    "        elif valor == 5:\n",
    "            tipos[6] += 1\n",
    "        elif valor == 6:\n",
    "            tipos[4] += 1\n",
    "        else:\n",
    "            return \"error\"\n",
    "\n",
    "    # Calculo de fe\n",
    "    fe = [0, 0, 0, 0, 0, 0, 0]\n",
    "    fe[0] = cant_grupos * 0.3024\n",
    "    fe[1] = cant_grupos * 0.504\n",
    "    fe[2] = cant_grupos * 0.108\n",
    "    fe[3] = cant_grupos * 0.072\n",
    "    fe[4] = cant_grupos * 0.009\n",
    "    fe[5] = cant_grupos * 0.0045\n",
    "    fe[6] = cant_grupos * 0.0001\n",
    "\n",
    "    # Calculo de x0\n",
    "    x0 = 0\n",
    "    for i in range(7):\n",
    "        x0 += ((fe[i] - tipos[i]) ** 2) / fe[i]\n",
    "\n",
    "    return x0\n",
    "\n",
    "def res_test_poker_rangos(resultado, confianza):\n",
    "    \n",
    "\n",
    "    grados_libertad = len(numeros_congruencia_rangos)\n",
    "\n",
    "    valor_chi2 = chi2.ppf(confianza, grados_libertad)\n",
    "        \n",
    "    if valor_chi2 > resultado:\n",
    "        print(f\"{resultado} < {valor_chi2}\")\n",
    "        print(\"El resultado del test de Poker para Fibonacci + Congruencia Fundamental es VERDADERO\")\n",
    "    else:\n",
    "        print(f\"{resultado} > {valor_chi2}\")\n",
    "        print(\"El resultado del test de Poker para Fibonacci + Congruencia Fundamental es FALSO\")\n",
    "        \n",
    "# Se genera la impresion de los resultados en la funcion\n",
    "\n",
    "resultado = test_poker_rangos(numeros_congruencia_rangos, minimo, maximo)\n",
    "\n",
    "# Se genera la impresion de los resultados en la funcion\n",
    "\n",
    "resultadoTest = res_test_poker_rangos(resultado, confianza)"
   ]
  },
  {
   "attachments": {},
   "cell_type": "markdown",
   "metadata": {},
   "source": [
    "Aplicamos la funcion para validar si aprobo o no el test de Ji Cuadrado aplicando el rango de valores mínimo y maximo y generamos los mismos"
   ]
  },
  {
   "cell_type": "code",
   "execution_count": 9,
   "metadata": {},
   "outputs": [
    {
     "name": "stdout",
     "output_type": "stream",
     "text": [
      "64.024 < 987.0562079660383\n",
      "El resultado del test de Ji Cuadrado para Fibonacci + Congruencia Fundamental es VERDADERO\n"
     ]
    }
   ],
   "source": [
    "def test_jicuadrado_rangos(numeros):\n",
    "    x0 = 0\n",
    "    fi = [0] * (max(numeros) - min(numeros) + 1)\n",
    "\n",
    "    # Cálculo de fi\n",
    "    for item in numeros:\n",
    "        fi[item - min(numeros)] += 1\n",
    "\n",
    "    # Cálculo de npi\n",
    "    npi = len(numeros) / len(fi)\n",
    "\n",
    "    # Cálculo de x0\n",
    "    for i in range(len(fi)):\n",
    "        x0 += ((fi[i] - npi) ** 2) / npi\n",
    "\n",
    "    return x0\n",
    "\n",
    "def res_test_chi_rangos(numeros, resultado, confianza): \n",
    "\n",
    "    grados_libertad = len(numeros)-1\n",
    "\n",
    "    valor_chi2 = chi2.ppf(1 - confianza, grados_libertad)\n",
    "                \n",
    "    #Comparamos si el resultado es menor o mayor al correspondiente en la tabla\n",
    "    if (valor_chi2 > resultado ):\n",
    "        print(f\"{resultado} < {valor_chi2}\")\n",
    "        print('El resultado del test de Ji Cuadrado para Fibonacci + Congruencia Fundamental es VERDADERO')\n",
    "        return\n",
    "    else:\n",
    "        print(f\"{resultado} > {valor_chi2}\")\n",
    "        print('El resultado del test de Ji Cuadrado para Fibonacci + Congruencia Fundamental es FALSO')\n",
    "        return\n",
    "    \n",
    "# Se genera la impresion de los resultados en la funcion\n",
    "\n",
    "resultado = test_jicuadrado_rangos(numeros_congruencia_rangos)\n",
    "\n",
    "# Se genera la impresion de los resultados en la funcion\n",
    "\n",
    "resultadoTest = res_test_chi_rangos(numeros_congruencia_rangos, resultado, confianza)"
   ]
  },
  {
   "attachments": {},
   "cell_type": "markdown",
   "metadata": {},
   "source": [
    "Definimos una funcion para convertir los numeros aleatorios en CERO y UNO para poder aplicar la Distribucion de Bernoulli y generamos los mismos"
   ]
  },
  {
   "cell_type": "code",
   "execution_count": 10,
   "metadata": {},
   "outputs": [
    {
     "name": "stdout",
     "output_type": "stream",
     "text": [
      "[0 0 1 1 1 0 0 0 0 1 1 0 0 0 1 0 0 0 1 0 0 0 0 0 1 1 0 0 0 0 1 0 0 0 0 0 0\n",
      " 1 1 0 0 0 1 1 1 0 0 1 0 0 1 1 1 0 1 0 0 0 1 1 1 1 1 0 0 0 1 1 0 0 1 1 1 1\n",
      " 0 0 1 0 0 1 1 0 0 1 0 0 0 0 1 1 1 1 1 0 0 0 1 1 0 0 1 0 1 0 0 1 0 0 1 0 0\n",
      " 0 1 0 0 1 1 1 1 1 1 1 0 0 0 0 0 0 0 1 1 1 0 1 1 0 1 1 0 1 0 1 0 1 1 1 1 1\n",
      " 1 0 1 0 0 0 1 0 0 0 1 0 0 0 0 1 0 0 1 1 0 1 1 0 0 1 1 1 1 1 1 0 0 1 0 1 0\n",
      " 0 1 1 0 1 1 0 1 0 0 1 0 0 0 0 0 0 1 1 1 1 1 1 0 0 0 0 1 0 0 0 1 1 1 0 0 1\n",
      " 0 0 1 0 1 1 1 0 1 1 1 1 1 1 0 0 0 1 0 1 0 0 1 1 1 1 0 0 1 0 0 0 0 0 1 1 0\n",
      " 0 0 0 1 0 0 0 0 0 0 1 1 0 0 0 1 1 1 0 0 1 0 0 1 1 1 0 1 0 0 0 1 1 1 1 1 0\n",
      " 0 0 1 1 0 0 1 1 1 1 0 0 1 0 0 1 1 0 0 1 0 0 0 0 1 1 1 1 1 0 0 0 1 1 0 0 1\n",
      " 0 1 0 0 1 0 0 1 0 0 0 1 0 0 1 1 1 1 1 1 1 0 0 0 0 0 0 0 1 1 1 0 1 1 0 1 1\n",
      " 0 1 0 1 0 1 1 1 1 1 1 0 1 0 0 0 1 0 0 0 1 0 0 0 0 1 0 0 1 1 0 1 1 0 0 1 1\n",
      " 1 1 1 1 0 0 1 0 1 0 0 1 1 0 1 1 0 1 0 0 1 0 0 0 0 0 0 1 1 1 1 1 1 0 0 0 0\n",
      " 1 0 0 0 1 1 1 0 0 1 0 0 1 0 1 1 1 0 1 1 1 1 1 1 0 0 0 1 0 1 0 0 1 1 1 1 0\n",
      " 0 1 0 0 0 0 0 1 1 0 0 0 0 1 0 0 0 0 0 0 1 1 0 0 0 1 1 1 0 0 1 0 0 1 1 1 0\n",
      " 1 0 0 0 1 1 1 1 1 0 0 0 1 1 0 0 1 1 1 1 0 0 1 0 0 1 1 0 0 1 0 0 0 0 1 1 1\n",
      " 1 1 0 0 0 1 1 0 0 1 0 1 0 0 1 0 0 1 0 0 0 1 0 0 1 1 1 1 1 1 1 0 0 0 0 0 0\n",
      " 0 1 1 1 0 1 1 0 1 1 0 1 0 1 0 1 1 1 1 1 1 0 1 0 0 0 1 0 0 0 1 0 0 0 0 1 0\n",
      " 0 1 1 0 1 1 0 0 1 1 1 1 1 1 0 0 1 0 1 0 0 1 1 0 1 1 0 1 0 0 1 0 0 0 0 0 0\n",
      " 1 1 1 1 1 1 0 0 0 0 1 0 0 0 1 1 1 0 0 1 0 0 1 0 1 1 1 0 1 1 1 1 1 1 0 0 0\n",
      " 1 0 1 0 0 1 1 1 1 0 0 1 0 0 0 0 0 1 1 0 0 0 0 1 0 0 0 0 0 0 1 1 0 0 0 1 1\n",
      " 1 0 0 1 0 0 1 1 1 0 1 0 0 0 1 1 1 1 1 0 0 0 1 1 0 0 1 1 1 1 0 0 1 0 0 1 1\n",
      " 0 0 1 0 0 0 0 1 1 1 1 1 0 0 0 1 1 0 0 1 0 1 0 0 1 0 0 1 0 0 0 1 0 0 1 1 1\n",
      " 1 1 1 1 0 0 0 0 0 0 0 1 1 1 0 1 1 0 1 1 0 1 0 1 0 1 1 1 1 1 1 0 1 0 0 0 1\n",
      " 0 0 0 1 0 0 0 0 1 0 0 1 1 0 1 1 0 0 1 1 1 1 1 1 0 0 1 0 1 0 0 1 1 0 1 1 0\n",
      " 1 0 0 1 0 0 0 0 0 0 1 1 1 1 1 1 0 0 0 0 1 0 0 0 1 1 1 0 0 1 0 0 1 0 1 1 1\n",
      " 0 1 1 1 1 1 1 0 0 0 1 0 1 0 0 1 1 1 1 0 0 1 0 0 0 0 0 1 1 0 0 0 0 1 0 0 0\n",
      " 0 0 0 1 1 0 0 0 1 1 1 0 0 1 0 0 1 1 1 0 1 0 0 0 1 1 1 1 1 0 0 0 1 1 0 0 1\n",
      " 1]\n"
     ]
    }
   ],
   "source": [
    "def distribucion_bernoulli(numeros):\n",
    "    valores = np.array(numeros)\n",
    "    binarios = np.where(valores >= 5, 1, 0)\n",
    "    return binarios\n",
    "\n",
    "# Generamos la distribucion de Bernoulli sobre los numeros aleatorios\n",
    "\n",
    "distribucion = distribucion_bernoulli(numeros_congruencia)\n",
    "\n",
    "print(distribucion)"
   ]
  },
  {
   "attachments": {},
   "cell_type": "markdown",
   "metadata": {},
   "source": [
    "Generamos la distribucion de Bernoulli sobre los numeros aleatorios del rango de valores"
   ]
  },
  {
   "cell_type": "code",
   "execution_count": 11,
   "metadata": {},
   "outputs": [
    {
     "name": "stdout",
     "output_type": "stream",
     "text": [
      "[0 1 0 1 0 0 1 0 0 1 0 0 0 0 0 0 0 1 1 1 1 1 0 0 1 0 0 1 1 1 1 1 1 1 0 1 1\n",
      " 0 1 1 1 1 0 1 1 0 1 0 0 0 1 1 1 1 0 1 0 1 1 1 0 0 1 1 1 0 0 0 0 0 1 1 0 0\n",
      " 0 0 1 0 0 0 0 1 1 1 0 1 1 1 1 1 0 0 0 0 0 1 1 1 0 0 0 0 0 1 1 1 0 0 1 1 1\n",
      " 0 0 1 1 0 1 0 1 1 1 1 0 0 0 0 1 0 1 0 0 0 0 1 1 1 0 1 1 0 1 1 1 1 1 0 0 1\n",
      " 0 0 1 1 0 0 0 1 0 0 0 1 0 0 1 0 0 1 1 1 1 1 1 1 1 1 0 1 1 1 0 1 0 1 0 0 1\n",
      " 1 0 1 0 1 0 0 1 0 1 0 1 1 1 1 1 0 1 1 0 0 1 0 1 1 1 1 0 0 1 0 0 0 1 1 1 1\n",
      " 0 0 1 0 1 0 1 0 0 0 0 1 0 1 0 0 1 0 0 1 0 0 0 0 0 0 0 1 1 1 1 1 0 0 1 0 0\n",
      " 1 1 1 1 1 1 1 0 1 1 0 1 1 1 1 0 1 1 0 1 0 0 0 1 1 1 1 0 1 0 1 1 1 0 0 1 1\n",
      " 1 0 0 0 0 0 1 1 0 0 0 0 1 0 0 0 0 1 1 1 0 1 1 1 1 1 0 0 0 0 0 1 1 1 0 0 0\n",
      " 0 0 1 1 1 0 0 1 1 1 0 0 1 1 0 1 0 1 1 1 1 0 0 0 0 1 0 1 0 0 0 0 1 1 1 0 1\n",
      " 1 0 1 1 1 1 1 0 0 1 0 0 1 1 0 0 0 1 0 0 0 1 0 0 1 0 0 1 1 1 1 1 1 1 1 1 0\n",
      " 1 1 1 0 1 0 1 0 0 1 1 0 1 0 1 0 0 1 0 1 0 1 1 1 1 1 0 1 1 0 0 1 0 1 1 1 1\n",
      " 0 0 1 0 0 0 1 1 1 1 0 0 1 0 1 0 1 0 0 0 0 1 0 1 0 0 1 0 0 1 0 0 0 0 0 0 0\n",
      " 1 1 1 1 1 0 0 1 0 0 1 1 1 1 1 1 1 0 1 1 0 1 1 1 1 0 1 1 0 1 0 0 0 1 1 1 1\n",
      " 0 1 0 1 1 1 0 0 1 1 1 0 0 0 0 0 1 1 0 0 0 0 1 0 0 0 0 1 1 1 0 1 1 1 1 1 0\n",
      " 0 0 0 0 1 1 1 0 0 0 0 0 1 1 1 0 0 1 1 1 0 0 1 1 0 1 0 1 1 1 1 0 0 0 0 1 0\n",
      " 1 0 0 0 0 1 1 1 0 1 1 0 1 1 1 1 1 0 0 1 0 0 1 1 0 0 0 1 0 0 0 1 0 0 1 0 0\n",
      " 1 1 1 1 1 1 1 1 1 0 1 1 1 0 1 0 1 0 0 1 1 0 1 0 1 0 0 1 0 1 0 1 1 1 1 1 0\n",
      " 1 1 0 0 1 0 1 1 1 1 0 0 1 0 0 0 1 1 1 1 0 0 1 0 1 0 1 0 0 0 0 1 0 1 0 0 1\n",
      " 0 0 1 0 0 0 0 0 0 0 1 1 1 1 1 0 0 1 0 0 1 1 1 1 1 1 1 0 1 1 0 1 1 1 1 0 1\n",
      " 1 0 1 0 0 0 1 1 1 1 0 1 0 1 1 1 0 0 1 1 1 0 0 0 0 0 1 1 0 0 0 0 1 0 0 0 0\n",
      " 1 1 1 0 1 1 1 1 1 0 0 0 0 0 1 1 1 0 0 0 0 0 1 1 1 0 0 1 1 1 0 0 1 1 0 1 0\n",
      " 1 1 1 1 0 0 0 0 1 0 1 0 0 0 0 1 1 1 0 1 1 0 1 1 1 1 1 0 0 1 0 0 1 1 0 0 0\n",
      " 1 0 0 0 1 0 0 1 0 0 1 1 1 1 1 1 1 1 1 0 1 1 1 0 1 0 1 0 0 1 1 0 1 0 1 0 0\n",
      " 1 0 1 0 1 1 1 1 1 0 1 1 0 0 1 0 1 1 1 1 0 0 1 0 0 0 1 1 1 1 0 0 1 0 1 0 1\n",
      " 0 0 0 0 1 0 1 0 0 1 0 0 1 0 0 0 0 0 0 0 1 1 1 1 1 0 0 1 0 0 1 1 1 1 1 1 1\n",
      " 0 1 1 0 1 1 1 1 0 1 1 0 1 0 0 0 1 1 1 1 0 1 0 1 1 1 0 0 1 1 1 0 0 0 0 0 1\n",
      " 1]\n"
     ]
    }
   ],
   "source": [
    "def distribucion_bernoulli_rangos(numeros):\n",
    "    mitad = (maximo + minimo) / 2\n",
    "    valores = np.array(numeros)\n",
    "    binarios = np.where(valores >= mitad, 1, 0)\n",
    "    return binarios\n",
    "\n",
    "distribucion_rangos = distribucion_bernoulli_rangos(numeros_congruencia_rangos)\n",
    "\n",
    "print(distribucion_rangos)"
   ]
  },
  {
   "attachments": {},
   "cell_type": "markdown",
   "metadata": {},
   "source": [
    "Contabilizamos y graficamos la distribución de Bernoulli"
   ]
  },
  {
   "cell_type": "code",
   "execution_count": 12,
   "metadata": {},
   "outputs": [
    {
     "name": "stdout",
     "output_type": "stream",
     "text": [
      "dict_keys([0, 1])\n",
      "dict_values([523, 477])\n",
      "{0: 523, 1: 477}\n"
     ]
    },
    {
     "data": {
      "application/vnd.plotly.v1+json": {
       "config": {
        "plotlyServerURL": "https://plot.ly"
       },
       "data": [
        {
         "labels": [
          0,
          1
         ],
         "type": "pie",
         "values": [
          523,
          477
         ]
        }
       ],
       "layout": {
        "template": {
         "data": {
          "bar": [
           {
            "error_x": {
             "color": "#2a3f5f"
            },
            "error_y": {
             "color": "#2a3f5f"
            },
            "marker": {
             "line": {
              "color": "#E5ECF6",
              "width": 0.5
             },
             "pattern": {
              "fillmode": "overlay",
              "size": 10,
              "solidity": 0.2
             }
            },
            "type": "bar"
           }
          ],
          "barpolar": [
           {
            "marker": {
             "line": {
              "color": "#E5ECF6",
              "width": 0.5
             },
             "pattern": {
              "fillmode": "overlay",
              "size": 10,
              "solidity": 0.2
             }
            },
            "type": "barpolar"
           }
          ],
          "carpet": [
           {
            "aaxis": {
             "endlinecolor": "#2a3f5f",
             "gridcolor": "white",
             "linecolor": "white",
             "minorgridcolor": "white",
             "startlinecolor": "#2a3f5f"
            },
            "baxis": {
             "endlinecolor": "#2a3f5f",
             "gridcolor": "white",
             "linecolor": "white",
             "minorgridcolor": "white",
             "startlinecolor": "#2a3f5f"
            },
            "type": "carpet"
           }
          ],
          "choropleth": [
           {
            "colorbar": {
             "outlinewidth": 0,
             "ticks": ""
            },
            "type": "choropleth"
           }
          ],
          "contour": [
           {
            "colorbar": {
             "outlinewidth": 0,
             "ticks": ""
            },
            "colorscale": [
             [
              0,
              "#0d0887"
             ],
             [
              0.1111111111111111,
              "#46039f"
             ],
             [
              0.2222222222222222,
              "#7201a8"
             ],
             [
              0.3333333333333333,
              "#9c179e"
             ],
             [
              0.4444444444444444,
              "#bd3786"
             ],
             [
              0.5555555555555556,
              "#d8576b"
             ],
             [
              0.6666666666666666,
              "#ed7953"
             ],
             [
              0.7777777777777778,
              "#fb9f3a"
             ],
             [
              0.8888888888888888,
              "#fdca26"
             ],
             [
              1,
              "#f0f921"
             ]
            ],
            "type": "contour"
           }
          ],
          "contourcarpet": [
           {
            "colorbar": {
             "outlinewidth": 0,
             "ticks": ""
            },
            "type": "contourcarpet"
           }
          ],
          "heatmap": [
           {
            "colorbar": {
             "outlinewidth": 0,
             "ticks": ""
            },
            "colorscale": [
             [
              0,
              "#0d0887"
             ],
             [
              0.1111111111111111,
              "#46039f"
             ],
             [
              0.2222222222222222,
              "#7201a8"
             ],
             [
              0.3333333333333333,
              "#9c179e"
             ],
             [
              0.4444444444444444,
              "#bd3786"
             ],
             [
              0.5555555555555556,
              "#d8576b"
             ],
             [
              0.6666666666666666,
              "#ed7953"
             ],
             [
              0.7777777777777778,
              "#fb9f3a"
             ],
             [
              0.8888888888888888,
              "#fdca26"
             ],
             [
              1,
              "#f0f921"
             ]
            ],
            "type": "heatmap"
           }
          ],
          "heatmapgl": [
           {
            "colorbar": {
             "outlinewidth": 0,
             "ticks": ""
            },
            "colorscale": [
             [
              0,
              "#0d0887"
             ],
             [
              0.1111111111111111,
              "#46039f"
             ],
             [
              0.2222222222222222,
              "#7201a8"
             ],
             [
              0.3333333333333333,
              "#9c179e"
             ],
             [
              0.4444444444444444,
              "#bd3786"
             ],
             [
              0.5555555555555556,
              "#d8576b"
             ],
             [
              0.6666666666666666,
              "#ed7953"
             ],
             [
              0.7777777777777778,
              "#fb9f3a"
             ],
             [
              0.8888888888888888,
              "#fdca26"
             ],
             [
              1,
              "#f0f921"
             ]
            ],
            "type": "heatmapgl"
           }
          ],
          "histogram": [
           {
            "marker": {
             "pattern": {
              "fillmode": "overlay",
              "size": 10,
              "solidity": 0.2
             }
            },
            "type": "histogram"
           }
          ],
          "histogram2d": [
           {
            "colorbar": {
             "outlinewidth": 0,
             "ticks": ""
            },
            "colorscale": [
             [
              0,
              "#0d0887"
             ],
             [
              0.1111111111111111,
              "#46039f"
             ],
             [
              0.2222222222222222,
              "#7201a8"
             ],
             [
              0.3333333333333333,
              "#9c179e"
             ],
             [
              0.4444444444444444,
              "#bd3786"
             ],
             [
              0.5555555555555556,
              "#d8576b"
             ],
             [
              0.6666666666666666,
              "#ed7953"
             ],
             [
              0.7777777777777778,
              "#fb9f3a"
             ],
             [
              0.8888888888888888,
              "#fdca26"
             ],
             [
              1,
              "#f0f921"
             ]
            ],
            "type": "histogram2d"
           }
          ],
          "histogram2dcontour": [
           {
            "colorbar": {
             "outlinewidth": 0,
             "ticks": ""
            },
            "colorscale": [
             [
              0,
              "#0d0887"
             ],
             [
              0.1111111111111111,
              "#46039f"
             ],
             [
              0.2222222222222222,
              "#7201a8"
             ],
             [
              0.3333333333333333,
              "#9c179e"
             ],
             [
              0.4444444444444444,
              "#bd3786"
             ],
             [
              0.5555555555555556,
              "#d8576b"
             ],
             [
              0.6666666666666666,
              "#ed7953"
             ],
             [
              0.7777777777777778,
              "#fb9f3a"
             ],
             [
              0.8888888888888888,
              "#fdca26"
             ],
             [
              1,
              "#f0f921"
             ]
            ],
            "type": "histogram2dcontour"
           }
          ],
          "mesh3d": [
           {
            "colorbar": {
             "outlinewidth": 0,
             "ticks": ""
            },
            "type": "mesh3d"
           }
          ],
          "parcoords": [
           {
            "line": {
             "colorbar": {
              "outlinewidth": 0,
              "ticks": ""
             }
            },
            "type": "parcoords"
           }
          ],
          "pie": [
           {
            "automargin": true,
            "type": "pie"
           }
          ],
          "scatter": [
           {
            "fillpattern": {
             "fillmode": "overlay",
             "size": 10,
             "solidity": 0.2
            },
            "type": "scatter"
           }
          ],
          "scatter3d": [
           {
            "line": {
             "colorbar": {
              "outlinewidth": 0,
              "ticks": ""
             }
            },
            "marker": {
             "colorbar": {
              "outlinewidth": 0,
              "ticks": ""
             }
            },
            "type": "scatter3d"
           }
          ],
          "scattercarpet": [
           {
            "marker": {
             "colorbar": {
              "outlinewidth": 0,
              "ticks": ""
             }
            },
            "type": "scattercarpet"
           }
          ],
          "scattergeo": [
           {
            "marker": {
             "colorbar": {
              "outlinewidth": 0,
              "ticks": ""
             }
            },
            "type": "scattergeo"
           }
          ],
          "scattergl": [
           {
            "marker": {
             "colorbar": {
              "outlinewidth": 0,
              "ticks": ""
             }
            },
            "type": "scattergl"
           }
          ],
          "scattermapbox": [
           {
            "marker": {
             "colorbar": {
              "outlinewidth": 0,
              "ticks": ""
             }
            },
            "type": "scattermapbox"
           }
          ],
          "scatterpolar": [
           {
            "marker": {
             "colorbar": {
              "outlinewidth": 0,
              "ticks": ""
             }
            },
            "type": "scatterpolar"
           }
          ],
          "scatterpolargl": [
           {
            "marker": {
             "colorbar": {
              "outlinewidth": 0,
              "ticks": ""
             }
            },
            "type": "scatterpolargl"
           }
          ],
          "scatterternary": [
           {
            "marker": {
             "colorbar": {
              "outlinewidth": 0,
              "ticks": ""
             }
            },
            "type": "scatterternary"
           }
          ],
          "surface": [
           {
            "colorbar": {
             "outlinewidth": 0,
             "ticks": ""
            },
            "colorscale": [
             [
              0,
              "#0d0887"
             ],
             [
              0.1111111111111111,
              "#46039f"
             ],
             [
              0.2222222222222222,
              "#7201a8"
             ],
             [
              0.3333333333333333,
              "#9c179e"
             ],
             [
              0.4444444444444444,
              "#bd3786"
             ],
             [
              0.5555555555555556,
              "#d8576b"
             ],
             [
              0.6666666666666666,
              "#ed7953"
             ],
             [
              0.7777777777777778,
              "#fb9f3a"
             ],
             [
              0.8888888888888888,
              "#fdca26"
             ],
             [
              1,
              "#f0f921"
             ]
            ],
            "type": "surface"
           }
          ],
          "table": [
           {
            "cells": {
             "fill": {
              "color": "#EBF0F8"
             },
             "line": {
              "color": "white"
             }
            },
            "header": {
             "fill": {
              "color": "#C8D4E3"
             },
             "line": {
              "color": "white"
             }
            },
            "type": "table"
           }
          ]
         },
         "layout": {
          "annotationdefaults": {
           "arrowcolor": "#2a3f5f",
           "arrowhead": 0,
           "arrowwidth": 1
          },
          "autotypenumbers": "strict",
          "coloraxis": {
           "colorbar": {
            "outlinewidth": 0,
            "ticks": ""
           }
          },
          "colorscale": {
           "diverging": [
            [
             0,
             "#8e0152"
            ],
            [
             0.1,
             "#c51b7d"
            ],
            [
             0.2,
             "#de77ae"
            ],
            [
             0.3,
             "#f1b6da"
            ],
            [
             0.4,
             "#fde0ef"
            ],
            [
             0.5,
             "#f7f7f7"
            ],
            [
             0.6,
             "#e6f5d0"
            ],
            [
             0.7,
             "#b8e186"
            ],
            [
             0.8,
             "#7fbc41"
            ],
            [
             0.9,
             "#4d9221"
            ],
            [
             1,
             "#276419"
            ]
           ],
           "sequential": [
            [
             0,
             "#0d0887"
            ],
            [
             0.1111111111111111,
             "#46039f"
            ],
            [
             0.2222222222222222,
             "#7201a8"
            ],
            [
             0.3333333333333333,
             "#9c179e"
            ],
            [
             0.4444444444444444,
             "#bd3786"
            ],
            [
             0.5555555555555556,
             "#d8576b"
            ],
            [
             0.6666666666666666,
             "#ed7953"
            ],
            [
             0.7777777777777778,
             "#fb9f3a"
            ],
            [
             0.8888888888888888,
             "#fdca26"
            ],
            [
             1,
             "#f0f921"
            ]
           ],
           "sequentialminus": [
            [
             0,
             "#0d0887"
            ],
            [
             0.1111111111111111,
             "#46039f"
            ],
            [
             0.2222222222222222,
             "#7201a8"
            ],
            [
             0.3333333333333333,
             "#9c179e"
            ],
            [
             0.4444444444444444,
             "#bd3786"
            ],
            [
             0.5555555555555556,
             "#d8576b"
            ],
            [
             0.6666666666666666,
             "#ed7953"
            ],
            [
             0.7777777777777778,
             "#fb9f3a"
            ],
            [
             0.8888888888888888,
             "#fdca26"
            ],
            [
             1,
             "#f0f921"
            ]
           ]
          },
          "colorway": [
           "#636efa",
           "#EF553B",
           "#00cc96",
           "#ab63fa",
           "#FFA15A",
           "#19d3f3",
           "#FF6692",
           "#B6E880",
           "#FF97FF",
           "#FECB52"
          ],
          "font": {
           "color": "#2a3f5f"
          },
          "geo": {
           "bgcolor": "white",
           "lakecolor": "white",
           "landcolor": "#E5ECF6",
           "showlakes": true,
           "showland": true,
           "subunitcolor": "white"
          },
          "hoverlabel": {
           "align": "left"
          },
          "hovermode": "closest",
          "mapbox": {
           "style": "light"
          },
          "paper_bgcolor": "white",
          "plot_bgcolor": "#E5ECF6",
          "polar": {
           "angularaxis": {
            "gridcolor": "white",
            "linecolor": "white",
            "ticks": ""
           },
           "bgcolor": "#E5ECF6",
           "radialaxis": {
            "gridcolor": "white",
            "linecolor": "white",
            "ticks": ""
           }
          },
          "scene": {
           "xaxis": {
            "backgroundcolor": "#E5ECF6",
            "gridcolor": "white",
            "gridwidth": 2,
            "linecolor": "white",
            "showbackground": true,
            "ticks": "",
            "zerolinecolor": "white"
           },
           "yaxis": {
            "backgroundcolor": "#E5ECF6",
            "gridcolor": "white",
            "gridwidth": 2,
            "linecolor": "white",
            "showbackground": true,
            "ticks": "",
            "zerolinecolor": "white"
           },
           "zaxis": {
            "backgroundcolor": "#E5ECF6",
            "gridcolor": "white",
            "gridwidth": 2,
            "linecolor": "white",
            "showbackground": true,
            "ticks": "",
            "zerolinecolor": "white"
           }
          },
          "shapedefaults": {
           "line": {
            "color": "#2a3f5f"
           }
          },
          "ternary": {
           "aaxis": {
            "gridcolor": "white",
            "linecolor": "white",
            "ticks": ""
           },
           "baxis": {
            "gridcolor": "white",
            "linecolor": "white",
            "ticks": ""
           },
           "bgcolor": "#E5ECF6",
           "caxis": {
            "gridcolor": "white",
            "linecolor": "white",
            "ticks": ""
           }
          },
          "title": {
           "x": 0.05
          },
          "xaxis": {
           "automargin": true,
           "gridcolor": "white",
           "linecolor": "white",
           "ticks": "",
           "title": {
            "standoff": 15
           },
           "zerolinecolor": "white",
           "zerolinewidth": 2
          },
          "yaxis": {
           "automargin": true,
           "gridcolor": "white",
           "linecolor": "white",
           "ticks": "",
           "title": {
            "standoff": 15
           },
           "zerolinecolor": "white",
           "zerolinewidth": 2
          }
         }
        }
       }
      }
     },
     "metadata": {},
     "output_type": "display_data"
    }
   ],
   "source": [
    "# Usamos plotly para hacer un diagrama de barras interactivo con la distribución de los datos\n",
    "\n",
    "# Contamos los valores CERO y UNO\n",
    "datos = {}\n",
    "\n",
    "for valor in distribucion:\n",
    "    if valor in datos:\n",
    "        datos[valor] += 1\n",
    "    else:\n",
    "        datos[valor] = 1\n",
    "print(datos.keys())\n",
    "print(datos.values())\n",
    "print(datos)\n",
    "\n",
    "fig = go.Figure(data=[go.Pie(labels=list(datos.keys()), values=list(datos.values()))])\n",
    "fig.show()"
   ]
  },
  {
   "attachments": {},
   "cell_type": "markdown",
   "metadata": {},
   "source": [
    "Contabilizamos y graficamos la distribución de Bernoulli segun los rangos"
   ]
  },
  {
   "cell_type": "code",
   "execution_count": 13,
   "metadata": {},
   "outputs": [
    {
     "name": "stdout",
     "output_type": "stream",
     "text": [
      "dict_keys([0, 1])\n",
      "dict_values([473, 527])\n",
      "{0: 473, 1: 527}\n"
     ]
    },
    {
     "data": {
      "application/vnd.plotly.v1+json": {
       "config": {
        "plotlyServerURL": "https://plot.ly"
       },
       "data": [
        {
         "labels": [
          0,
          1
         ],
         "type": "pie",
         "values": [
          473,
          527
         ]
        }
       ],
       "layout": {
        "template": {
         "data": {
          "bar": [
           {
            "error_x": {
             "color": "#2a3f5f"
            },
            "error_y": {
             "color": "#2a3f5f"
            },
            "marker": {
             "line": {
              "color": "#E5ECF6",
              "width": 0.5
             },
             "pattern": {
              "fillmode": "overlay",
              "size": 10,
              "solidity": 0.2
             }
            },
            "type": "bar"
           }
          ],
          "barpolar": [
           {
            "marker": {
             "line": {
              "color": "#E5ECF6",
              "width": 0.5
             },
             "pattern": {
              "fillmode": "overlay",
              "size": 10,
              "solidity": 0.2
             }
            },
            "type": "barpolar"
           }
          ],
          "carpet": [
           {
            "aaxis": {
             "endlinecolor": "#2a3f5f",
             "gridcolor": "white",
             "linecolor": "white",
             "minorgridcolor": "white",
             "startlinecolor": "#2a3f5f"
            },
            "baxis": {
             "endlinecolor": "#2a3f5f",
             "gridcolor": "white",
             "linecolor": "white",
             "minorgridcolor": "white",
             "startlinecolor": "#2a3f5f"
            },
            "type": "carpet"
           }
          ],
          "choropleth": [
           {
            "colorbar": {
             "outlinewidth": 0,
             "ticks": ""
            },
            "type": "choropleth"
           }
          ],
          "contour": [
           {
            "colorbar": {
             "outlinewidth": 0,
             "ticks": ""
            },
            "colorscale": [
             [
              0,
              "#0d0887"
             ],
             [
              0.1111111111111111,
              "#46039f"
             ],
             [
              0.2222222222222222,
              "#7201a8"
             ],
             [
              0.3333333333333333,
              "#9c179e"
             ],
             [
              0.4444444444444444,
              "#bd3786"
             ],
             [
              0.5555555555555556,
              "#d8576b"
             ],
             [
              0.6666666666666666,
              "#ed7953"
             ],
             [
              0.7777777777777778,
              "#fb9f3a"
             ],
             [
              0.8888888888888888,
              "#fdca26"
             ],
             [
              1,
              "#f0f921"
             ]
            ],
            "type": "contour"
           }
          ],
          "contourcarpet": [
           {
            "colorbar": {
             "outlinewidth": 0,
             "ticks": ""
            },
            "type": "contourcarpet"
           }
          ],
          "heatmap": [
           {
            "colorbar": {
             "outlinewidth": 0,
             "ticks": ""
            },
            "colorscale": [
             [
              0,
              "#0d0887"
             ],
             [
              0.1111111111111111,
              "#46039f"
             ],
             [
              0.2222222222222222,
              "#7201a8"
             ],
             [
              0.3333333333333333,
              "#9c179e"
             ],
             [
              0.4444444444444444,
              "#bd3786"
             ],
             [
              0.5555555555555556,
              "#d8576b"
             ],
             [
              0.6666666666666666,
              "#ed7953"
             ],
             [
              0.7777777777777778,
              "#fb9f3a"
             ],
             [
              0.8888888888888888,
              "#fdca26"
             ],
             [
              1,
              "#f0f921"
             ]
            ],
            "type": "heatmap"
           }
          ],
          "heatmapgl": [
           {
            "colorbar": {
             "outlinewidth": 0,
             "ticks": ""
            },
            "colorscale": [
             [
              0,
              "#0d0887"
             ],
             [
              0.1111111111111111,
              "#46039f"
             ],
             [
              0.2222222222222222,
              "#7201a8"
             ],
             [
              0.3333333333333333,
              "#9c179e"
             ],
             [
              0.4444444444444444,
              "#bd3786"
             ],
             [
              0.5555555555555556,
              "#d8576b"
             ],
             [
              0.6666666666666666,
              "#ed7953"
             ],
             [
              0.7777777777777778,
              "#fb9f3a"
             ],
             [
              0.8888888888888888,
              "#fdca26"
             ],
             [
              1,
              "#f0f921"
             ]
            ],
            "type": "heatmapgl"
           }
          ],
          "histogram": [
           {
            "marker": {
             "pattern": {
              "fillmode": "overlay",
              "size": 10,
              "solidity": 0.2
             }
            },
            "type": "histogram"
           }
          ],
          "histogram2d": [
           {
            "colorbar": {
             "outlinewidth": 0,
             "ticks": ""
            },
            "colorscale": [
             [
              0,
              "#0d0887"
             ],
             [
              0.1111111111111111,
              "#46039f"
             ],
             [
              0.2222222222222222,
              "#7201a8"
             ],
             [
              0.3333333333333333,
              "#9c179e"
             ],
             [
              0.4444444444444444,
              "#bd3786"
             ],
             [
              0.5555555555555556,
              "#d8576b"
             ],
             [
              0.6666666666666666,
              "#ed7953"
             ],
             [
              0.7777777777777778,
              "#fb9f3a"
             ],
             [
              0.8888888888888888,
              "#fdca26"
             ],
             [
              1,
              "#f0f921"
             ]
            ],
            "type": "histogram2d"
           }
          ],
          "histogram2dcontour": [
           {
            "colorbar": {
             "outlinewidth": 0,
             "ticks": ""
            },
            "colorscale": [
             [
              0,
              "#0d0887"
             ],
             [
              0.1111111111111111,
              "#46039f"
             ],
             [
              0.2222222222222222,
              "#7201a8"
             ],
             [
              0.3333333333333333,
              "#9c179e"
             ],
             [
              0.4444444444444444,
              "#bd3786"
             ],
             [
              0.5555555555555556,
              "#d8576b"
             ],
             [
              0.6666666666666666,
              "#ed7953"
             ],
             [
              0.7777777777777778,
              "#fb9f3a"
             ],
             [
              0.8888888888888888,
              "#fdca26"
             ],
             [
              1,
              "#f0f921"
             ]
            ],
            "type": "histogram2dcontour"
           }
          ],
          "mesh3d": [
           {
            "colorbar": {
             "outlinewidth": 0,
             "ticks": ""
            },
            "type": "mesh3d"
           }
          ],
          "parcoords": [
           {
            "line": {
             "colorbar": {
              "outlinewidth": 0,
              "ticks": ""
             }
            },
            "type": "parcoords"
           }
          ],
          "pie": [
           {
            "automargin": true,
            "type": "pie"
           }
          ],
          "scatter": [
           {
            "fillpattern": {
             "fillmode": "overlay",
             "size": 10,
             "solidity": 0.2
            },
            "type": "scatter"
           }
          ],
          "scatter3d": [
           {
            "line": {
             "colorbar": {
              "outlinewidth": 0,
              "ticks": ""
             }
            },
            "marker": {
             "colorbar": {
              "outlinewidth": 0,
              "ticks": ""
             }
            },
            "type": "scatter3d"
           }
          ],
          "scattercarpet": [
           {
            "marker": {
             "colorbar": {
              "outlinewidth": 0,
              "ticks": ""
             }
            },
            "type": "scattercarpet"
           }
          ],
          "scattergeo": [
           {
            "marker": {
             "colorbar": {
              "outlinewidth": 0,
              "ticks": ""
             }
            },
            "type": "scattergeo"
           }
          ],
          "scattergl": [
           {
            "marker": {
             "colorbar": {
              "outlinewidth": 0,
              "ticks": ""
             }
            },
            "type": "scattergl"
           }
          ],
          "scattermapbox": [
           {
            "marker": {
             "colorbar": {
              "outlinewidth": 0,
              "ticks": ""
             }
            },
            "type": "scattermapbox"
           }
          ],
          "scatterpolar": [
           {
            "marker": {
             "colorbar": {
              "outlinewidth": 0,
              "ticks": ""
             }
            },
            "type": "scatterpolar"
           }
          ],
          "scatterpolargl": [
           {
            "marker": {
             "colorbar": {
              "outlinewidth": 0,
              "ticks": ""
             }
            },
            "type": "scatterpolargl"
           }
          ],
          "scatterternary": [
           {
            "marker": {
             "colorbar": {
              "outlinewidth": 0,
              "ticks": ""
             }
            },
            "type": "scatterternary"
           }
          ],
          "surface": [
           {
            "colorbar": {
             "outlinewidth": 0,
             "ticks": ""
            },
            "colorscale": [
             [
              0,
              "#0d0887"
             ],
             [
              0.1111111111111111,
              "#46039f"
             ],
             [
              0.2222222222222222,
              "#7201a8"
             ],
             [
              0.3333333333333333,
              "#9c179e"
             ],
             [
              0.4444444444444444,
              "#bd3786"
             ],
             [
              0.5555555555555556,
              "#d8576b"
             ],
             [
              0.6666666666666666,
              "#ed7953"
             ],
             [
              0.7777777777777778,
              "#fb9f3a"
             ],
             [
              0.8888888888888888,
              "#fdca26"
             ],
             [
              1,
              "#f0f921"
             ]
            ],
            "type": "surface"
           }
          ],
          "table": [
           {
            "cells": {
             "fill": {
              "color": "#EBF0F8"
             },
             "line": {
              "color": "white"
             }
            },
            "header": {
             "fill": {
              "color": "#C8D4E3"
             },
             "line": {
              "color": "white"
             }
            },
            "type": "table"
           }
          ]
         },
         "layout": {
          "annotationdefaults": {
           "arrowcolor": "#2a3f5f",
           "arrowhead": 0,
           "arrowwidth": 1
          },
          "autotypenumbers": "strict",
          "coloraxis": {
           "colorbar": {
            "outlinewidth": 0,
            "ticks": ""
           }
          },
          "colorscale": {
           "diverging": [
            [
             0,
             "#8e0152"
            ],
            [
             0.1,
             "#c51b7d"
            ],
            [
             0.2,
             "#de77ae"
            ],
            [
             0.3,
             "#f1b6da"
            ],
            [
             0.4,
             "#fde0ef"
            ],
            [
             0.5,
             "#f7f7f7"
            ],
            [
             0.6,
             "#e6f5d0"
            ],
            [
             0.7,
             "#b8e186"
            ],
            [
             0.8,
             "#7fbc41"
            ],
            [
             0.9,
             "#4d9221"
            ],
            [
             1,
             "#276419"
            ]
           ],
           "sequential": [
            [
             0,
             "#0d0887"
            ],
            [
             0.1111111111111111,
             "#46039f"
            ],
            [
             0.2222222222222222,
             "#7201a8"
            ],
            [
             0.3333333333333333,
             "#9c179e"
            ],
            [
             0.4444444444444444,
             "#bd3786"
            ],
            [
             0.5555555555555556,
             "#d8576b"
            ],
            [
             0.6666666666666666,
             "#ed7953"
            ],
            [
             0.7777777777777778,
             "#fb9f3a"
            ],
            [
             0.8888888888888888,
             "#fdca26"
            ],
            [
             1,
             "#f0f921"
            ]
           ],
           "sequentialminus": [
            [
             0,
             "#0d0887"
            ],
            [
             0.1111111111111111,
             "#46039f"
            ],
            [
             0.2222222222222222,
             "#7201a8"
            ],
            [
             0.3333333333333333,
             "#9c179e"
            ],
            [
             0.4444444444444444,
             "#bd3786"
            ],
            [
             0.5555555555555556,
             "#d8576b"
            ],
            [
             0.6666666666666666,
             "#ed7953"
            ],
            [
             0.7777777777777778,
             "#fb9f3a"
            ],
            [
             0.8888888888888888,
             "#fdca26"
            ],
            [
             1,
             "#f0f921"
            ]
           ]
          },
          "colorway": [
           "#636efa",
           "#EF553B",
           "#00cc96",
           "#ab63fa",
           "#FFA15A",
           "#19d3f3",
           "#FF6692",
           "#B6E880",
           "#FF97FF",
           "#FECB52"
          ],
          "font": {
           "color": "#2a3f5f"
          },
          "geo": {
           "bgcolor": "white",
           "lakecolor": "white",
           "landcolor": "#E5ECF6",
           "showlakes": true,
           "showland": true,
           "subunitcolor": "white"
          },
          "hoverlabel": {
           "align": "left"
          },
          "hovermode": "closest",
          "mapbox": {
           "style": "light"
          },
          "paper_bgcolor": "white",
          "plot_bgcolor": "#E5ECF6",
          "polar": {
           "angularaxis": {
            "gridcolor": "white",
            "linecolor": "white",
            "ticks": ""
           },
           "bgcolor": "#E5ECF6",
           "radialaxis": {
            "gridcolor": "white",
            "linecolor": "white",
            "ticks": ""
           }
          },
          "scene": {
           "xaxis": {
            "backgroundcolor": "#E5ECF6",
            "gridcolor": "white",
            "gridwidth": 2,
            "linecolor": "white",
            "showbackground": true,
            "ticks": "",
            "zerolinecolor": "white"
           },
           "yaxis": {
            "backgroundcolor": "#E5ECF6",
            "gridcolor": "white",
            "gridwidth": 2,
            "linecolor": "white",
            "showbackground": true,
            "ticks": "",
            "zerolinecolor": "white"
           },
           "zaxis": {
            "backgroundcolor": "#E5ECF6",
            "gridcolor": "white",
            "gridwidth": 2,
            "linecolor": "white",
            "showbackground": true,
            "ticks": "",
            "zerolinecolor": "white"
           }
          },
          "shapedefaults": {
           "line": {
            "color": "#2a3f5f"
           }
          },
          "ternary": {
           "aaxis": {
            "gridcolor": "white",
            "linecolor": "white",
            "ticks": ""
           },
           "baxis": {
            "gridcolor": "white",
            "linecolor": "white",
            "ticks": ""
           },
           "bgcolor": "#E5ECF6",
           "caxis": {
            "gridcolor": "white",
            "linecolor": "white",
            "ticks": ""
           }
          },
          "title": {
           "x": 0.05
          },
          "xaxis": {
           "automargin": true,
           "gridcolor": "white",
           "linecolor": "white",
           "ticks": "",
           "title": {
            "standoff": 15
           },
           "zerolinecolor": "white",
           "zerolinewidth": 2
          },
          "yaxis": {
           "automargin": true,
           "gridcolor": "white",
           "linecolor": "white",
           "ticks": "",
           "title": {
            "standoff": 15
           },
           "zerolinecolor": "white",
           "zerolinewidth": 2
          }
         }
        }
       }
      }
     },
     "metadata": {},
     "output_type": "display_data"
    }
   ],
   "source": [
    "# Usamos plotly para hacer un diagrama de barras interactivo con la distribución de los datos\n",
    "\n",
    "# Contamos los valores CERO y UNO\n",
    "datos = {}\n",
    "\n",
    "for valor in distribucion_rangos:\n",
    "    if valor in datos:\n",
    "        datos[valor] += 1\n",
    "    else:\n",
    "        datos[valor] = 1\n",
    "print(datos.keys())\n",
    "print(datos.values())\n",
    "print(datos)\n",
    "\n",
    "fig = go.Figure(data=[go.Pie(labels=list(datos.keys()), values=list(datos.values()))])\n",
    "fig.show()"
   ]
  },
  {
   "attachments": {},
   "cell_type": "markdown",
   "metadata": {},
   "source": [
    "Generamos los datos y graficamos la distribución normal"
   ]
  },
  {
   "cell_type": "code",
   "execution_count": 14,
   "metadata": {},
   "outputs": [
    {
     "name": "stdout",
     "output_type": "stream",
     "text": [
      "la media es: 4.482\n",
      "la desviación estandar es: 2.703271351529476\n"
     ]
    },
    {
     "data": {
      "image/png": "[encoded data removed]",
      "text/plain": [
       "<Figure size 640x480 with 1 Axes>"
      ]
     },
     "metadata": {},
     "output_type": "display_data"
    }
   ],
   "source": [
    "# Utilizamos los numeros aleatorios obtenidos por la congruencia fundamental\n",
    "datos = np.array(numeros_congruencia)\n",
    "\n",
    "# Calculamos la media y la desviación estándar\n",
    "mu = np.mean(datos)\n",
    "print(f\"la media es: {mu}\")\n",
    "sigma = np.std(datos)\n",
    "print(f\"la desviación estandar es: {sigma}\")\n",
    "\n",
    "# Creamos un rango de valores x para la distribución normal\n",
    "x = np.linspace(mu - 3*sigma, mu + 3*sigma, 100)\n",
    "\n",
    "# Calculamos la distribución normal para los valores x\n",
    "y = (1/(sigma * np.sqrt(2 * np.pi))) * np.exp(-0.5 * ((x - mu)/sigma)**2)\n",
    "\n",
    "# Creamos un histograma de los datos\n",
    "n, bins, patches = plt.hist(datos, bins=10, density=True, color='lightblue', alpha=0.5)\n",
    "\n",
    "# Creamos la curva de distribución normal\n",
    "plt.plot(bins, 1/(sigma * np.sqrt(2 * np.pi)) *\n",
    "         np.exp(- (bins - mu)**2 / (2 * sigma**2)),\n",
    "         linewidth=2, color='red')\n",
    "\n",
    "# Configurar la leyenda\n",
    "plt.legend(['Distribución normal', 'Frecuencia'])\n",
    "\n",
    "# Mostrar el gráfico\n",
    "plt.show()"
   ]
  },
  {
   "attachments": {},
   "cell_type": "markdown",
   "metadata": {},
   "source": [
    "Generamos los datos y graficamos la distribución normal segun los rangos establecidos"
   ]
  },
  {
   "cell_type": "code",
   "execution_count": 15,
   "metadata": {},
   "outputs": [
    {
     "name": "stdout",
     "output_type": "stream",
     "text": [
      "la media es: 6.075\n",
      "la desviación estandar es: 3.8001809167459384\n"
     ]
    },
    {
     "data": {
      "image/png": "[encoded data removed]",
      "text/plain": [
       "<Figure size 640x480 with 1 Axes>"
      ]
     },
     "metadata": {},
     "output_type": "display_data"
    }
   ],
   "source": [
    "# Utilizamos los numeros aleatorios obtenidos por la congruencia fundamental\n",
    "datos = np.array(numeros_congruencia_rangos)\n",
    "\n",
    "# Calculamos la media y la desviación estándar\n",
    "mu = np.mean(datos)\n",
    "print(f\"la media es: {mu}\")\n",
    "sigma = np.std(datos)\n",
    "print(f\"la desviación estandar es: {sigma}\")\n",
    "\n",
    "# Creamos un rango de valores x para la distribución normal\n",
    "x = np.linspace(mu - 3*sigma, mu + 3*sigma, 100)\n",
    "\n",
    "# Calculamos la distribución normal para los valores x\n",
    "y = (1/(sigma * np.sqrt(2 * np.pi))) * np.exp(-0.5 * ((x - mu)/sigma)**2)\n",
    "\n",
    "# Creamos un histograma de los datos\n",
    "n, bins, patches = plt.hist(datos, bins=10, density=True, color='lightblue', alpha=0.5)\n",
    "\n",
    "# Creamos la curva de distribución normal\n",
    "plt.plot(bins, 1/(sigma * np.sqrt(2 * np.pi)) *\n",
    "         np.exp(- (bins - mu)**2 / (2 * sigma**2)),\n",
    "         linewidth=2, color='red')\n",
    "\n",
    "# Configurar la leyenda\n",
    "plt.legend(['Distribución normal', 'Frecuencia'])\n",
    "\n",
    "# Mostrar el gráfico\n",
    "plt.show()"
   ]
  },
  {
   "attachments": {},
   "cell_type": "markdown",
   "metadata": {},
   "source": [
    "Definimos y generamos las marcas de clases para generar las variables aleatorias"
   ]
  },
  {
   "cell_type": "code",
   "execution_count": 16,
   "metadata": {},
   "outputs": [
    {
     "name": "stdout",
     "output_type": "stream",
     "text": [
      "                 piloto  Frecuencia Esperada\n",
      "0         Diego Aventín             3.333333\n",
      "1        Mariano Werner            20.000000\n",
      "2    Luis José Di Palma             6.666667\n",
      "3          Matías Rossi            10.000000\n",
      "4     Christian Ledesma             3.333333\n",
      "5       Facundo Ardusso            13.333333\n",
      "6         Omar Martínez             3.333333\n",
      "7     Guillermo Ortelli             3.333333\n",
      "8      Agustín Canapino            16.666667\n",
      "9    Jonatan Castellano             3.333333\n",
      "10   José Manuel Urcera            10.000000\n",
      "11  Juan Cruz Benvenuti             3.333333\n",
      "12    Mauricio Lambiris             3.333333\n"
     ]
    },
    {
     "data": {
      "image/png": "[encoded data removed]",
      "text/plain": [
       "<Figure size 640x480 with 1 Axes>"
      ]
     },
     "metadata": {},
     "output_type": "display_data"
    }
   ],
   "source": [
    "# Listamos los pilotos en podio del turismo carretera desde el 2013 al 2022\n",
    "pilotos = [\"Diego Aventín\", \"Mariano Werner\", \"Luis José Di Palma\", #2013\n",
    "           \"Matías Rossi\", \"Christian Ledesma\", \"Facundo Ardusso\", #2014\n",
    "           \"Omar Martínez\", \"Matías Rossi\", \"Facundo Ardusso\", #2015\n",
    "           \"Guillermo Ortelli\", \"Matías Rossi\", \"Mariano Werner\", #2016\n",
    "           \"Agustín Canapino\", \"Facundo Ardusso\", \"Luis José Di Palma\", #2017\n",
    "           \"Agustín Canapino\", \"Jonatan Castellano\", \"Facundo Ardusso\", #2018\n",
    "           \"Agustín Canapino\", \"José Manuel Urcera\", \"Mariano Werner\", #2019\n",
    "           \"Mariano Werner\", \"Juan Cruz Benvenuti\", \"José Manuel Urcera\", #2020\n",
    "           \"Mariano Werner\", \"Mauricio Lambiris\", \"Agustín Canapino\", #2021\n",
    "           \"José Manuel Urcera\", \"Mariano Werner\", \"Agustín Canapino\"] #2022\n",
    "\n",
    "\n",
    "# Contamos la cantidad de veces que cada piloto ha obtenido un lugar entre los tres primeros puestos\n",
    "pilotos_final = {}\n",
    "conteo = {}\n",
    "for piloto in pilotos:\n",
    "    if piloto in conteo:\n",
    "        conteo[piloto] += 1\n",
    "    else:\n",
    "        conteo[piloto] = 1\n",
    "\n",
    "for piloto in pilotos:\n",
    "    if piloto in conteo:\n",
    "        #print(piloto, conteo[piloto])\n",
    "        pilotos_final[piloto] =  conteo[piloto]\n",
    "        del conteo[piloto]\n",
    "\n",
    "# Número total de carreras consideradas\n",
    "num_carreras = 30  # 10 años x 3 posiciones\n",
    "\n",
    "# Calculamos la probabilidad esperada para cada piloto\n",
    "prob_pilotos = {}\n",
    "for piloto, count in pilotos_final.items():\n",
    "    prob_pilotos[piloto] = (count / num_carreras)*100\n",
    "        \n",
    "# Creamos la tabla\n",
    "tabla = pd.DataFrame({\n",
    "    \"piloto\": prob_pilotos.keys(),\n",
    "    \"Frecuencia Esperada\": prob_pilotos.values(),\n",
    "})\n",
    "\n",
    "# Mostramos la tabla\n",
    "print(tabla)\n",
    "    \n",
    "# Representamos las probabilidades esperadas con un gráfico de barras\n",
    "plt.bar(prob_pilotos.keys(), prob_pilotos.values())\n",
    "#plt.xlabel(\"Pilotos\")\n",
    "plt.ylabel(\"Probabilidad esperada\")\n",
    "plt.title(\"Probabilidades esperadas de los 3 primeros puestos del turismo carretera (2013-2022)\")\n",
    "plt.show()"
   ]
  },
  {
   "attachments": {},
   "cell_type": "markdown",
   "metadata": {},
   "source": [
    "Generamos las marcas de clases para realizar la simulación"
   ]
  },
  {
   "cell_type": "code",
   "execution_count": 17,
   "metadata": {},
   "outputs": [
    {
     "name": "stdout",
     "output_type": "stream",
     "text": [
      "Clase 1: 0.46153846153846156 - 1.3846153846153846  Frecuencia observada: 78\n",
      "Clase 2: 1.3846153846153846 - 2.3076923076923075  Frecuencia observada: 79\n",
      "Clase 3: 2.307692307692308 - 3.230769230769231  Frecuencia observada: 80\n",
      "Clase 4: 3.230769230769231 - 4.153846153846154  Frecuencia observada: 42\n",
      "Clase 5: 4.153846153846154 - 5.0769230769230775  Frecuencia observada: 78\n",
      "Clase 6: 5.0769230769230775 - 6.000000000000001  Frecuencia observada: 116\n",
      "Clase 7: 6.0 - 6.923076923076923  Frecuencia observada: 81\n",
      "Clase 8: 6.923076923076923 - 7.846153846153847  Frecuencia observada: 73\n",
      "Clase 9: 7.846153846153847 - 8.76923076923077  Frecuencia observada: 70\n",
      "Clase 10: 8.76923076923077 - 9.692307692307693  Frecuencia observada: 57\n",
      "Clase 11: 9.692307692307693 - 10.615384615384617  Frecuencia observada: 50\n",
      "Clase 12: 10.615384615384617 - 11.53846153846154  Frecuencia observada: 104\n",
      "Clase 13: 11.538461538461538 - 12.461538461538462  Frecuencia observada: 0\n"
     ]
    }
   ],
   "source": [
    "# Definimos el número de clases y la amplitud\n",
    "\n",
    "num_clases = len(pilotos_final) # Cantidad de pilotos del listado anterior\n",
    "amplitud_clase = maximo/len(pilotos_final)\n",
    "\n",
    "# Calculamos las marcas de clase\n",
    "marcas_clase = [amplitud_clase/2 + i*amplitud_clase for i in range(num_clases)]\n",
    "\n",
    "# Calcular la frecuencia de cada clase\n",
    "frecuencia_clase = [0]*num_clases\n",
    "for num in numeros_congruencia_rangos:\n",
    "    for i in range(num_clases):\n",
    "        if num >= i*amplitud_clase and num < (i+1)*amplitud_clase:\n",
    "            frecuencia_clase[i] += 1\n",
    "\n",
    "# Imprimir los resultados\n",
    "for i in range(num_clases):\n",
    "    print(f\"Clase {i+1}: {marcas_clase[i]} - {marcas_clase[i]+amplitud_clase}  Frecuencia observada: {frecuencia_clase[i]}\")"
   ]
  },
  {
   "cell_type": "code",
   "execution_count": 18,
   "metadata": {},
   "outputs": [
    {
     "name": "stdout",
     "output_type": "stream",
     "text": [
      "Marcas de clase: [0.46153846153846156, 1.3846153846153846, 2.307692307692308, 3.230769230769231, 4.153846153846154, 5.0769230769230775, 6.0, 6.923076923076923, 7.846153846153847, 8.76923076923077, 9.692307692307693, 10.615384615384617, 11.538461538461538]\n",
      "Probabilidades: [0.07692307692307693, 0.07692307692307693, 0.07692307692307693, 0.07692307692307693, 0.07692307692307693, 0.07692307692307693, 0.07692307692307693, 0.07692307692307693, 0.07692307692307693, 0.07692307692307693, 0.07692307692307693, 0.07692307692307693, 0.07692307692307693]\n",
      "Frecuencias observadas: [ 78  79  80  42  78 116  81  73  70  57  50 104  92]\n",
      "Frecuencias esperadas: [30, 200, 70, 100, 30, 130, 30, 30, 170, 30, 100, 30, 50]\n"
     ]
    },
    {
     "data": {
      "image/png": "[encoded data removed]",
      "text/plain": [
       "<Figure size 640x480 with 1 Axes>"
      ]
     },
     "metadata": {},
     "output_type": "display_data"
    }
   ],
   "source": [
    "# Dividimos el rango de valores en N intervalos de igual tamaño\n",
    "num_intervalos = len(pilotos_final) # Cantidad de pilotos del listado anterior\n",
    "rango = max(numeros_congruencia_rangos) - min(numeros_congruencia_rangos)\n",
    "ancho_intervalo = rango / num_intervalos\n",
    "\n",
    "# Calculamos las marcas de clase y las probabilidades de cada intervalo\n",
    "marcas_clase = [min(numeros_congruencia_rangos) + (i + 0.5) * ancho_intervalo for i in range(num_intervalos)]\n",
    "probabilidades = [ancho_intervalo / rango] * num_intervalos\n",
    "\n",
    "# Contamos cuántos números aleatorios caen en cada intervalo\n",
    "frecuencias_obs = np.histogram(numeros_congruencia_rangos, bins=num_intervalos, range=(min(numeros_congruencia_rangos), max(numeros_congruencia_rangos)))[0]\n",
    "\n",
    "# Calculamos las frecuencias esperadas\n",
    "frecuencias_esp = []\n",
    "\n",
    "cantidad_total = len(numeros_congruencia_rangos)\n",
    "lista_numeros = []\n",
    "\n",
    "porcentajes_enteros = [round(p) for p in prob_pilotos.values()]\n",
    "porcentajes_enteros[-1] += 100 - sum(porcentajes_enteros)\n",
    "\n",
    "for porcentaje in porcentajes_enteros:\n",
    "    numero = int(porcentaje / 100 * cantidad_total)\n",
    "    frecuencias_esp.append(numero)\n",
    "\n",
    "# Calcular el estadístico de chi-cuadrado y el p-valor\n",
    "chi2, p = chisquare(frecuencias_obs, frecuencias_esp)\n",
    "\n",
    "print(\"Marcas de clase:\", marcas_clase)\n",
    "print(\"Probabilidades:\", probabilidades)\n",
    "print(\"Frecuencias observadas:\", frecuencias_obs)\n",
    "print(\"Frecuencias esperadas:\", frecuencias_esp)\n",
    "\n",
    "# Creamos el gráfico\n",
    "plt.plot(marcas_clase, frecuencias_esp, '-o', label='Frecuencia Esperada', linewidth=2)\n",
    "plt.plot(marcas_clase, frecuencias_obs, '-o', label='Frecuencia Observada', linewidth=2)\n",
    "plt.legend(loc='best')\n",
    "plt.title('Gráfico de Frecuencias')\n",
    "plt.xlabel('Marcas de Clases')\n",
    "plt.ylabel('Frecuencia')\n",
    "\n",
    "# Mostramos el gráfico\n",
    "plt.show()"
   ]
  }
 ],
 "metadata": {
  "kernelspec": {
   "display_name": "venv",
   "language": "python",
   "name": "python3"
  },
  "language_info": {
   "codemirror_mode": {
    "name": "ipython",
    "version": 3
   },
   "file_extension": ".py",
   "mimetype": "text/x-python",
   "name": "python",
   "nbconvert_exporter": "python",
   "pygments_lexer": "ipython3",
   "version": "3.10.6"
  },
  "orig_nbformat": 4,
  "vscode": {
   "interpreter": {
    "hash": "b30b7e55ed2a9e89422417c81362aa9bc2751cab5052b411412700b7a27426bb"
   }
  }
 },
 "nbformat": 4,
 "nbformat_minor": 2
}
