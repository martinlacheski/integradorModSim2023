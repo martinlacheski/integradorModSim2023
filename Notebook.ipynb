{
 "cells": [
  {
   "attachments": {},
   "cell_type": "markdown",
   "metadata": {},
   "source": [
    "# CONFIGURACIONES INICIALES"
   ]
  },
  {
   "attachments": {},
   "cell_type": "markdown",
   "metadata": {},
   "source": [
    "# Python\n",
    "\n",
    "- Verificar que tenemos instalado python en nuestro sistema operativo\n",
    "\n",
    "# Creamos Entorno virtual\n",
    "\n",
    "- En linux ejecutar: python3 -m venv venv\n",
    "- En windows ejecutar: py -m venv venv\n",
    "\n",
    "# Activamos entorno virtual\n",
    "\n",
    "- En linux ejecutar:source venv/bin/activate\n",
    "- En windows ejecutar: .\\venv\\script\\activate\n",
    "\n",
    "# Instalamos dependencias\n",
    "\n",
    "- pip install numpy\n",
    "- pip install ipython\n",
    "- pip install ipykernel\n",
    "- pip install plotly\n",
    "- pip install matplotlib \n",
    "- pip install nbformat\n",
    "\n",
    "# Pasos finales\n",
    "\n",
    "- Una vez instalado todo, desactivar el entorno virtual ingresando en la terminal \"deactivate\"\n",
    "- Luego volver a activar el entorno virtual.\n",
    "- crear el kernel para ejecutar los comandos: ipython kernel install --user --name=venv\n",
    "- reiniciamos el Jupyter Notebook\n",
    "- Seleccionar el kernel utilizado en el entorno virtual y no el nativo del sistema operativo, desde VSCODE en la zona superior derecha.\n"
   ]
  },
  {
   "attachments": {},
   "cell_type": "markdown",
   "metadata": {},
   "source": [
    "# Importamos las librerias necesarias"
   ]
  },
  {
   "cell_type": "code",
   "execution_count": 16,
   "metadata": {},
   "outputs": [],
   "source": [
    "import numpy as np\n",
    "import matplotlib.pyplot as plt\n",
    "import plotly.graph_objects as go\n",
    "import nbformat\n",
    "\n",
    "from indices_chisquare import *\n"
   ]
  },
  {
   "attachments": {},
   "cell_type": "markdown",
   "metadata": {},
   "source": [
    "# Definimos las variables necesarias para ejecutar"
   ]
  },
  {
   "cell_type": "code",
   "execution_count": 17,
   "metadata": {},
   "outputs": [],
   "source": [
    "# Variables Fibonacci\n",
    "\n",
    "# primer parametro es \"v1\" que es el valor 1, \n",
    "v1 = 23\n",
    "\n",
    "# para provocar falso\n",
    "# v1 = 1\n",
    "\n",
    "# segundo parametro \"v2\" que es el valor 2,\n",
    "v2 = 67\n",
    "\n",
    "# para provocar falso\n",
    "# v2 = 4\n",
    "\n",
    "# tercer parametro es \"K\" y que es requerido por la funcion para \"(v1 + v2) <= K\"\n",
    "K_Fibonacci = 177\n",
    "\n",
    "# Variables Congruencias Fundamental\n",
    "\n",
    "# primer parametro es \"a\" que multiplica a Vi, \n",
    "a = 1\n",
    "\n",
    "# segundo parametro \"c\" que multiplica a Vi-k, \n",
    "c = 2\n",
    "\n",
    "# para provocar falso\n",
    "# c = 4 # Falso test de Poker\n",
    "# c = 3 # Falso test de Chi\n",
    "\n",
    "# tercer parametro es \"K\" que es la cantidad de espacios a crear antes de los nros aleatorios\n",
    "K_Congruencias = 16\n",
    "\n",
    "# cuarto parametro es \"m\" que es el tope de numeros a generar\n",
    "m = 10\n",
    "\n",
    "# En Fibonacci y Congruencias el parametro \"n\" es la cantidad de numeros que queremos generar\n",
    "n = 100\n",
    "\n",
    "# Definimos la confianza para aplicar en los TEST's de Poker y Ji Cuadrada\n",
    "confianza = 0.5"
   ]
  },
  {
   "attachments": {},
   "cell_type": "markdown",
   "metadata": {},
   "source": [
    "# Definimos la funcion para generar los numeros aleatorios de Fibonacci donde:"
   ]
  },
  {
   "cell_type": "code",
   "execution_count": 18,
   "metadata": {},
   "outputs": [],
   "source": [
    "def fibonacci(v1,v2,K,n):\n",
    "    if v1 < 0:\n",
    "        print('Valor inválido v1, tiene que ser mayor que CERO')\n",
    "    elif v2 < 0:\n",
    "        print('Valor inválido de v2, tiene que ser mayor que CERO')\n",
    "    elif v2 < v1:\n",
    "        print('Valor inválido, v2 es menor que v1')\n",
    "    elif K < 0:\n",
    "        print('Valor inválido de K para Fibonacci, tiene que ser mayor que CERO')\n",
    "    else:\n",
    "        list = []\n",
    "        list.append(v1)\n",
    "        list.append(v2)\n",
    "        for i in range(n):\n",
    "            if (v1 + v2) <= K:\n",
    "                total = v1 + v2 + (0 * K)\n",
    "            else:    \n",
    "                total = v1 + v2 + (-1 * K)\n",
    "                \n",
    "            # Reasignamos las variables\n",
    "            v1 = v2\n",
    "            v2 = total\n",
    "            \n",
    "            # Agregamos el numero nuevo\n",
    "            list.append(total)\n",
    "\n",
    "        # Retornamos el listado de numeros aleatorios concatenados \n",
    "        return(list)"
   ]
  },
  {
   "cell_type": "code",
   "execution_count": 19,
   "metadata": {},
   "outputs": [
    {
     "name": "stdout",
     "output_type": "stream",
     "text": [
      "Listado de numeros aleatorios aplicando Fibonacci:\n",
      "[23, 67, 90, 157, 70, 50, 120, 170, 113, 106, 42, 148, 13, 161, 174, 158, 155, 136, 114, 73, 10, 83, 93, 176, 92, 91, 6, 97, 103, 23, 126, 149, 98, 70, 168, 61, 52, 113, 165, 101, 89, 13, 102, 115, 40, 155, 18, 173, 14, 10, 24, 34, 58, 92, 150, 65, 38, 103, 141, 67, 31, 98, 129, 50, 2, 52, 54, 106, 160, 89, 72, 161, 56, 40, 96, 136, 55, 14, 69, 83, 152, 58, 33, 91, 124, 38, 162, 23, 8, 31, 39, 70, 109, 2, 111, 113, 47, 160, 30, 13, 43, 56]\n"
     ]
    }
   ],
   "source": [
    "# Generamos el listado de numeros aleatorios aplicando Fibonacci\n",
    "\n",
    "numeros_fibonacci = fibonacci(v1,v2,K_Fibonacci,n)\n",
    "\n",
    "# Imprimimos el array de fibonacci\n",
    "\n",
    "print('Listado de numeros aleatorios aplicando Fibonacci:')\n",
    "print(numeros_fibonacci)"
   ]
  },
  {
   "attachments": {},
   "cell_type": "markdown",
   "metadata": {},
   "source": [
    "# Definimos la funcion para generar los numeros aleatorios mediante la Congruencia fundamental y utilizando la serie de Fibonacci donde:"
   ]
  },
  {
   "cell_type": "code",
   "execution_count": 20,
   "metadata": {},
   "outputs": [],
   "source": [
    "def congruencia_fundamental(a,c,K,m,n):\n",
    "    if a <= 0:\n",
    "        print('Valor inválido de A, tiene que ser mayor que CERO')\n",
    "    elif c <= 0:\n",
    "        print('Valor inválido de C, tiene que ser mayor que CERO')\n",
    "    elif m <= 0:\n",
    "        print('Valor inválido de M, tiene que ser mayor que CERO')    \n",
    "    elif m < a:\n",
    "        print('Valor inválido, M debe ser mayor que A')\n",
    "    elif K_Congruencias < 0:\n",
    "        print('Valor invalido de K para congruencias, tiene que ser mayor que CERO')\n",
    "    else:\n",
    "        # Creamos un Array auxiliar de K para el método con la secuencia Fibonacci\n",
    "        aux = numeros_fibonacci\n",
    "                       \n",
    "        # Ejecutamos el metodo de congruencia fundamental\n",
    "        list = []\n",
    "        for i in range(n):\n",
    "            nro = ((a * aux[i-1] + c * aux[i-K_Congruencias]) % m)\n",
    "            list.append(nro)\n",
    "            \n",
    "        # Retornamos el listado de numeros aleatorios\n",
    "        return(list)"
   ]
  },
  {
   "cell_type": "code",
   "execution_count": 21,
   "metadata": {},
   "outputs": [
    {
     "name": "stdout",
     "output_type": "stream",
     "text": [
      "Listado de numeros aleatorios aplicando Congruencia Fundamental:\n",
      "[0, 9, 3, 2, 5, 0, 8, 4, 2, 9, 0, 2, 8, 9, 7, 6, 4, 9, 6, 8, 3, 0, 3, 3, 2, 4, 5, 2, 3, 5, 1, 2, 9, 0, 8, 4, 1, 8, 9, 7, 5, 1, 5, 6, 1, 6, 7, 6, 9, 4, 6, 6, 8, 4, 2, 2, 3, 4, 7, 1, 7, 1, 4, 5, 8, 2, 0, 2, 2, 4, 9, 2, 7, 2, 2, 0, 8, 1, 2, 9, 7, 6, 6, 5, 1, 2, 2, 4, 5, 8, 3, 1, 0, 7, 0, 7, 7, 3, 6, 2]\n"
     ]
    }
   ],
   "source": [
    "# Generamos el listado de numeros aleatorios aplicando Congruencia Fundamental\n",
    "\n",
    "numeros_congruencia = congruencia_fundamental(a,c,K_Congruencias,m,n)\n",
    "\n",
    "print('Listado de numeros aleatorios aplicando Congruencia Fundamental:')\n",
    "print(numeros_congruencia)"
   ]
  },
  {
   "attachments": {},
   "cell_type": "markdown",
   "metadata": {},
   "source": [
    "# Definimos la funcion para realizar el test de Poker"
   ]
  },
  {
   "cell_type": "code",
   "execution_count": 22,
   "metadata": {},
   "outputs": [],
   "source": [
    "def test_poker(nros):\n",
    "    # Test poker\n",
    "    a = 0\n",
    "    i = 0\n",
    "    grupos = []\n",
    "    tipos = [0, 0, 0, 0, 0, 0, 0]\n",
    "    cant_grupos = len(nros) // 5\n",
    "\n",
    "    # Agrupar de a 5 elementos\n",
    "    while a < cant_grupos:\n",
    "        grupos.append(nros[i:i + 5])\n",
    "        a += 1\n",
    "        i += 5\n",
    "\n",
    "    # Clasificar grupos (obtener frecuencia observada)\n",
    "    for item in grupos:\n",
    "        apariciones = [0, 0, 0, 0, 0, 0, 0, 0, 0, 0]\n",
    "        valor = 1\n",
    "\n",
    "        for i in range(10):\n",
    "            apariciones[i] += str(item).count(str(i))\n",
    "\n",
    "        for i in range(10):\n",
    "            if apariciones[i] > 0:\n",
    "                valor = valor * apariciones[i]\n",
    "\n",
    "        if valor == 1:\n",
    "            tipos[0] += 1\n",
    "        elif valor == 2:\n",
    "            tipos[1] += 1\n",
    "        elif valor == 3:\n",
    "            tipos[3] += 1\n",
    "        elif valor == 4:\n",
    "            if 4 in apariciones:\n",
    "                tipos[5] += 1\n",
    "            else:\n",
    "                tipos[2] += 1\n",
    "        elif valor == 5:\n",
    "            tipos[6] += 1\n",
    "        elif valor == 6:\n",
    "            tipos[4] += 1\n",
    "        else:\n",
    "            return \"error\"\n",
    "\n",
    "    # Calculo de fe\n",
    "    fe = [0, 0, 0, 0, 0, 0, 0]\n",
    "    fe[0] = cant_grupos * 0.3024\n",
    "    fe[1] = cant_grupos * 0.504\n",
    "    fe[2] = cant_grupos * 0.108\n",
    "    fe[3] = cant_grupos * 0.072\n",
    "    fe[4] = cant_grupos * 0.009\n",
    "    fe[5] = cant_grupos * 0.0045\n",
    "    fe[6] = cant_grupos * 0.0001\n",
    "\n",
    "    # Calculo de x0\n",
    "    x0 = 0\n",
    "    for i in range(7):\n",
    "        x0 += ((fe[i] - tipos[i]) ** 2) / fe[i]\n",
    "\n",
    "    return x0"
   ]
  },
  {
   "attachments": {},
   "cell_type": "markdown",
   "metadata": {},
   "source": [
    "# Definimos la funcion para validar si aprobo o no el test de Poker"
   ]
  },
  {
   "cell_type": "code",
   "execution_count": 23,
   "metadata": {},
   "outputs": [],
   "source": [
    "def res_test_poker(resultado):\n",
    "    i = 0\n",
    "    \n",
    "    #Buscamos el valor del indice segun el valor de confianza\n",
    "    for i in range(len(indice_chisquare)):\n",
    "        if confianza == indice_chisquare[i]:\n",
    "            indiceJI = tabla_chisquare_test_poker[i]\n",
    "            break\n",
    "    \n",
    "    #Comparamos si el resultado es menor o mayor al correspondiente en la tabla\n",
    "    if tabla_chisquare_test_poker[i] > resultado :\n",
    "        print(f\"{resultado} < {indiceJI}\")\n",
    "        print('El resultado del test de Poker para Fibonacci + Congruencia Fundamental es VERDADERO')\n",
    "        return\n",
    "    else:\n",
    "        print(f\"{resultado} > {indiceJI}\")\n",
    "        print('El resultado del test de Poker para Fibonacci + Congruencia Fundamental es FALSO')\n",
    "        return"
   ]
  },
  {
   "attachments": {},
   "cell_type": "markdown",
   "metadata": {},
   "source": [
    "# Generamos el Test de Poker para los numeros aleatorios aplicando Congruencia Fundamental"
   ]
  },
  {
   "cell_type": "code",
   "execution_count": 24,
   "metadata": {},
   "outputs": [
    {
     "name": "stdout",
     "output_type": "stream",
     "text": [
      "3.6441798941798944 < 5.3481\n",
      "El resultado del test de Poker para Fibonacci + Congruencia Fundamental es VERDADERO\n"
     ]
    }
   ],
   "source": [
    "# Se genera la impresion de los resultados en la funcion\n",
    "\n",
    "resultado = test_poker(numeros_congruencia)\n",
    "\n",
    "# Se genera la impresion de los resultados en la funcion\n",
    "\n",
    "resultadoTest = res_test_poker(resultado)"
   ]
  },
  {
   "attachments": {},
   "cell_type": "markdown",
   "metadata": {},
   "source": [
    "# Definimos la funcion para realizar el test de Ji Cuadrado"
   ]
  },
  {
   "cell_type": "code",
   "execution_count": 25,
   "metadata": {},
   "outputs": [],
   "source": [
    "def test_jicuadrado(nros):\n",
    "\n",
    "    x0 = 0\n",
    "    fi = [0]*10\n",
    "\n",
    "    # Cálculo de fi\n",
    "    for item in nros:\n",
    "        fi[item] += 1\n",
    "\n",
    "    # Cálculo de npi\n",
    "    npi = len(nros)/10\n",
    "\n",
    "    '''\n",
    "    fi = [7, 4, 5, 7, 4, 5, 4, 9, 5, 5]\n",
    "    npi = 5.5\n",
    "    '''\n",
    "\n",
    "    # Cálculo de x0\n",
    "    for i in range(len(fi)):\n",
    "        x0 += ((fi[i] - npi)*(fi[i] - npi)) / npi\n",
    "\n",
    "    return x0"
   ]
  },
  {
   "attachments": {},
   "cell_type": "markdown",
   "metadata": {},
   "source": [
    "# Definimos la funcion para validar si aprobo o no el test de Ji Cuadrado"
   ]
  },
  {
   "cell_type": "code",
   "execution_count": 26,
   "metadata": {},
   "outputs": [],
   "source": [
    "def res_test_chi(resultado):\n",
    "    i = 0\n",
    "    \n",
    "    #Buscamos el valor del indice segun el valor de confianza\n",
    "    for i in range(len(indice_chisquare)):\n",
    "        if confianza == indice_chisquare[i]:\n",
    "            indiceJI = tabla_chisquare_test_chi[i]\n",
    "            break\n",
    "            \n",
    "    #Comparamos si el resultado es menor o mayor al correspondiente en la tabla\n",
    "    if (tabla_chisquare_test_chi[i] > resultado ):\n",
    "        print(f\"{resultado} < {indiceJI}\")\n",
    "        print('El resultado del test de Ji Cuadrado para Fibonacci + Congruencia Fundamental es VERDADERO')\n",
    "        return\n",
    "    else:\n",
    "        print(f\"{resultado} > {indiceJI}\")\n",
    "        print('El resultado del test de Ji Cuadrado para Fibonacci + Congruencia Fundamental es FALSO')\n",
    "        return"
   ]
  },
  {
   "attachments": {},
   "cell_type": "markdown",
   "metadata": {},
   "source": [
    "# Generamos el Test de Ji Cuadrado para los numeros aleatorios aplicando Congruencia Fundamental"
   ]
  },
  {
   "cell_type": "code",
   "execution_count": 27,
   "metadata": {},
   "outputs": [
    {
     "name": "stdout",
     "output_type": "stream",
     "text": [
      "7.6000000000000005 < 8.3428\n",
      "El resultado del test de Ji Cuadrado para Fibonacci + Congruencia Fundamental es VERDADERO\n"
     ]
    }
   ],
   "source": [
    "# Se genera la impresion de los resultados en la funcion\n",
    "\n",
    "resultado = test_jicuadrado(numeros_congruencia)\n",
    "\n",
    "# Se genera la impresion de los resultados en la funcion\n",
    "\n",
    "resultadoTest = res_test_chi(resultado)"
   ]
  },
  {
   "attachments": {},
   "cell_type": "markdown",
   "metadata": {},
   "source": [
    "# Definimos una funcion para convertir los numeros aleatorios en CERO y UNO para poder aplicar la Distribucion de Bernoulli"
   ]
  },
  {
   "cell_type": "code",
   "execution_count": 28,
   "metadata": {},
   "outputs": [],
   "source": [
    "def distribucion_bernoulli(numeros):\n",
    "    valores = np.array(numeros)\n",
    "    binarios = np.where(valores >= 5, 1, 0)\n",
    "    return binarios"
   ]
  },
  {
   "cell_type": "code",
   "execution_count": 29,
   "metadata": {},
   "outputs": [
    {
     "name": "stdout",
     "output_type": "stream",
     "text": [
      "[0 1 0 0 1 0 1 0 0 1 0 0 1 1 1 1 0 1 1 1 0 0 0 0 0 0 1 0 0 1 0 0 1 0 1 0 0\n",
      " 1 1 1 1 0 1 1 0 1 1 1 1 0 1 1 1 0 0 0 0 0 1 0 1 0 0 1 1 0 0 0 0 0 1 0 1 0\n",
      " 0 0 1 0 0 1 1 1 1 1 0 0 0 0 1 1 0 0 0 1 0 1 1 0 1 0]\n"
     ]
    }
   ],
   "source": [
    "# Generamos la distribucion de Bernoulli sobre los numeros aleatorios\n",
    "\n",
    "distribucion = distribucion_bernoulli(numeros_congruencia)\n",
    "\n",
    "print(distribucion)"
   ]
  },
  {
   "attachments": {},
   "cell_type": "markdown",
   "metadata": {},
   "source": [
    "# Contabilizamos y graficamos la distribución de Bernoulli"
   ]
  },
  {
   "cell_type": "code",
   "execution_count": 30,
   "metadata": {},
   "outputs": [
    {
     "name": "stdout",
     "output_type": "stream",
     "text": [
      "dict_keys([0, 1])\n",
      "dict_values([54, 46])\n",
      "{0: 54, 1: 46}\n"
     ]
    },
    {
     "data": {
      "application/vnd.plotly.v1+json": {
       "config": {
        "plotlyServerURL": "https://plot.ly"
       },
       "data": [
        {
         "labels": [
          0,
          1
         ],
         "type": "pie",
         "values": [
          54,
          46
         ]
        }
       ],
       "layout": {
        "template": {
         "data": {
          "bar": [
           {
            "error_x": {
             "color": "#2a3f5f"
            },
            "error_y": {
             "color": "#2a3f5f"
            },
            "marker": {
             "line": {
              "color": "#E5ECF6",
              "width": 0.5
             },
             "pattern": {
              "fillmode": "overlay",
              "size": 10,
              "solidity": 0.2
             }
            },
            "type": "bar"
           }
          ],
          "barpolar": [
           {
            "marker": {
             "line": {
              "color": "#E5ECF6",
              "width": 0.5
             },
             "pattern": {
              "fillmode": "overlay",
              "size": 10,
              "solidity": 0.2
             }
            },
            "type": "barpolar"
           }
          ],
          "carpet": [
           {
            "aaxis": {
             "endlinecolor": "#2a3f5f",
             "gridcolor": "white",
             "linecolor": "white",
             "minorgridcolor": "white",
             "startlinecolor": "#2a3f5f"
            },
            "baxis": {
             "endlinecolor": "#2a3f5f",
             "gridcolor": "white",
             "linecolor": "white",
             "minorgridcolor": "white",
             "startlinecolor": "#2a3f5f"
            },
            "type": "carpet"
           }
          ],
          "choropleth": [
           {
            "colorbar": {
             "outlinewidth": 0,
             "ticks": ""
            },
            "type": "choropleth"
           }
          ],
          "contour": [
           {
            "colorbar": {
             "outlinewidth": 0,
             "ticks": ""
            },
            "colorscale": [
             [
              0,
              "#0d0887"
             ],
             [
              0.1111111111111111,
              "#46039f"
             ],
             [
              0.2222222222222222,
              "#7201a8"
             ],
             [
              0.3333333333333333,
              "#9c179e"
             ],
             [
              0.4444444444444444,
              "#bd3786"
             ],
             [
              0.5555555555555556,
              "#d8576b"
             ],
             [
              0.6666666666666666,
              "#ed7953"
             ],
             [
              0.7777777777777778,
              "#fb9f3a"
             ],
             [
              0.8888888888888888,
              "#fdca26"
             ],
             [
              1,
              "#f0f921"
             ]
            ],
            "type": "contour"
           }
          ],
          "contourcarpet": [
           {
            "colorbar": {
             "outlinewidth": 0,
             "ticks": ""
            },
            "type": "contourcarpet"
           }
          ],
          "heatmap": [
           {
            "colorbar": {
             "outlinewidth": 0,
             "ticks": ""
            },
            "colorscale": [
             [
              0,
              "#0d0887"
             ],
             [
              0.1111111111111111,
              "#46039f"
             ],
             [
              0.2222222222222222,
              "#7201a8"
             ],
             [
              0.3333333333333333,
              "#9c179e"
             ],
             [
              0.4444444444444444,
              "#bd3786"
             ],
             [
              0.5555555555555556,
              "#d8576b"
             ],
             [
              0.6666666666666666,
              "#ed7953"
             ],
             [
              0.7777777777777778,
              "#fb9f3a"
             ],
             [
              0.8888888888888888,
              "#fdca26"
             ],
             [
              1,
              "#f0f921"
             ]
            ],
            "type": "heatmap"
           }
          ],
          "heatmapgl": [
           {
            "colorbar": {
             "outlinewidth": 0,
             "ticks": ""
            },
            "colorscale": [
             [
              0,
              "#0d0887"
             ],
             [
              0.1111111111111111,
              "#46039f"
             ],
             [
              0.2222222222222222,
              "#7201a8"
             ],
             [
              0.3333333333333333,
              "#9c179e"
             ],
             [
              0.4444444444444444,
              "#bd3786"
             ],
             [
              0.5555555555555556,
              "#d8576b"
             ],
             [
              0.6666666666666666,
              "#ed7953"
             ],
             [
              0.7777777777777778,
              "#fb9f3a"
             ],
             [
              0.8888888888888888,
              "#fdca26"
             ],
             [
              1,
              "#f0f921"
             ]
            ],
            "type": "heatmapgl"
           }
          ],
          "histogram": [
           {
            "marker": {
             "pattern": {
              "fillmode": "overlay",
              "size": 10,
              "solidity": 0.2
             }
            },
            "type": "histogram"
           }
          ],
          "histogram2d": [
           {
            "colorbar": {
             "outlinewidth": 0,
             "ticks": ""
            },
            "colorscale": [
             [
              0,
              "#0d0887"
             ],
             [
              0.1111111111111111,
              "#46039f"
             ],
             [
              0.2222222222222222,
              "#7201a8"
             ],
             [
              0.3333333333333333,
              "#9c179e"
             ],
             [
              0.4444444444444444,
              "#bd3786"
             ],
             [
              0.5555555555555556,
              "#d8576b"
             ],
             [
              0.6666666666666666,
              "#ed7953"
             ],
             [
              0.7777777777777778,
              "#fb9f3a"
             ],
             [
              0.8888888888888888,
              "#fdca26"
             ],
             [
              1,
              "#f0f921"
             ]
            ],
            "type": "histogram2d"
           }
          ],
          "histogram2dcontour": [
           {
            "colorbar": {
             "outlinewidth": 0,
             "ticks": ""
            },
            "colorscale": [
             [
              0,
              "#0d0887"
             ],
             [
              0.1111111111111111,
              "#46039f"
             ],
             [
              0.2222222222222222,
              "#7201a8"
             ],
             [
              0.3333333333333333,
              "#9c179e"
             ],
             [
              0.4444444444444444,
              "#bd3786"
             ],
             [
              0.5555555555555556,
              "#d8576b"
             ],
             [
              0.6666666666666666,
              "#ed7953"
             ],
             [
              0.7777777777777778,
              "#fb9f3a"
             ],
             [
              0.8888888888888888,
              "#fdca26"
             ],
             [
              1,
              "#f0f921"
             ]
            ],
            "type": "histogram2dcontour"
           }
          ],
          "mesh3d": [
           {
            "colorbar": {
             "outlinewidth": 0,
             "ticks": ""
            },
            "type": "mesh3d"
           }
          ],
          "parcoords": [
           {
            "line": {
             "colorbar": {
              "outlinewidth": 0,
              "ticks": ""
             }
            },
            "type": "parcoords"
           }
          ],
          "pie": [
           {
            "automargin": true,
            "type": "pie"
           }
          ],
          "scatter": [
           {
            "fillpattern": {
             "fillmode": "overlay",
             "size": 10,
             "solidity": 0.2
            },
            "type": "scatter"
           }
          ],
          "scatter3d": [
           {
            "line": {
             "colorbar": {
              "outlinewidth": 0,
              "ticks": ""
             }
            },
            "marker": {
             "colorbar": {
              "outlinewidth": 0,
              "ticks": ""
             }
            },
            "type": "scatter3d"
           }
          ],
          "scattercarpet": [
           {
            "marker": {
             "colorbar": {
              "outlinewidth": 0,
              "ticks": ""
             }
            },
            "type": "scattercarpet"
           }
          ],
          "scattergeo": [
           {
            "marker": {
             "colorbar": {
              "outlinewidth": 0,
              "ticks": ""
             }
            },
            "type": "scattergeo"
           }
          ],
          "scattergl": [
           {
            "marker": {
             "colorbar": {
              "outlinewidth": 0,
              "ticks": ""
             }
            },
            "type": "scattergl"
           }
          ],
          "scattermapbox": [
           {
            "marker": {
             "colorbar": {
              "outlinewidth": 0,
              "ticks": ""
             }
            },
            "type": "scattermapbox"
           }
          ],
          "scatterpolar": [
           {
            "marker": {
             "colorbar": {
              "outlinewidth": 0,
              "ticks": ""
             }
            },
            "type": "scatterpolar"
           }
          ],
          "scatterpolargl": [
           {
            "marker": {
             "colorbar": {
              "outlinewidth": 0,
              "ticks": ""
             }
            },
            "type": "scatterpolargl"
           }
          ],
          "scatterternary": [
           {
            "marker": {
             "colorbar": {
              "outlinewidth": 0,
              "ticks": ""
             }
            },
            "type": "scatterternary"
           }
          ],
          "surface": [
           {
            "colorbar": {
             "outlinewidth": 0,
             "ticks": ""
            },
            "colorscale": [
             [
              0,
              "#0d0887"
             ],
             [
              0.1111111111111111,
              "#46039f"
             ],
             [
              0.2222222222222222,
              "#7201a8"
             ],
             [
              0.3333333333333333,
              "#9c179e"
             ],
             [
              0.4444444444444444,
              "#bd3786"
             ],
             [
              0.5555555555555556,
              "#d8576b"
             ],
             [
              0.6666666666666666,
              "#ed7953"
             ],
             [
              0.7777777777777778,
              "#fb9f3a"
             ],
             [
              0.8888888888888888,
              "#fdca26"
             ],
             [
              1,
              "#f0f921"
             ]
            ],
            "type": "surface"
           }
          ],
          "table": [
           {
            "cells": {
             "fill": {
              "color": "#EBF0F8"
             },
             "line": {
              "color": "white"
             }
            },
            "header": {
             "fill": {
              "color": "#C8D4E3"
             },
             "line": {
              "color": "white"
             }
            },
            "type": "table"
           }
          ]
         },
         "layout": {
          "annotationdefaults": {
           "arrowcolor": "#2a3f5f",
           "arrowhead": 0,
           "arrowwidth": 1
          },
          "autotypenumbers": "strict",
          "coloraxis": {
           "colorbar": {
            "outlinewidth": 0,
            "ticks": ""
           }
          },
          "colorscale": {
           "diverging": [
            [
             0,
             "#8e0152"
            ],
            [
             0.1,
             "#c51b7d"
            ],
            [
             0.2,
             "#de77ae"
            ],
            [
             0.3,
             "#f1b6da"
            ],
            [
             0.4,
             "#fde0ef"
            ],
            [
             0.5,
             "#f7f7f7"
            ],
            [
             0.6,
             "#e6f5d0"
            ],
            [
             0.7,
             "#b8e186"
            ],
            [
             0.8,
             "#7fbc41"
            ],
            [
             0.9,
             "#4d9221"
            ],
            [
             1,
             "#276419"
            ]
           ],
           "sequential": [
            [
             0,
             "#0d0887"
            ],
            [
             0.1111111111111111,
             "#46039f"
            ],
            [
             0.2222222222222222,
             "#7201a8"
            ],
            [
             0.3333333333333333,
             "#9c179e"
            ],
            [
             0.4444444444444444,
             "#bd3786"
            ],
            [
             0.5555555555555556,
             "#d8576b"
            ],
            [
             0.6666666666666666,
             "#ed7953"
            ],
            [
             0.7777777777777778,
             "#fb9f3a"
            ],
            [
             0.8888888888888888,
             "#fdca26"
            ],
            [
             1,
             "#f0f921"
            ]
           ],
           "sequentialminus": [
            [
             0,
             "#0d0887"
            ],
            [
             0.1111111111111111,
             "#46039f"
            ],
            [
             0.2222222222222222,
             "#7201a8"
            ],
            [
             0.3333333333333333,
             "#9c179e"
            ],
            [
             0.4444444444444444,
             "#bd3786"
            ],
            [
             0.5555555555555556,
             "#d8576b"
            ],
            [
             0.6666666666666666,
             "#ed7953"
            ],
            [
             0.7777777777777778,
             "#fb9f3a"
            ],
            [
             0.8888888888888888,
             "#fdca26"
            ],
            [
             1,
             "#f0f921"
            ]
           ]
          },
          "colorway": [
           "#636efa",
           "#EF553B",
           "#00cc96",
           "#ab63fa",
           "#FFA15A",
           "#19d3f3",
           "#FF6692",
           "#B6E880",
           "#FF97FF",
           "#FECB52"
          ],
          "font": {
           "color": "#2a3f5f"
          },
          "geo": {
           "bgcolor": "white",
           "lakecolor": "white",
           "landcolor": "#E5ECF6",
           "showlakes": true,
           "showland": true,
           "subunitcolor": "white"
          },
          "hoverlabel": {
           "align": "left"
          },
          "hovermode": "closest",
          "mapbox": {
           "style": "light"
          },
          "paper_bgcolor": "white",
          "plot_bgcolor": "#E5ECF6",
          "polar": {
           "angularaxis": {
            "gridcolor": "white",
            "linecolor": "white",
            "ticks": ""
           },
           "bgcolor": "#E5ECF6",
           "radialaxis": {
            "gridcolor": "white",
            "linecolor": "white",
            "ticks": ""
           }
          },
          "scene": {
           "xaxis": {
            "backgroundcolor": "#E5ECF6",
            "gridcolor": "white",
            "gridwidth": 2,
            "linecolor": "white",
            "showbackground": true,
            "ticks": "",
            "zerolinecolor": "white"
           },
           "yaxis": {
            "backgroundcolor": "#E5ECF6",
            "gridcolor": "white",
            "gridwidth": 2,
            "linecolor": "white",
            "showbackground": true,
            "ticks": "",
            "zerolinecolor": "white"
           },
           "zaxis": {
            "backgroundcolor": "#E5ECF6",
            "gridcolor": "white",
            "gridwidth": 2,
            "linecolor": "white",
            "showbackground": true,
            "ticks": "",
            "zerolinecolor": "white"
           }
          },
          "shapedefaults": {
           "line": {
            "color": "#2a3f5f"
           }
          },
          "ternary": {
           "aaxis": {
            "gridcolor": "white",
            "linecolor": "white",
            "ticks": ""
           },
           "baxis": {
            "gridcolor": "white",
            "linecolor": "white",
            "ticks": ""
           },
           "bgcolor": "#E5ECF6",
           "caxis": {
            "gridcolor": "white",
            "linecolor": "white",
            "ticks": ""
           }
          },
          "title": {
           "x": 0.05
          },
          "xaxis": {
           "automargin": true,
           "gridcolor": "white",
           "linecolor": "white",
           "ticks": "",
           "title": {
            "standoff": 15
           },
           "zerolinecolor": "white",
           "zerolinewidth": 2
          },
          "yaxis": {
           "automargin": true,
           "gridcolor": "white",
           "linecolor": "white",
           "ticks": "",
           "title": {
            "standoff": 15
           },
           "zerolinecolor": "white",
           "zerolinewidth": 2
          }
         }
        }
       }
      }
     },
     "metadata": {},
     "output_type": "display_data"
    }
   ],
   "source": [
    "# Usamos plotly para hacer un diagrama de barras interactivo con la distribución de los datos\n",
    "\n",
    "# Contamos los valores CERO y UNO\n",
    "datos = {}\n",
    "\n",
    "for valor in distribucion:\n",
    "    if valor in datos:\n",
    "        datos[valor] += 1\n",
    "    else:\n",
    "        datos[valor] = 1\n",
    "print(datos.keys())\n",
    "print(datos.values())\n",
    "print(datos)\n",
    "\n",
    "fig = go.Figure(data=[go.Pie(labels=list(datos.keys()), values=list(datos.values()))])\n",
    "fig.show()"
   ]
  },
  {
   "attachments": {},
   "cell_type": "markdown",
   "metadata": {},
   "source": [
    "# Generamos los datos y graficamos la distribución normal"
   ]
  },
  {
   "cell_type": "code",
   "execution_count": 56,
   "metadata": {},
   "outputs": [
    {
     "name": "stdout",
     "output_type": "stream",
     "text": [
      "la media es: 4.32\n",
      "la desviación estandar es: 2.8315366852647346\n"
     ]
    },
    {
     "data": {
      "image/png": "[encoded data removed]",
      "text/plain": [
       "<Figure size 640x480 with 1 Axes>"
      ]
     },
     "metadata": {},
     "output_type": "display_data"
    }
   ],
   "source": [
    "# Utilizamos los numeros aleatorios obtenidos por la congruencia fundamental\n",
    "datos = np.array(numeros_congruencia)\n",
    "\n",
    "# Calculamos la media y la desviación estándar\n",
    "mu = np.mean(datos)\n",
    "print(f\"la media es: {mu}\")\n",
    "sigma = np.std(datos)\n",
    "print(f\"la desviación estandar es: {sigma}\")\n",
    "\n",
    "# Creamos un rango de valores x para la distribución normal\n",
    "x = np.linspace(mu - 3*sigma, mu + 3*sigma, 100)\n",
    "\n",
    "# Calculamos la distribución normal para los valores x\n",
    "y = (1/(sigma * np.sqrt(2 * np.pi))) * np.exp(-0.5 * ((x - mu)/sigma)**2)\n",
    "\n",
    "# Creamos un histograma de los datos\n",
    "n, bins, patches = plt.hist(datos, bins=10, density=True, color='lightblue', alpha=0.5)\n",
    "\n",
    "# Creamos la curva de distribución normal\n",
    "plt.plot(bins, 1/(sigma * np.sqrt(2 * np.pi)) *\n",
    "         np.exp(- (bins - mu)**2 / (2 * sigma**2)),\n",
    "         linewidth=2, color='red')\n",
    "\n",
    "# Configurar la leyenda\n",
    "plt.legend(['Distribución normal', 'Frecuencia'])\n",
    "\n",
    "# Mostrar el gráfico\n",
    "plt.show()"
   ]
  }
 ],
 "metadata": {
  "kernelspec": {
   "display_name": "venv",
   "language": "python",
   "name": "python3"
  },
  "language_info": {
   "codemirror_mode": {
    "name": "ipython",
    "version": 3
   },
   "file_extension": ".py",
   "mimetype": "text/x-python",
   "name": "python",
   "nbconvert_exporter": "python",
   "pygments_lexer": "ipython3",
   "version": "3.10.6"
  },
  "orig_nbformat": 4,
  "vscode": {
   "interpreter": {
    "hash": "b30b7e55ed2a9e89422417c81362aa9bc2751cab5052b411412700b7a27426bb"
   }
  }
 },
 "nbformat": 4,
 "nbformat_minor": 2
}
